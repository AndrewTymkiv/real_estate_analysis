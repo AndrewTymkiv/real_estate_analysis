{
 "metadata": {
  "language_info": {
   "codemirror_mode": {
    "name": "ipython",
    "version": 3
   },
   "file_extension": ".py",
   "mimetype": "text/x-python",
   "name": "python",
   "nbconvert_exporter": "python",
   "pygments_lexer": "ipython3",
   "version": "3.7.9"
  },
  "orig_nbformat": 2,
  "kernelspec": {
   "name": "mlenv",
   "display_name": "Python 3.7.9 64-bit ('mlenv': conda)"
  }
 },
 "nbformat": 4,
 "nbformat_minor": 2,
 "cells": [
  {
   "cell_type": "code",
   "execution_count": 21,
   "metadata": {},
   "outputs": [],
   "source": [
    "import pandas as pd\n",
    "from pathlib import Path\n",
    "import matplotlib.pyplot as plt\n",
    "from sklearn.linear_model import LinearRegression\n",
    "from sklearn.preprocessing import StandardScaler,OneHotEncoder\n",
    "from sklearn.model_selection import train_test_split\n",
    "import numpy as np\n",
    "from sklearn.metrics import mean_squared_error,r2_score "
   ]
  },
  {
   "cell_type": "code",
   "execution_count": 22,
   "metadata": {},
   "outputs": [
    {
     "output_type": "execute_result",
     "data": {
      "text/plain": [
       "   #  LSC    EC    St# Street Name  Abbr   Dir Municipality  Community  \\\n",
       "0  1  Sld  None   38.0   Scarsdale   Crt  None     Brampton  Bram West   \n",
       "1  2  Sld  None   55.0       Corby  Cres  None     Brampton  Bram West   \n",
       "2  3  Sld  None    7.0      Manett  Cres  None     Brampton  Bram West   \n",
       "3  4  Sld  None   76.0    Fairglen   Ave  None     Brampton  Bram West   \n",
       "4  5  Sld  None  121.0    Richwood  Cres  None     Brampton  Bram West   \n",
       "\n",
       "  List Price  ... Fam Kit Garage Type  A/C  Heat  Contract Date   Sold Date  \\\n",
       "0  $5,99,000  ...   N   1      Built-  Cen   Gas     16-03-2021  23-03-2021   \n",
       "1  $5,99,900  ...   N   1        None  Cen   Oil     23-02-2021  26-02-2021   \n",
       "2  $6,99,000  ...   N   1      Attach  Cen   Gas     21-01-2021  26-01-2021   \n",
       "3  $6,99,500  ...   N   1        None  Cen   Gas     16-03-2021  17-03-2021   \n",
       "4  $6,99,900  ...   N   1      Built-  Cen   Gas     21-02-2021  26-02-2021   \n",
       "\n",
       "   List Brokerage Co op Brokerage      MLS#  \n",
       "0     RE/MAX WEST   RE/MAX REALTY  W5153139  \n",
       "1     RE/MAX REAL   HOMELIFE/MIRA  W5125388  \n",
       "2     RE/MAX REAL   HOMELIFE/MIRA  W5091089  \n",
       "3     EXP REALTY,     ROYALSTARRE  W5153813  \n",
       "4     RE/MAX REAL    ROYAL LEPAGE  W5123258  \n",
       "\n",
       "[5 rows x 26 columns]"
      ],
      "text/html": "<div>\n<style scoped>\n    .dataframe tbody tr th:only-of-type {\n        vertical-align: middle;\n    }\n\n    .dataframe tbody tr th {\n        vertical-align: top;\n    }\n\n    .dataframe thead th {\n        text-align: right;\n    }\n</style>\n<table border=\"1\" class=\"dataframe\">\n  <thead>\n    <tr style=\"text-align: right;\">\n      <th></th>\n      <th>#</th>\n      <th>LSC</th>\n      <th>EC</th>\n      <th>St#</th>\n      <th>Street Name</th>\n      <th>Abbr</th>\n      <th>Dir</th>\n      <th>Municipality</th>\n      <th>Community</th>\n      <th>List Price</th>\n      <th>...</th>\n      <th>Fam</th>\n      <th>Kit</th>\n      <th>Garage Type</th>\n      <th>A/C</th>\n      <th>Heat</th>\n      <th>Contract Date</th>\n      <th>Sold Date</th>\n      <th>List Brokerage</th>\n      <th>Co op Brokerage</th>\n      <th>MLS#</th>\n    </tr>\n  </thead>\n  <tbody>\n    <tr>\n      <th>0</th>\n      <td>1</td>\n      <td>Sld</td>\n      <td>None</td>\n      <td>38.0</td>\n      <td>Scarsdale</td>\n      <td>Crt</td>\n      <td>None</td>\n      <td>Brampton</td>\n      <td>Bram West</td>\n      <td>$5,99,000</td>\n      <td>...</td>\n      <td>N</td>\n      <td>1</td>\n      <td>Built-</td>\n      <td>Cen</td>\n      <td>Gas</td>\n      <td>16-03-2021</td>\n      <td>23-03-2021</td>\n      <td>RE/MAX WEST</td>\n      <td>RE/MAX REALTY</td>\n      <td>W5153139</td>\n    </tr>\n    <tr>\n      <th>1</th>\n      <td>2</td>\n      <td>Sld</td>\n      <td>None</td>\n      <td>55.0</td>\n      <td>Corby</td>\n      <td>Cres</td>\n      <td>None</td>\n      <td>Brampton</td>\n      <td>Bram West</td>\n      <td>$5,99,900</td>\n      <td>...</td>\n      <td>N</td>\n      <td>1</td>\n      <td>None</td>\n      <td>Cen</td>\n      <td>Oil</td>\n      <td>23-02-2021</td>\n      <td>26-02-2021</td>\n      <td>RE/MAX REAL</td>\n      <td>HOMELIFE/MIRA</td>\n      <td>W5125388</td>\n    </tr>\n    <tr>\n      <th>2</th>\n      <td>3</td>\n      <td>Sld</td>\n      <td>None</td>\n      <td>7.0</td>\n      <td>Manett</td>\n      <td>Cres</td>\n      <td>None</td>\n      <td>Brampton</td>\n      <td>Bram West</td>\n      <td>$6,99,000</td>\n      <td>...</td>\n      <td>N</td>\n      <td>1</td>\n      <td>Attach</td>\n      <td>Cen</td>\n      <td>Gas</td>\n      <td>21-01-2021</td>\n      <td>26-01-2021</td>\n      <td>RE/MAX REAL</td>\n      <td>HOMELIFE/MIRA</td>\n      <td>W5091089</td>\n    </tr>\n    <tr>\n      <th>3</th>\n      <td>4</td>\n      <td>Sld</td>\n      <td>None</td>\n      <td>76.0</td>\n      <td>Fairglen</td>\n      <td>Ave</td>\n      <td>None</td>\n      <td>Brampton</td>\n      <td>Bram West</td>\n      <td>$6,99,500</td>\n      <td>...</td>\n      <td>N</td>\n      <td>1</td>\n      <td>None</td>\n      <td>Cen</td>\n      <td>Gas</td>\n      <td>16-03-2021</td>\n      <td>17-03-2021</td>\n      <td>EXP REALTY,</td>\n      <td>ROYALSTARRE</td>\n      <td>W5153813</td>\n    </tr>\n    <tr>\n      <th>4</th>\n      <td>5</td>\n      <td>Sld</td>\n      <td>None</td>\n      <td>121.0</td>\n      <td>Richwood</td>\n      <td>Cres</td>\n      <td>None</td>\n      <td>Brampton</td>\n      <td>Bram West</td>\n      <td>$6,99,900</td>\n      <td>...</td>\n      <td>N</td>\n      <td>1</td>\n      <td>Built-</td>\n      <td>Cen</td>\n      <td>Gas</td>\n      <td>21-02-2021</td>\n      <td>26-02-2021</td>\n      <td>RE/MAX REAL</td>\n      <td>ROYAL LEPAGE</td>\n      <td>W5123258</td>\n    </tr>\n  </tbody>\n</table>\n<p>5 rows × 26 columns</p>\n</div>"
     },
     "metadata": {},
     "execution_count": 22
    }
   ],
   "source": [
    "# Import and read the data into a DataFrame\n",
    "house_df = pd.read_sql_table('sold_homes', 'sqlite:///sold_homes.db').drop(columns=['index'])\n",
    "house_df.head()"
   ]
  },
  {
   "cell_type": "code",
   "execution_count": 23,
   "metadata": {},
   "outputs": [
    {
     "output_type": "execute_result",
     "data": {
      "text/plain": [
       "#                    int64\n",
       "LSC                 object\n",
       "EC                  object\n",
       "St#                float64\n",
       "Street Name         object\n",
       "Abbr                object\n",
       "Dir                 object\n",
       "Municipality        object\n",
       "Community           object\n",
       "List Price          object\n",
       "Sold Price          object\n",
       "Type                object\n",
       "Style               object\n",
       "Br                   int64\n",
       " \"+\"                 int64\n",
       "Wr                   int64\n",
       "Fam                 object\n",
       "Kit                  int64\n",
       "Garage Type         object\n",
       "A/C                 object\n",
       "Heat                object\n",
       "Contract Date       object\n",
       "Sold Date           object\n",
       "List Brokerage      object\n",
       "Co op Brokerage     object\n",
       "MLS#                object\n",
       "dtype: object"
      ]
     },
     "metadata": {},
     "execution_count": 23
    }
   ],
   "source": [
    "# Checking date data types of columns\n",
    "house_df.dtypes"
   ]
  },
  {
   "cell_type": "code",
   "execution_count": 24,
   "metadata": {},
   "outputs": [
    {
     "output_type": "execute_result",
     "data": {
      "text/plain": [
       "  List Price Sold Price        Type     Style  Br   \"+\"  Wr Fam  Kit  \\\n",
       "0  $5,99,000  $6,81,000  Att/Row/Tw  2-Storey   3     0   2   N    1   \n",
       "1  $5,99,900  $7,67,000  Semi-Detac  Bungalow   3     1   2   N    1   \n",
       "2  $6,99,000  $8,18,500  Att/Row/Tw  2-Storey   3     1   3   N    1   \n",
       "3  $6,99,500  $7,26,000  Semi-Detac  Bungalow   2     1   2   N    1   \n",
       "4  $6,99,900  $7,31,000  Att/Row/Tw  2-Storey   3     0   3   N    1   \n",
       "\n",
       "  Garage Type Contract Date   Sold Date  \n",
       "0      Built-    16-03-2021  23-03-2021  \n",
       "1        None    23-02-2021  26-02-2021  \n",
       "2      Attach    21-01-2021  26-01-2021  \n",
       "3        None    16-03-2021  17-03-2021  \n",
       "4      Built-    21-02-2021  26-02-2021  "
      ],
      "text/html": "<div>\n<style scoped>\n    .dataframe tbody tr th:only-of-type {\n        vertical-align: middle;\n    }\n\n    .dataframe tbody tr th {\n        vertical-align: top;\n    }\n\n    .dataframe thead th {\n        text-align: right;\n    }\n</style>\n<table border=\"1\" class=\"dataframe\">\n  <thead>\n    <tr style=\"text-align: right;\">\n      <th></th>\n      <th>List Price</th>\n      <th>Sold Price</th>\n      <th>Type</th>\n      <th>Style</th>\n      <th>Br</th>\n      <th>\"+\"</th>\n      <th>Wr</th>\n      <th>Fam</th>\n      <th>Kit</th>\n      <th>Garage Type</th>\n      <th>Contract Date</th>\n      <th>Sold Date</th>\n    </tr>\n  </thead>\n  <tbody>\n    <tr>\n      <th>0</th>\n      <td>$5,99,000</td>\n      <td>$6,81,000</td>\n      <td>Att/Row/Tw</td>\n      <td>2-Storey</td>\n      <td>3</td>\n      <td>0</td>\n      <td>2</td>\n      <td>N</td>\n      <td>1</td>\n      <td>Built-</td>\n      <td>16-03-2021</td>\n      <td>23-03-2021</td>\n    </tr>\n    <tr>\n      <th>1</th>\n      <td>$5,99,900</td>\n      <td>$7,67,000</td>\n      <td>Semi-Detac</td>\n      <td>Bungalow</td>\n      <td>3</td>\n      <td>1</td>\n      <td>2</td>\n      <td>N</td>\n      <td>1</td>\n      <td>None</td>\n      <td>23-02-2021</td>\n      <td>26-02-2021</td>\n    </tr>\n    <tr>\n      <th>2</th>\n      <td>$6,99,000</td>\n      <td>$8,18,500</td>\n      <td>Att/Row/Tw</td>\n      <td>2-Storey</td>\n      <td>3</td>\n      <td>1</td>\n      <td>3</td>\n      <td>N</td>\n      <td>1</td>\n      <td>Attach</td>\n      <td>21-01-2021</td>\n      <td>26-01-2021</td>\n    </tr>\n    <tr>\n      <th>3</th>\n      <td>$6,99,500</td>\n      <td>$7,26,000</td>\n      <td>Semi-Detac</td>\n      <td>Bungalow</td>\n      <td>2</td>\n      <td>1</td>\n      <td>2</td>\n      <td>N</td>\n      <td>1</td>\n      <td>None</td>\n      <td>16-03-2021</td>\n      <td>17-03-2021</td>\n    </tr>\n    <tr>\n      <th>4</th>\n      <td>$6,99,900</td>\n      <td>$7,31,000</td>\n      <td>Att/Row/Tw</td>\n      <td>2-Storey</td>\n      <td>3</td>\n      <td>0</td>\n      <td>3</td>\n      <td>N</td>\n      <td>1</td>\n      <td>Built-</td>\n      <td>21-02-2021</td>\n      <td>26-02-2021</td>\n    </tr>\n  </tbody>\n</table>\n</div>"
     },
     "metadata": {},
     "execution_count": 24
    }
   ],
   "source": [
    "# Drop the non-beneficial columns\n",
    "house_df = house_df.drop([\"#\",\"LSC\",\"EC\",\"St#\",\"Dir\",\"Municipality\",\"Community\",\"MLS#\",\"Abbr\",\"List Brokerage\",\"Co op Brokerage\",\"Street Name\",\"Heat\",\"A/C\"],1)\n",
    "house_df.head()"
   ]
  },
  {
   "cell_type": "code",
   "execution_count": 25,
   "metadata": {},
   "outputs": [
    {
     "output_type": "execute_result",
     "data": {
      "text/plain": [
       "   List Price  Sold Price        Type     Style  Br   \"+\"  Wr Fam  Kit  \\\n",
       "0      599000      681000  Att/Row/Tw  2-Storey   3     0   2   N    1   \n",
       "1      599900      767000  Semi-Detac  Bungalow   3     1   2   N    1   \n",
       "2      699000      818500  Att/Row/Tw  2-Storey   3     1   3   N    1   \n",
       "3      699500      726000  Semi-Detac  Bungalow   2     1   2   N    1   \n",
       "4      699900      731000  Att/Row/Tw  2-Storey   3     0   3   N    1   \n",
       "\n",
       "  Garage Type Contract Date   Sold Date  \n",
       "0      Built-    16-03-2021  23-03-2021  \n",
       "1        None    23-02-2021  26-02-2021  \n",
       "2      Attach    21-01-2021  26-01-2021  \n",
       "3        None    16-03-2021  17-03-2021  \n",
       "4      Built-    21-02-2021  26-02-2021  "
      ],
      "text/html": "<div>\n<style scoped>\n    .dataframe tbody tr th:only-of-type {\n        vertical-align: middle;\n    }\n\n    .dataframe tbody tr th {\n        vertical-align: top;\n    }\n\n    .dataframe thead th {\n        text-align: right;\n    }\n</style>\n<table border=\"1\" class=\"dataframe\">\n  <thead>\n    <tr style=\"text-align: right;\">\n      <th></th>\n      <th>List Price</th>\n      <th>Sold Price</th>\n      <th>Type</th>\n      <th>Style</th>\n      <th>Br</th>\n      <th>\"+\"</th>\n      <th>Wr</th>\n      <th>Fam</th>\n      <th>Kit</th>\n      <th>Garage Type</th>\n      <th>Contract Date</th>\n      <th>Sold Date</th>\n    </tr>\n  </thead>\n  <tbody>\n    <tr>\n      <th>0</th>\n      <td>599000</td>\n      <td>681000</td>\n      <td>Att/Row/Tw</td>\n      <td>2-Storey</td>\n      <td>3</td>\n      <td>0</td>\n      <td>2</td>\n      <td>N</td>\n      <td>1</td>\n      <td>Built-</td>\n      <td>16-03-2021</td>\n      <td>23-03-2021</td>\n    </tr>\n    <tr>\n      <th>1</th>\n      <td>599900</td>\n      <td>767000</td>\n      <td>Semi-Detac</td>\n      <td>Bungalow</td>\n      <td>3</td>\n      <td>1</td>\n      <td>2</td>\n      <td>N</td>\n      <td>1</td>\n      <td>None</td>\n      <td>23-02-2021</td>\n      <td>26-02-2021</td>\n    </tr>\n    <tr>\n      <th>2</th>\n      <td>699000</td>\n      <td>818500</td>\n      <td>Att/Row/Tw</td>\n      <td>2-Storey</td>\n      <td>3</td>\n      <td>1</td>\n      <td>3</td>\n      <td>N</td>\n      <td>1</td>\n      <td>Attach</td>\n      <td>21-01-2021</td>\n      <td>26-01-2021</td>\n    </tr>\n    <tr>\n      <th>3</th>\n      <td>699500</td>\n      <td>726000</td>\n      <td>Semi-Detac</td>\n      <td>Bungalow</td>\n      <td>2</td>\n      <td>1</td>\n      <td>2</td>\n      <td>N</td>\n      <td>1</td>\n      <td>None</td>\n      <td>16-03-2021</td>\n      <td>17-03-2021</td>\n    </tr>\n    <tr>\n      <th>4</th>\n      <td>699900</td>\n      <td>731000</td>\n      <td>Att/Row/Tw</td>\n      <td>2-Storey</td>\n      <td>3</td>\n      <td>0</td>\n      <td>3</td>\n      <td>N</td>\n      <td>1</td>\n      <td>Built-</td>\n      <td>21-02-2021</td>\n      <td>26-02-2021</td>\n    </tr>\n  </tbody>\n</table>\n</div>"
     },
     "metadata": {},
     "execution_count": 25
    }
   ],
   "source": [
    "# Converting \"List Price\" and \"Sold Price\" to float type\n",
    "house_df[\"List Price\"] = house_df[\"List Price\"].replace('[\\$,]', '', regex=True).astype(int)\n",
    "house_df[\"Sold Price\"] = house_df[\"Sold Price\"].replace('[\\$,]', '', regex=True).astype(int)\n",
    "house_df.head()"
   ]
  },
  {
   "cell_type": "code",
   "execution_count": 26,
   "metadata": {},
   "outputs": [
    {
     "output_type": "execute_result",
     "data": {
      "text/plain": [
       "   List Price  Sold Price        Type     Style  Br   \"+\"  Wr Fam  Kit  \\\n",
       "0      599000      681000  Att/Row/Tw  2-Storey   3     0   2   N    1   \n",
       "1      599900      767000  Semi-Detac  Bungalow   3     1   2   N    1   \n",
       "2      699000      818500  Att/Row/Tw  2-Storey   3     1   3   N    1   \n",
       "3      699500      726000  Semi-Detac  Bungalow   2     1   2   N    1   \n",
       "4      699900      731000  Att/Row/Tw  2-Storey   3     0   3   N    1   \n",
       "\n",
       "  Garage Type Contract Date  Sold Date  \n",
       "0      Built-    2021-03-16 2021-03-23  \n",
       "1        None    2021-02-23 2021-02-26  \n",
       "2      Attach    2021-01-21 2021-01-26  \n",
       "3        None    2021-03-16 2021-03-17  \n",
       "4      Built-    2021-02-21 2021-02-26  "
      ],
      "text/html": "<div>\n<style scoped>\n    .dataframe tbody tr th:only-of-type {\n        vertical-align: middle;\n    }\n\n    .dataframe tbody tr th {\n        vertical-align: top;\n    }\n\n    .dataframe thead th {\n        text-align: right;\n    }\n</style>\n<table border=\"1\" class=\"dataframe\">\n  <thead>\n    <tr style=\"text-align: right;\">\n      <th></th>\n      <th>List Price</th>\n      <th>Sold Price</th>\n      <th>Type</th>\n      <th>Style</th>\n      <th>Br</th>\n      <th>\"+\"</th>\n      <th>Wr</th>\n      <th>Fam</th>\n      <th>Kit</th>\n      <th>Garage Type</th>\n      <th>Contract Date</th>\n      <th>Sold Date</th>\n    </tr>\n  </thead>\n  <tbody>\n    <tr>\n      <th>0</th>\n      <td>599000</td>\n      <td>681000</td>\n      <td>Att/Row/Tw</td>\n      <td>2-Storey</td>\n      <td>3</td>\n      <td>0</td>\n      <td>2</td>\n      <td>N</td>\n      <td>1</td>\n      <td>Built-</td>\n      <td>2021-03-16</td>\n      <td>2021-03-23</td>\n    </tr>\n    <tr>\n      <th>1</th>\n      <td>599900</td>\n      <td>767000</td>\n      <td>Semi-Detac</td>\n      <td>Bungalow</td>\n      <td>3</td>\n      <td>1</td>\n      <td>2</td>\n      <td>N</td>\n      <td>1</td>\n      <td>None</td>\n      <td>2021-02-23</td>\n      <td>2021-02-26</td>\n    </tr>\n    <tr>\n      <th>2</th>\n      <td>699000</td>\n      <td>818500</td>\n      <td>Att/Row/Tw</td>\n      <td>2-Storey</td>\n      <td>3</td>\n      <td>1</td>\n      <td>3</td>\n      <td>N</td>\n      <td>1</td>\n      <td>Attach</td>\n      <td>2021-01-21</td>\n      <td>2021-01-26</td>\n    </tr>\n    <tr>\n      <th>3</th>\n      <td>699500</td>\n      <td>726000</td>\n      <td>Semi-Detac</td>\n      <td>Bungalow</td>\n      <td>2</td>\n      <td>1</td>\n      <td>2</td>\n      <td>N</td>\n      <td>1</td>\n      <td>None</td>\n      <td>2021-03-16</td>\n      <td>2021-03-17</td>\n    </tr>\n    <tr>\n      <th>4</th>\n      <td>699900</td>\n      <td>731000</td>\n      <td>Att/Row/Tw</td>\n      <td>2-Storey</td>\n      <td>3</td>\n      <td>0</td>\n      <td>3</td>\n      <td>N</td>\n      <td>1</td>\n      <td>Built-</td>\n      <td>2021-02-21</td>\n      <td>2021-02-26</td>\n    </tr>\n  </tbody>\n</table>\n</div>"
     },
     "metadata": {},
     "execution_count": 26
    }
   ],
   "source": [
    "# Convert \"Contract Date\" and \"Sold Date\" to datetime type\n",
    "house_df[\"Contract Date\"] = pd.to_datetime(house_df[\"Contract Date\"], format='%d-%m-%Y')\n",
    "house_df[\"Sold Date\"] = pd.to_datetime(house_df[\"Sold Date\"], format='%d-%m-%Y')\n",
    "house_df.head()"
   ]
  },
  {
   "cell_type": "code",
   "execution_count": 27,
   "metadata": {},
   "outputs": [
    {
     "output_type": "execute_result",
     "data": {
      "text/plain": [
       "List Price                int32\n",
       "Sold Price                int32\n",
       "Type                     object\n",
       "Style                    object\n",
       "Br                        int64\n",
       " \"+\"                      int64\n",
       "Wr                        int64\n",
       "Fam                      object\n",
       "Kit                       int64\n",
       "Garage Type              object\n",
       "Contract Date    datetime64[ns]\n",
       "Sold Date        datetime64[ns]\n",
       "dtype: object"
      ]
     },
     "metadata": {},
     "execution_count": 27
    }
   ],
   "source": [
    "house_df.dtypes"
   ]
  },
  {
   "cell_type": "code",
   "execution_count": 28,
   "metadata": {},
   "outputs": [
    {
     "output_type": "execute_result",
     "data": {
      "text/plain": [
       "Type           3\n",
       "Style          8\n",
       "Fam            3\n",
       "Garage Type    5\n",
       "dtype: int64"
      ]
     },
     "metadata": {},
     "execution_count": 28
    }
   ],
   "source": [
    "# Determine the number of unique values in each column\n",
    "house_cat = house_df.dtypes[house_df.dtypes == \"object\"].index.tolist()\n",
    "house_df[house_cat].nunique()"
   ]
  },
  {
   "cell_type": "code",
   "execution_count": 29,
   "metadata": {},
   "outputs": [
    {
     "output_type": "execute_result",
     "data": {
      "text/plain": [
       "   Type_Att/Row/Tw  Type_Detached  Type_Semi-Detac  Style_1 1/2 Stor  \\\n",
       "0              1.0            0.0              0.0               0.0   \n",
       "1              0.0            0.0              1.0               0.0   \n",
       "2              1.0            0.0              0.0               0.0   \n",
       "3              0.0            0.0              1.0               0.0   \n",
       "4              1.0            0.0              0.0               0.0   \n",
       "\n",
       "   Style_2-Storey  Style_3-Storey  Style_Backsplit  Style_Bungaloft  \\\n",
       "0             1.0             0.0              0.0              0.0   \n",
       "1             0.0             0.0              0.0              0.0   \n",
       "2             1.0             0.0              0.0              0.0   \n",
       "3             0.0             0.0              0.0              0.0   \n",
       "4             1.0             0.0              0.0              0.0   \n",
       "\n",
       "   Style_Bungalow  Style_Bungalow-R  Style_Sidesplit  Fam_   y  Fam_N  Fam_y  \\\n",
       "0             0.0               0.0              0.0       0.0    1.0    0.0   \n",
       "1             1.0               0.0              0.0       0.0    1.0    0.0   \n",
       "2             0.0               0.0              0.0       0.0    1.0    0.0   \n",
       "3             1.0               0.0              0.0       0.0    1.0    0.0   \n",
       "4             0.0               0.0              0.0       0.0    1.0    0.0   \n",
       "\n",
       "   Garage Type_Attach  Garage Type_Built-  Garage Type_Carpor  \\\n",
       "0                 0.0                 1.0                 0.0   \n",
       "1                 0.0                 0.0                 0.0   \n",
       "2                 1.0                 0.0                 0.0   \n",
       "3                 0.0                 0.0                 0.0   \n",
       "4                 0.0                 1.0                 0.0   \n",
       "\n",
       "   Garage Type_Detach  Garage Type_None  \n",
       "0                 0.0               0.0  \n",
       "1                 0.0               1.0  \n",
       "2                 0.0               0.0  \n",
       "3                 0.0               1.0  \n",
       "4                 0.0               0.0  "
      ],
      "text/html": "<div>\n<style scoped>\n    .dataframe tbody tr th:only-of-type {\n        vertical-align: middle;\n    }\n\n    .dataframe tbody tr th {\n        vertical-align: top;\n    }\n\n    .dataframe thead th {\n        text-align: right;\n    }\n</style>\n<table border=\"1\" class=\"dataframe\">\n  <thead>\n    <tr style=\"text-align: right;\">\n      <th></th>\n      <th>Type_Att/Row/Tw</th>\n      <th>Type_Detached</th>\n      <th>Type_Semi-Detac</th>\n      <th>Style_1 1/2 Stor</th>\n      <th>Style_2-Storey</th>\n      <th>Style_3-Storey</th>\n      <th>Style_Backsplit</th>\n      <th>Style_Bungaloft</th>\n      <th>Style_Bungalow</th>\n      <th>Style_Bungalow-R</th>\n      <th>Style_Sidesplit</th>\n      <th>Fam_   y</th>\n      <th>Fam_N</th>\n      <th>Fam_y</th>\n      <th>Garage Type_Attach</th>\n      <th>Garage Type_Built-</th>\n      <th>Garage Type_Carpor</th>\n      <th>Garage Type_Detach</th>\n      <th>Garage Type_None</th>\n    </tr>\n  </thead>\n  <tbody>\n    <tr>\n      <th>0</th>\n      <td>1.0</td>\n      <td>0.0</td>\n      <td>0.0</td>\n      <td>0.0</td>\n      <td>1.0</td>\n      <td>0.0</td>\n      <td>0.0</td>\n      <td>0.0</td>\n      <td>0.0</td>\n      <td>0.0</td>\n      <td>0.0</td>\n      <td>0.0</td>\n      <td>1.0</td>\n      <td>0.0</td>\n      <td>0.0</td>\n      <td>1.0</td>\n      <td>0.0</td>\n      <td>0.0</td>\n      <td>0.0</td>\n    </tr>\n    <tr>\n      <th>1</th>\n      <td>0.0</td>\n      <td>0.0</td>\n      <td>1.0</td>\n      <td>0.0</td>\n      <td>0.0</td>\n      <td>0.0</td>\n      <td>0.0</td>\n      <td>0.0</td>\n      <td>1.0</td>\n      <td>0.0</td>\n      <td>0.0</td>\n      <td>0.0</td>\n      <td>1.0</td>\n      <td>0.0</td>\n      <td>0.0</td>\n      <td>0.0</td>\n      <td>0.0</td>\n      <td>0.0</td>\n      <td>1.0</td>\n    </tr>\n    <tr>\n      <th>2</th>\n      <td>1.0</td>\n      <td>0.0</td>\n      <td>0.0</td>\n      <td>0.0</td>\n      <td>1.0</td>\n      <td>0.0</td>\n      <td>0.0</td>\n      <td>0.0</td>\n      <td>0.0</td>\n      <td>0.0</td>\n      <td>0.0</td>\n      <td>0.0</td>\n      <td>1.0</td>\n      <td>0.0</td>\n      <td>1.0</td>\n      <td>0.0</td>\n      <td>0.0</td>\n      <td>0.0</td>\n      <td>0.0</td>\n    </tr>\n    <tr>\n      <th>3</th>\n      <td>0.0</td>\n      <td>0.0</td>\n      <td>1.0</td>\n      <td>0.0</td>\n      <td>0.0</td>\n      <td>0.0</td>\n      <td>0.0</td>\n      <td>0.0</td>\n      <td>1.0</td>\n      <td>0.0</td>\n      <td>0.0</td>\n      <td>0.0</td>\n      <td>1.0</td>\n      <td>0.0</td>\n      <td>0.0</td>\n      <td>0.0</td>\n      <td>0.0</td>\n      <td>0.0</td>\n      <td>1.0</td>\n    </tr>\n    <tr>\n      <th>4</th>\n      <td>1.0</td>\n      <td>0.0</td>\n      <td>0.0</td>\n      <td>0.0</td>\n      <td>1.0</td>\n      <td>0.0</td>\n      <td>0.0</td>\n      <td>0.0</td>\n      <td>0.0</td>\n      <td>0.0</td>\n      <td>0.0</td>\n      <td>0.0</td>\n      <td>1.0</td>\n      <td>0.0</td>\n      <td>0.0</td>\n      <td>1.0</td>\n      <td>0.0</td>\n      <td>0.0</td>\n      <td>0.0</td>\n    </tr>\n  </tbody>\n</table>\n</div>"
     },
     "metadata": {},
     "execution_count": 29
    }
   ],
   "source": [
    "# Create a OneHotEncoder instance\n",
    "enc = OneHotEncoder(sparse=False)\n",
    "\n",
    "# Fit and transform the OneHotEncoder using the categorical variable list\n",
    "encode_df = pd.DataFrame(enc.fit_transform(house_df[house_cat]))\n",
    "\n",
    "# Add the encoded variable names to the dataframe\n",
    "encode_df.columns = enc.get_feature_names(house_cat)\n",
    "encode_df.head()"
   ]
  },
  {
   "cell_type": "code",
   "execution_count": 30,
   "metadata": {},
   "outputs": [
    {
     "output_type": "execute_result",
     "data": {
      "text/plain": [
       "   List Price  Sold Price  Br   \"+\"  Wr  Kit Contract Date  Sold Date  \\\n",
       "0      599000      681000   3     0   2    1    2021-03-16 2021-03-23   \n",
       "1      599900      767000   3     1   2    1    2021-02-23 2021-02-26   \n",
       "2      699000      818500   3     1   3    1    2021-01-21 2021-01-26   \n",
       "3      699500      726000   2     1   2    1    2021-03-16 2021-03-17   \n",
       "4      699900      731000   3     0   3    1    2021-02-21 2021-02-26   \n",
       "\n",
       "   Type_Att/Row/Tw  Type_Detached  ...  Style_Bungalow-R  Style_Sidesplit  \\\n",
       "0              1.0            0.0  ...               0.0              0.0   \n",
       "1              0.0            0.0  ...               0.0              0.0   \n",
       "2              1.0            0.0  ...               0.0              0.0   \n",
       "3              0.0            0.0  ...               0.0              0.0   \n",
       "4              1.0            0.0  ...               0.0              0.0   \n",
       "\n",
       "   Fam_   y  Fam_N  Fam_y  Garage Type_Attach  Garage Type_Built-  \\\n",
       "0       0.0    1.0    0.0                 0.0                 1.0   \n",
       "1       0.0    1.0    0.0                 0.0                 0.0   \n",
       "2       0.0    1.0    0.0                 1.0                 0.0   \n",
       "3       0.0    1.0    0.0                 0.0                 0.0   \n",
       "4       0.0    1.0    0.0                 0.0                 1.0   \n",
       "\n",
       "   Garage Type_Carpor  Garage Type_Detach  Garage Type_None  \n",
       "0                 0.0                 0.0               0.0  \n",
       "1                 0.0                 0.0               1.0  \n",
       "2                 0.0                 0.0               0.0  \n",
       "3                 0.0                 0.0               1.0  \n",
       "4                 0.0                 0.0               0.0  \n",
       "\n",
       "[5 rows x 27 columns]"
      ],
      "text/html": "<div>\n<style scoped>\n    .dataframe tbody tr th:only-of-type {\n        vertical-align: middle;\n    }\n\n    .dataframe tbody tr th {\n        vertical-align: top;\n    }\n\n    .dataframe thead th {\n        text-align: right;\n    }\n</style>\n<table border=\"1\" class=\"dataframe\">\n  <thead>\n    <tr style=\"text-align: right;\">\n      <th></th>\n      <th>List Price</th>\n      <th>Sold Price</th>\n      <th>Br</th>\n      <th>\"+\"</th>\n      <th>Wr</th>\n      <th>Kit</th>\n      <th>Contract Date</th>\n      <th>Sold Date</th>\n      <th>Type_Att/Row/Tw</th>\n      <th>Type_Detached</th>\n      <th>...</th>\n      <th>Style_Bungalow-R</th>\n      <th>Style_Sidesplit</th>\n      <th>Fam_   y</th>\n      <th>Fam_N</th>\n      <th>Fam_y</th>\n      <th>Garage Type_Attach</th>\n      <th>Garage Type_Built-</th>\n      <th>Garage Type_Carpor</th>\n      <th>Garage Type_Detach</th>\n      <th>Garage Type_None</th>\n    </tr>\n  </thead>\n  <tbody>\n    <tr>\n      <th>0</th>\n      <td>599000</td>\n      <td>681000</td>\n      <td>3</td>\n      <td>0</td>\n      <td>2</td>\n      <td>1</td>\n      <td>2021-03-16</td>\n      <td>2021-03-23</td>\n      <td>1.0</td>\n      <td>0.0</td>\n      <td>...</td>\n      <td>0.0</td>\n      <td>0.0</td>\n      <td>0.0</td>\n      <td>1.0</td>\n      <td>0.0</td>\n      <td>0.0</td>\n      <td>1.0</td>\n      <td>0.0</td>\n      <td>0.0</td>\n      <td>0.0</td>\n    </tr>\n    <tr>\n      <th>1</th>\n      <td>599900</td>\n      <td>767000</td>\n      <td>3</td>\n      <td>1</td>\n      <td>2</td>\n      <td>1</td>\n      <td>2021-02-23</td>\n      <td>2021-02-26</td>\n      <td>0.0</td>\n      <td>0.0</td>\n      <td>...</td>\n      <td>0.0</td>\n      <td>0.0</td>\n      <td>0.0</td>\n      <td>1.0</td>\n      <td>0.0</td>\n      <td>0.0</td>\n      <td>0.0</td>\n      <td>0.0</td>\n      <td>0.0</td>\n      <td>1.0</td>\n    </tr>\n    <tr>\n      <th>2</th>\n      <td>699000</td>\n      <td>818500</td>\n      <td>3</td>\n      <td>1</td>\n      <td>3</td>\n      <td>1</td>\n      <td>2021-01-21</td>\n      <td>2021-01-26</td>\n      <td>1.0</td>\n      <td>0.0</td>\n      <td>...</td>\n      <td>0.0</td>\n      <td>0.0</td>\n      <td>0.0</td>\n      <td>1.0</td>\n      <td>0.0</td>\n      <td>1.0</td>\n      <td>0.0</td>\n      <td>0.0</td>\n      <td>0.0</td>\n      <td>0.0</td>\n    </tr>\n    <tr>\n      <th>3</th>\n      <td>699500</td>\n      <td>726000</td>\n      <td>2</td>\n      <td>1</td>\n      <td>2</td>\n      <td>1</td>\n      <td>2021-03-16</td>\n      <td>2021-03-17</td>\n      <td>0.0</td>\n      <td>0.0</td>\n      <td>...</td>\n      <td>0.0</td>\n      <td>0.0</td>\n      <td>0.0</td>\n      <td>1.0</td>\n      <td>0.0</td>\n      <td>0.0</td>\n      <td>0.0</td>\n      <td>0.0</td>\n      <td>0.0</td>\n      <td>1.0</td>\n    </tr>\n    <tr>\n      <th>4</th>\n      <td>699900</td>\n      <td>731000</td>\n      <td>3</td>\n      <td>0</td>\n      <td>3</td>\n      <td>1</td>\n      <td>2021-02-21</td>\n      <td>2021-02-26</td>\n      <td>1.0</td>\n      <td>0.0</td>\n      <td>...</td>\n      <td>0.0</td>\n      <td>0.0</td>\n      <td>0.0</td>\n      <td>1.0</td>\n      <td>0.0</td>\n      <td>0.0</td>\n      <td>1.0</td>\n      <td>0.0</td>\n      <td>0.0</td>\n      <td>0.0</td>\n    </tr>\n  </tbody>\n</table>\n<p>5 rows × 27 columns</p>\n</div>"
     },
     "metadata": {},
     "execution_count": 30
    }
   ],
   "source": [
    "# Merge one-hot encoded features and drop the originals\n",
    "house_df = house_df.merge(encode_df,left_index=True, right_index=True)\n",
    "house_df = house_df.drop(house_cat,1)\n",
    "house_df.head()"
   ]
  },
  {
   "cell_type": "code",
   "execution_count": 31,
   "metadata": {},
   "outputs": [],
   "source": [
    "# Converting the 'Contract Date' and 'Sold Date' to interger type\n",
    "house_df['Contract Date'] = house_df['Contract Date'].dt.strftime(\"%d%m%Y\").astype(int) \n",
    "house_df['Sold Date'] = house_df['Sold Date'].dt.strftime(\"%d%m%Y\").astype(int)"
   ]
  },
  {
   "cell_type": "code",
   "execution_count": 32,
   "metadata": {},
   "outputs": [
    {
     "output_type": "execute_result",
     "data": {
      "text/plain": [
       "     List Price  Sold Price        Br       \"+\"        Wr       Kit  \\\n",
       "0     -1.448810   -1.461507 -1.042931 -0.987865 -2.037981 -0.100759   \n",
       "1     -1.446766   -1.255993 -1.042931  0.203560 -2.037981 -0.100759   \n",
       "2     -1.221686   -1.132923 -1.042931  0.203560 -1.046396 -0.100759   \n",
       "3     -1.220550   -1.353971 -2.484203  0.203560 -2.037981 -0.100759   \n",
       "4     -1.219642   -1.342022 -1.042931 -0.987865 -1.046396 -0.100759   \n",
       "..          ...         ...       ...       ...       ...       ...   \n",
       "194    2.410032    2.402649  1.839614 -0.987865  0.936774 -0.100759   \n",
       "195    2.866552    2.526914 -1.042931 -0.987865 -1.046396 -0.100759   \n",
       "196    2.868823    2.538862  0.398342  1.394985  0.936774 -0.100759   \n",
       "197    3.298088    3.064598  0.398342  0.203560  0.936774 -0.100759   \n",
       "198    4.435979    4.952466  1.839614 -0.987865 -0.054811 -0.100759   \n",
       "\n",
       "     Contract Date  Sold Date  Type_Att/Row/Tw  Type_Detached  ...  \\\n",
       "0        -0.009537   0.877201         1.849925      -1.372610  ...   \n",
       "1         0.789656   1.207708        -0.540562      -1.372610  ...   \n",
       "2         0.559845   1.206603         1.849925      -1.372610  ...   \n",
       "3        -0.009537   0.213976        -0.540562      -1.372610  ...   \n",
       "4         0.560989   1.207708         1.849925      -1.372610  ...   \n",
       "..             ...        ...              ...            ...  ...   \n",
       "194       1.705470  -1.442981        -0.540562       0.728539  ...   \n",
       "195       1.257282  -0.008204        -0.540562       0.728539  ...   \n",
       "196       1.363612  -1.331338        -0.540562       0.728539  ...   \n",
       "197       0.104796   0.656126        -0.540562       0.728539  ...   \n",
       "198       1.601426  -1.556835        -0.540562       0.728539  ...   \n",
       "\n",
       "     Style_Bungalow-R  Style_Sidesplit  Fam_   y     Fam_N     Fam_y  \\\n",
       "0           -0.100759        -0.071067 -0.071067  1.876893 -1.849925   \n",
       "1           -0.100759        -0.071067 -0.071067  1.876893 -1.849925   \n",
       "2           -0.100759        -0.071067 -0.071067  1.876893 -1.849925   \n",
       "3           -0.100759        -0.071067 -0.071067  1.876893 -1.849925   \n",
       "4           -0.100759        -0.071067 -0.071067  1.876893 -1.849925   \n",
       "..                ...              ...       ...       ...       ...   \n",
       "194         -0.100759        -0.071067 -0.071067 -0.532795  0.540562   \n",
       "195         -0.100759        -0.071067 -0.071067  1.876893 -1.849925   \n",
       "196         -0.100759        -0.071067 -0.071067 -0.532795  0.540562   \n",
       "197         -0.100759        -0.071067 -0.071067 -0.532795  0.540562   \n",
       "198         -0.100759        -0.071067 -0.071067 -0.532795  0.540562   \n",
       "\n",
       "     Garage Type_Attach  Garage Type_Built-  Garage Type_Carpor  \\\n",
       "0             -0.975182            1.078445           -0.071067   \n",
       "1             -0.975182           -0.927261           -0.071067   \n",
       "2              1.025449           -0.927261           -0.071067   \n",
       "3             -0.975182           -0.927261           -0.071067   \n",
       "4             -0.975182            1.078445           -0.071067   \n",
       "..                  ...                 ...                 ...   \n",
       "194           -0.975182            1.078445           -0.071067   \n",
       "195           -0.975182           -0.927261           -0.071067   \n",
       "196           -0.975182            1.078445           -0.071067   \n",
       "197            1.025449           -0.927261           -0.071067   \n",
       "198            1.025449           -0.927261           -0.071067   \n",
       "\n",
       "     Garage Type_Detach  Garage Type_None  \n",
       "0             -0.176318         -0.123718  \n",
       "1             -0.176318          8.082904  \n",
       "2             -0.176318         -0.123718  \n",
       "3             -0.176318          8.082904  \n",
       "4             -0.176318         -0.123718  \n",
       "..                  ...               ...  \n",
       "194           -0.176318         -0.123718  \n",
       "195            5.671567         -0.123718  \n",
       "196           -0.176318         -0.123718  \n",
       "197           -0.176318         -0.123718  \n",
       "198           -0.176318         -0.123718  \n",
       "\n",
       "[199 rows x 27 columns]"
      ],
      "text/html": "<div>\n<style scoped>\n    .dataframe tbody tr th:only-of-type {\n        vertical-align: middle;\n    }\n\n    .dataframe tbody tr th {\n        vertical-align: top;\n    }\n\n    .dataframe thead th {\n        text-align: right;\n    }\n</style>\n<table border=\"1\" class=\"dataframe\">\n  <thead>\n    <tr style=\"text-align: right;\">\n      <th></th>\n      <th>List Price</th>\n      <th>Sold Price</th>\n      <th>Br</th>\n      <th>\"+\"</th>\n      <th>Wr</th>\n      <th>Kit</th>\n      <th>Contract Date</th>\n      <th>Sold Date</th>\n      <th>Type_Att/Row/Tw</th>\n      <th>Type_Detached</th>\n      <th>...</th>\n      <th>Style_Bungalow-R</th>\n      <th>Style_Sidesplit</th>\n      <th>Fam_   y</th>\n      <th>Fam_N</th>\n      <th>Fam_y</th>\n      <th>Garage Type_Attach</th>\n      <th>Garage Type_Built-</th>\n      <th>Garage Type_Carpor</th>\n      <th>Garage Type_Detach</th>\n      <th>Garage Type_None</th>\n    </tr>\n  </thead>\n  <tbody>\n    <tr>\n      <th>0</th>\n      <td>-1.448810</td>\n      <td>-1.461507</td>\n      <td>-1.042931</td>\n      <td>-0.987865</td>\n      <td>-2.037981</td>\n      <td>-0.100759</td>\n      <td>-0.009537</td>\n      <td>0.877201</td>\n      <td>1.849925</td>\n      <td>-1.372610</td>\n      <td>...</td>\n      <td>-0.100759</td>\n      <td>-0.071067</td>\n      <td>-0.071067</td>\n      <td>1.876893</td>\n      <td>-1.849925</td>\n      <td>-0.975182</td>\n      <td>1.078445</td>\n      <td>-0.071067</td>\n      <td>-0.176318</td>\n      <td>-0.123718</td>\n    </tr>\n    <tr>\n      <th>1</th>\n      <td>-1.446766</td>\n      <td>-1.255993</td>\n      <td>-1.042931</td>\n      <td>0.203560</td>\n      <td>-2.037981</td>\n      <td>-0.100759</td>\n      <td>0.789656</td>\n      <td>1.207708</td>\n      <td>-0.540562</td>\n      <td>-1.372610</td>\n      <td>...</td>\n      <td>-0.100759</td>\n      <td>-0.071067</td>\n      <td>-0.071067</td>\n      <td>1.876893</td>\n      <td>-1.849925</td>\n      <td>-0.975182</td>\n      <td>-0.927261</td>\n      <td>-0.071067</td>\n      <td>-0.176318</td>\n      <td>8.082904</td>\n    </tr>\n    <tr>\n      <th>2</th>\n      <td>-1.221686</td>\n      <td>-1.132923</td>\n      <td>-1.042931</td>\n      <td>0.203560</td>\n      <td>-1.046396</td>\n      <td>-0.100759</td>\n      <td>0.559845</td>\n      <td>1.206603</td>\n      <td>1.849925</td>\n      <td>-1.372610</td>\n      <td>...</td>\n      <td>-0.100759</td>\n      <td>-0.071067</td>\n      <td>-0.071067</td>\n      <td>1.876893</td>\n      <td>-1.849925</td>\n      <td>1.025449</td>\n      <td>-0.927261</td>\n      <td>-0.071067</td>\n      <td>-0.176318</td>\n      <td>-0.123718</td>\n    </tr>\n    <tr>\n      <th>3</th>\n      <td>-1.220550</td>\n      <td>-1.353971</td>\n      <td>-2.484203</td>\n      <td>0.203560</td>\n      <td>-2.037981</td>\n      <td>-0.100759</td>\n      <td>-0.009537</td>\n      <td>0.213976</td>\n      <td>-0.540562</td>\n      <td>-1.372610</td>\n      <td>...</td>\n      <td>-0.100759</td>\n      <td>-0.071067</td>\n      <td>-0.071067</td>\n      <td>1.876893</td>\n      <td>-1.849925</td>\n      <td>-0.975182</td>\n      <td>-0.927261</td>\n      <td>-0.071067</td>\n      <td>-0.176318</td>\n      <td>8.082904</td>\n    </tr>\n    <tr>\n      <th>4</th>\n      <td>-1.219642</td>\n      <td>-1.342022</td>\n      <td>-1.042931</td>\n      <td>-0.987865</td>\n      <td>-1.046396</td>\n      <td>-0.100759</td>\n      <td>0.560989</td>\n      <td>1.207708</td>\n      <td>1.849925</td>\n      <td>-1.372610</td>\n      <td>...</td>\n      <td>-0.100759</td>\n      <td>-0.071067</td>\n      <td>-0.071067</td>\n      <td>1.876893</td>\n      <td>-1.849925</td>\n      <td>-0.975182</td>\n      <td>1.078445</td>\n      <td>-0.071067</td>\n      <td>-0.176318</td>\n      <td>-0.123718</td>\n    </tr>\n    <tr>\n      <th>...</th>\n      <td>...</td>\n      <td>...</td>\n      <td>...</td>\n      <td>...</td>\n      <td>...</td>\n      <td>...</td>\n      <td>...</td>\n      <td>...</td>\n      <td>...</td>\n      <td>...</td>\n      <td>...</td>\n      <td>...</td>\n      <td>...</td>\n      <td>...</td>\n      <td>...</td>\n      <td>...</td>\n      <td>...</td>\n      <td>...</td>\n      <td>...</td>\n      <td>...</td>\n      <td>...</td>\n    </tr>\n    <tr>\n      <th>194</th>\n      <td>2.410032</td>\n      <td>2.402649</td>\n      <td>1.839614</td>\n      <td>-0.987865</td>\n      <td>0.936774</td>\n      <td>-0.100759</td>\n      <td>1.705470</td>\n      <td>-1.442981</td>\n      <td>-0.540562</td>\n      <td>0.728539</td>\n      <td>...</td>\n      <td>-0.100759</td>\n      <td>-0.071067</td>\n      <td>-0.071067</td>\n      <td>-0.532795</td>\n      <td>0.540562</td>\n      <td>-0.975182</td>\n      <td>1.078445</td>\n      <td>-0.071067</td>\n      <td>-0.176318</td>\n      <td>-0.123718</td>\n    </tr>\n    <tr>\n      <th>195</th>\n      <td>2.866552</td>\n      <td>2.526914</td>\n      <td>-1.042931</td>\n      <td>-0.987865</td>\n      <td>-1.046396</td>\n      <td>-0.100759</td>\n      <td>1.257282</td>\n      <td>-0.008204</td>\n      <td>-0.540562</td>\n      <td>0.728539</td>\n      <td>...</td>\n      <td>-0.100759</td>\n      <td>-0.071067</td>\n      <td>-0.071067</td>\n      <td>1.876893</td>\n      <td>-1.849925</td>\n      <td>-0.975182</td>\n      <td>-0.927261</td>\n      <td>-0.071067</td>\n      <td>5.671567</td>\n      <td>-0.123718</td>\n    </tr>\n    <tr>\n      <th>196</th>\n      <td>2.868823</td>\n      <td>2.538862</td>\n      <td>0.398342</td>\n      <td>1.394985</td>\n      <td>0.936774</td>\n      <td>-0.100759</td>\n      <td>1.363612</td>\n      <td>-1.331338</td>\n      <td>-0.540562</td>\n      <td>0.728539</td>\n      <td>...</td>\n      <td>-0.100759</td>\n      <td>-0.071067</td>\n      <td>-0.071067</td>\n      <td>-0.532795</td>\n      <td>0.540562</td>\n      <td>-0.975182</td>\n      <td>1.078445</td>\n      <td>-0.071067</td>\n      <td>-0.176318</td>\n      <td>-0.123718</td>\n    </tr>\n    <tr>\n      <th>197</th>\n      <td>3.298088</td>\n      <td>3.064598</td>\n      <td>0.398342</td>\n      <td>0.203560</td>\n      <td>0.936774</td>\n      <td>-0.100759</td>\n      <td>0.104796</td>\n      <td>0.656126</td>\n      <td>-0.540562</td>\n      <td>0.728539</td>\n      <td>...</td>\n      <td>-0.100759</td>\n      <td>-0.071067</td>\n      <td>-0.071067</td>\n      <td>-0.532795</td>\n      <td>0.540562</td>\n      <td>1.025449</td>\n      <td>-0.927261</td>\n      <td>-0.071067</td>\n      <td>-0.176318</td>\n      <td>-0.123718</td>\n    </tr>\n    <tr>\n      <th>198</th>\n      <td>4.435979</td>\n      <td>4.952466</td>\n      <td>1.839614</td>\n      <td>-0.987865</td>\n      <td>-0.054811</td>\n      <td>-0.100759</td>\n      <td>1.601426</td>\n      <td>-1.556835</td>\n      <td>-0.540562</td>\n      <td>0.728539</td>\n      <td>...</td>\n      <td>-0.100759</td>\n      <td>-0.071067</td>\n      <td>-0.071067</td>\n      <td>-0.532795</td>\n      <td>0.540562</td>\n      <td>1.025449</td>\n      <td>-0.927261</td>\n      <td>-0.071067</td>\n      <td>-0.176318</td>\n      <td>-0.123718</td>\n    </tr>\n  </tbody>\n</table>\n<p>199 rows × 27 columns</p>\n</div>"
     },
     "metadata": {},
     "execution_count": 32
    }
   ],
   "source": [
    "# Scaling the data using StandardScaler()\n",
    "data_scaler = StandardScaler()\n",
    "house_data_scaled = data_scaler.fit_transform(house_df)\n",
    "house_df_scaled = pd.DataFrame(data=house_data_scaled,index=house_df.index,columns=house_df.columns)\n",
    "house_df_scaled"
   ]
  },
  {
   "cell_type": "code",
   "execution_count": 33,
   "metadata": {},
   "outputs": [],
   "source": [
    "# Split our preprocessed data into our features and target arrays\n",
    "y = house_df_scaled[\"Sold Price\"].values.reshape(-1, 1)\n",
    "X = house_df_scaled.drop(columns=[\"Sold Price\"]).values\n",
    "\n",
    "# Split the preprocessed data into a training and testing dataset\n",
    "X_train, X_test, y_train, y_test = train_test_split(X, y, random_state=42)"
   ]
  },
  {
   "cell_type": "code",
   "execution_count": 34,
   "metadata": {},
   "outputs": [
    {
     "output_type": "execute_result",
     "data": {
      "text/plain": [
       "LinearRegression()"
      ]
     },
     "metadata": {},
     "execution_count": 34
    }
   ],
   "source": [
    "# Create a model with scikit-learn and fit the data in the model\n",
    "model = LinearRegression()\n",
    "model.fit(X_train, y_train)"
   ]
  },
  {
   "cell_type": "code",
   "execution_count": 35,
   "metadata": {},
   "outputs": [
    {
     "output_type": "stream",
     "name": "stdout",
     "text": [
      "(50, 1)\n"
     ]
    }
   ],
   "source": [
    "# The model creates predicted y values based on X values\n",
    "y_pred = model.predict(X_test)\n",
    "print(y_pred.shape)"
   ]
  },
  {
   "cell_type": "code",
   "execution_count": 37,
   "metadata": {},
   "outputs": [
    {
     "output_type": "stream",
     "name": "stdout",
     "text": [
      "coefficient of determination: 0.970580097301931\n"
     ]
    }
   ],
   "source": [
    "# Calculating R2 score or coefficient of determination (The closer 1, the better the fit)\n",
    "test_set_r2 = r2_score(y_test, y_pred)\n",
    "print('coefficient of determination:',test_set_r2)"
   ]
  },
  {
   "cell_type": "code",
   "execution_count": 42,
   "metadata": {},
   "outputs": [
    {
     "output_type": "stream",
     "name": "stdout",
     "text": [
      "Mean Squared Error 0.144161757219068\n"
     ]
    }
   ],
   "source": [
    "# Calculating RMSE or root mean square error (the lower value is, the better the fit)\n",
    "rmse = (np.sqrt(mean_squared_error(y_test, y_pred)))\n",
    "print(\"Mean Squared Error {}\".format(rmse))"
   ]
  },
  {
   "cell_type": "code",
   "execution_count": null,
   "metadata": {},
   "outputs": [],
   "source": []
  }
 ]
}