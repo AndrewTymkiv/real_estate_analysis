{
 "metadata": {
  "language_info": {
   "codemirror_mode": {
    "name": "ipython",
    "version": 3
   },
   "file_extension": ".py",
   "mimetype": "text/x-python",
   "name": "python",
   "nbconvert_exporter": "python",
   "pygments_lexer": "ipython3",
   "version": "3.7.9"
  },
  "orig_nbformat": 2,
  "kernelspec": {
   "name": "mlenv",
   "display_name": "Python 3.7.9 64-bit ('mlenv': conda)"
  }
 },
 "nbformat": 4,
 "nbformat_minor": 2,
 "cells": [
  {
   "cell_type": "code",
   "execution_count": 21,
   "metadata": {},
   "outputs": [],
   "source": [
    "import pandas as pd\n",
    "from pathlib import Path\n",
    "import matplotlib.pyplot as plt\n",
    "from sklearn.linear_model import LinearRegression\n",
    "from sklearn.preprocessing import StandardScaler,OneHotEncoder\n",
    "from sklearn.model_selection import train_test_split\n",
    "import numpy as np\n",
    "from sklearn.metrics import mean_squared_error,r2_score "
   ]
  },
  {
   "source": [
    "### Multiple Linear Regression Machine Learning Model\n",
    "#### We are creating a multiple linear regression machine learning model to predict \"Sold Price\" based on type, style, features, list price, date, and some other parameters. "
   ],
   "cell_type": "markdown",
   "metadata": {}
  },
  {
   "cell_type": "code",
   "execution_count": 22,
   "metadata": {},
   "outputs": [
    {
     "output_type": "execute_result",
     "data": {
      "text/plain": [
       "   #  LSC    EC    St# Street Name  Abbr   Dir Municipality  Community  \\\n",
       "0  1  Sld  None   38.0   Scarsdale   Crt  None     Brampton  Bram West   \n",
       "1  2  Sld  None   55.0       Corby  Cres  None     Brampton  Bram West   \n",
       "2  3  Sld  None    7.0      Manett  Cres  None     Brampton  Bram West   \n",
       "3  4  Sld  None   76.0    Fairglen   Ave  None     Brampton  Bram West   \n",
       "4  5  Sld  None  121.0    Richwood  Cres  None     Brampton  Bram West   \n",
       "\n",
       "  List Price  ... Fam Kit Garage Type  A/C  Heat  Contract Date   Sold Date  \\\n",
       "0  $5,99,000  ...   N   1      Built-  Cen   Gas     16-03-2021  23-03-2021   \n",
       "1  $5,99,900  ...   N   1        None  Cen   Oil     23-02-2021  26-02-2021   \n",
       "2  $6,99,000  ...   N   1      Attach  Cen   Gas     21-01-2021  26-01-2021   \n",
       "3  $6,99,500  ...   N   1        None  Cen   Gas     16-03-2021  17-03-2021   \n",
       "4  $6,99,900  ...   N   1      Built-  Cen   Gas     21-02-2021  26-02-2021   \n",
       "\n",
       "   List Brokerage Co op Brokerage      MLS#  \n",
       "0     RE/MAX WEST   RE/MAX REALTY  W5153139  \n",
       "1     RE/MAX REAL   HOMELIFE/MIRA  W5125388  \n",
       "2     RE/MAX REAL   HOMELIFE/MIRA  W5091089  \n",
       "3     EXP REALTY,     ROYALSTARRE  W5153813  \n",
       "4     RE/MAX REAL    ROYAL LEPAGE  W5123258  \n",
       "\n",
       "[5 rows x 26 columns]"
      ],
      "text/html": "<div>\n<style scoped>\n    .dataframe tbody tr th:only-of-type {\n        vertical-align: middle;\n    }\n\n    .dataframe tbody tr th {\n        vertical-align: top;\n    }\n\n    .dataframe thead th {\n        text-align: right;\n    }\n</style>\n<table border=\"1\" class=\"dataframe\">\n  <thead>\n    <tr style=\"text-align: right;\">\n      <th></th>\n      <th>#</th>\n      <th>LSC</th>\n      <th>EC</th>\n      <th>St#</th>\n      <th>Street Name</th>\n      <th>Abbr</th>\n      <th>Dir</th>\n      <th>Municipality</th>\n      <th>Community</th>\n      <th>List Price</th>\n      <th>...</th>\n      <th>Fam</th>\n      <th>Kit</th>\n      <th>Garage Type</th>\n      <th>A/C</th>\n      <th>Heat</th>\n      <th>Contract Date</th>\n      <th>Sold Date</th>\n      <th>List Brokerage</th>\n      <th>Co op Brokerage</th>\n      <th>MLS#</th>\n    </tr>\n  </thead>\n  <tbody>\n    <tr>\n      <th>0</th>\n      <td>1</td>\n      <td>Sld</td>\n      <td>None</td>\n      <td>38.0</td>\n      <td>Scarsdale</td>\n      <td>Crt</td>\n      <td>None</td>\n      <td>Brampton</td>\n      <td>Bram West</td>\n      <td>$5,99,000</td>\n      <td>...</td>\n      <td>N</td>\n      <td>1</td>\n      <td>Built-</td>\n      <td>Cen</td>\n      <td>Gas</td>\n      <td>16-03-2021</td>\n      <td>23-03-2021</td>\n      <td>RE/MAX WEST</td>\n      <td>RE/MAX REALTY</td>\n      <td>W5153139</td>\n    </tr>\n    <tr>\n      <th>1</th>\n      <td>2</td>\n      <td>Sld</td>\n      <td>None</td>\n      <td>55.0</td>\n      <td>Corby</td>\n      <td>Cres</td>\n      <td>None</td>\n      <td>Brampton</td>\n      <td>Bram West</td>\n      <td>$5,99,900</td>\n      <td>...</td>\n      <td>N</td>\n      <td>1</td>\n      <td>None</td>\n      <td>Cen</td>\n      <td>Oil</td>\n      <td>23-02-2021</td>\n      <td>26-02-2021</td>\n      <td>RE/MAX REAL</td>\n      <td>HOMELIFE/MIRA</td>\n      <td>W5125388</td>\n    </tr>\n    <tr>\n      <th>2</th>\n      <td>3</td>\n      <td>Sld</td>\n      <td>None</td>\n      <td>7.0</td>\n      <td>Manett</td>\n      <td>Cres</td>\n      <td>None</td>\n      <td>Brampton</td>\n      <td>Bram West</td>\n      <td>$6,99,000</td>\n      <td>...</td>\n      <td>N</td>\n      <td>1</td>\n      <td>Attach</td>\n      <td>Cen</td>\n      <td>Gas</td>\n      <td>21-01-2021</td>\n      <td>26-01-2021</td>\n      <td>RE/MAX REAL</td>\n      <td>HOMELIFE/MIRA</td>\n      <td>W5091089</td>\n    </tr>\n    <tr>\n      <th>3</th>\n      <td>4</td>\n      <td>Sld</td>\n      <td>None</td>\n      <td>76.0</td>\n      <td>Fairglen</td>\n      <td>Ave</td>\n      <td>None</td>\n      <td>Brampton</td>\n      <td>Bram West</td>\n      <td>$6,99,500</td>\n      <td>...</td>\n      <td>N</td>\n      <td>1</td>\n      <td>None</td>\n      <td>Cen</td>\n      <td>Gas</td>\n      <td>16-03-2021</td>\n      <td>17-03-2021</td>\n      <td>EXP REALTY,</td>\n      <td>ROYALSTARRE</td>\n      <td>W5153813</td>\n    </tr>\n    <tr>\n      <th>4</th>\n      <td>5</td>\n      <td>Sld</td>\n      <td>None</td>\n      <td>121.0</td>\n      <td>Richwood</td>\n      <td>Cres</td>\n      <td>None</td>\n      <td>Brampton</td>\n      <td>Bram West</td>\n      <td>$6,99,900</td>\n      <td>...</td>\n      <td>N</td>\n      <td>1</td>\n      <td>Built-</td>\n      <td>Cen</td>\n      <td>Gas</td>\n      <td>21-02-2021</td>\n      <td>26-02-2021</td>\n      <td>RE/MAX REAL</td>\n      <td>ROYAL LEPAGE</td>\n      <td>W5123258</td>\n    </tr>\n  </tbody>\n</table>\n<p>5 rows × 26 columns</p>\n</div>"
     },
     "metadata": {},
     "execution_count": 22
    }
   ],
   "source": [
    "# Importing the data from SQLite database into a DataFrame\n",
    "house_df = pd.read_sql_table('sold_homes', 'sqlite:///sold_homes.db').drop(columns=['index'])\n",
    "house_df.head()"
   ]
  },
  {
   "cell_type": "code",
   "execution_count": 23,
   "metadata": {},
   "outputs": [
    {
     "output_type": "execute_result",
     "data": {
      "text/plain": [
       "#                    int64\n",
       "LSC                 object\n",
       "EC                  object\n",
       "St#                float64\n",
       "Street Name         object\n",
       "Abbr                object\n",
       "Dir                 object\n",
       "Municipality        object\n",
       "Community           object\n",
       "List Price          object\n",
       "Sold Price          object\n",
       "Type                object\n",
       "Style               object\n",
       "Br                   int64\n",
       " \"+\"                 int64\n",
       "Wr                   int64\n",
       "Fam                 object\n",
       "Kit                  int64\n",
       "Garage Type         object\n",
       "A/C                 object\n",
       "Heat                object\n",
       "Contract Date       object\n",
       "Sold Date           object\n",
       "List Brokerage      object\n",
       "Co op Brokerage     object\n",
       "MLS#                object\n",
       "dtype: object"
      ]
     },
     "metadata": {},
     "execution_count": 23
    }
   ],
   "source": [
    "# Checking date data types of columns\n",
    "house_df.dtypes"
   ]
  },
  {
   "cell_type": "code",
   "execution_count": 24,
   "metadata": {},
   "outputs": [
    {
     "output_type": "execute_result",
     "data": {
      "text/plain": [
       "  List Price Sold Price        Type     Style  Br   \"+\"  Wr Fam  Kit  \\\n",
       "0  $5,99,000  $6,81,000  Att/Row/Tw  2-Storey   3     0   2   N    1   \n",
       "1  $5,99,900  $7,67,000  Semi-Detac  Bungalow   3     1   2   N    1   \n",
       "2  $6,99,000  $8,18,500  Att/Row/Tw  2-Storey   3     1   3   N    1   \n",
       "3  $6,99,500  $7,26,000  Semi-Detac  Bungalow   2     1   2   N    1   \n",
       "4  $6,99,900  $7,31,000  Att/Row/Tw  2-Storey   3     0   3   N    1   \n",
       "\n",
       "  Garage Type Contract Date   Sold Date  \n",
       "0      Built-    16-03-2021  23-03-2021  \n",
       "1        None    23-02-2021  26-02-2021  \n",
       "2      Attach    21-01-2021  26-01-2021  \n",
       "3        None    16-03-2021  17-03-2021  \n",
       "4      Built-    21-02-2021  26-02-2021  "
      ],
      "text/html": "<div>\n<style scoped>\n    .dataframe tbody tr th:only-of-type {\n        vertical-align: middle;\n    }\n\n    .dataframe tbody tr th {\n        vertical-align: top;\n    }\n\n    .dataframe thead th {\n        text-align: right;\n    }\n</style>\n<table border=\"1\" class=\"dataframe\">\n  <thead>\n    <tr style=\"text-align: right;\">\n      <th></th>\n      <th>List Price</th>\n      <th>Sold Price</th>\n      <th>Type</th>\n      <th>Style</th>\n      <th>Br</th>\n      <th>\"+\"</th>\n      <th>Wr</th>\n      <th>Fam</th>\n      <th>Kit</th>\n      <th>Garage Type</th>\n      <th>Contract Date</th>\n      <th>Sold Date</th>\n    </tr>\n  </thead>\n  <tbody>\n    <tr>\n      <th>0</th>\n      <td>$5,99,000</td>\n      <td>$6,81,000</td>\n      <td>Att/Row/Tw</td>\n      <td>2-Storey</td>\n      <td>3</td>\n      <td>0</td>\n      <td>2</td>\n      <td>N</td>\n      <td>1</td>\n      <td>Built-</td>\n      <td>16-03-2021</td>\n      <td>23-03-2021</td>\n    </tr>\n    <tr>\n      <th>1</th>\n      <td>$5,99,900</td>\n      <td>$7,67,000</td>\n      <td>Semi-Detac</td>\n      <td>Bungalow</td>\n      <td>3</td>\n      <td>1</td>\n      <td>2</td>\n      <td>N</td>\n      <td>1</td>\n      <td>None</td>\n      <td>23-02-2021</td>\n      <td>26-02-2021</td>\n    </tr>\n    <tr>\n      <th>2</th>\n      <td>$6,99,000</td>\n      <td>$8,18,500</td>\n      <td>Att/Row/Tw</td>\n      <td>2-Storey</td>\n      <td>3</td>\n      <td>1</td>\n      <td>3</td>\n      <td>N</td>\n      <td>1</td>\n      <td>Attach</td>\n      <td>21-01-2021</td>\n      <td>26-01-2021</td>\n    </tr>\n    <tr>\n      <th>3</th>\n      <td>$6,99,500</td>\n      <td>$7,26,000</td>\n      <td>Semi-Detac</td>\n      <td>Bungalow</td>\n      <td>2</td>\n      <td>1</td>\n      <td>2</td>\n      <td>N</td>\n      <td>1</td>\n      <td>None</td>\n      <td>16-03-2021</td>\n      <td>17-03-2021</td>\n    </tr>\n    <tr>\n      <th>4</th>\n      <td>$6,99,900</td>\n      <td>$7,31,000</td>\n      <td>Att/Row/Tw</td>\n      <td>2-Storey</td>\n      <td>3</td>\n      <td>0</td>\n      <td>3</td>\n      <td>N</td>\n      <td>1</td>\n      <td>Built-</td>\n      <td>21-02-2021</td>\n      <td>26-02-2021</td>\n    </tr>\n  </tbody>\n</table>\n</div>"
     },
     "metadata": {},
     "execution_count": 24
    }
   ],
   "source": [
    "# Drop the non-beneficial columns\n",
    "house_df = house_df.drop([\"#\",\"LSC\",\"EC\",\"St#\",\"Dir\",\"Municipality\",\"Community\",\"MLS#\",\"Abbr\",\"List Brokerage\",\"Co op Brokerage\",\"Street Name\",\"Heat\",\"A/C\"],1)\n",
    "house_df.head()"
   ]
  },
  {
   "cell_type": "code",
   "execution_count": 25,
   "metadata": {},
   "outputs": [
    {
     "output_type": "execute_result",
     "data": {
      "text/plain": [
       "   List Price  Sold Price        Type     Style  Br   \"+\"  Wr Fam  Kit  \\\n",
       "0      599000      681000  Att/Row/Tw  2-Storey   3     0   2   N    1   \n",
       "1      599900      767000  Semi-Detac  Bungalow   3     1   2   N    1   \n",
       "2      699000      818500  Att/Row/Tw  2-Storey   3     1   3   N    1   \n",
       "3      699500      726000  Semi-Detac  Bungalow   2     1   2   N    1   \n",
       "4      699900      731000  Att/Row/Tw  2-Storey   3     0   3   N    1   \n",
       "\n",
       "  Garage Type Contract Date   Sold Date  \n",
       "0      Built-    16-03-2021  23-03-2021  \n",
       "1        None    23-02-2021  26-02-2021  \n",
       "2      Attach    21-01-2021  26-01-2021  \n",
       "3        None    16-03-2021  17-03-2021  \n",
       "4      Built-    21-02-2021  26-02-2021  "
      ],
      "text/html": "<div>\n<style scoped>\n    .dataframe tbody tr th:only-of-type {\n        vertical-align: middle;\n    }\n\n    .dataframe tbody tr th {\n        vertical-align: top;\n    }\n\n    .dataframe thead th {\n        text-align: right;\n    }\n</style>\n<table border=\"1\" class=\"dataframe\">\n  <thead>\n    <tr style=\"text-align: right;\">\n      <th></th>\n      <th>List Price</th>\n      <th>Sold Price</th>\n      <th>Type</th>\n      <th>Style</th>\n      <th>Br</th>\n      <th>\"+\"</th>\n      <th>Wr</th>\n      <th>Fam</th>\n      <th>Kit</th>\n      <th>Garage Type</th>\n      <th>Contract Date</th>\n      <th>Sold Date</th>\n    </tr>\n  </thead>\n  <tbody>\n    <tr>\n      <th>0</th>\n      <td>599000</td>\n      <td>681000</td>\n      <td>Att/Row/Tw</td>\n      <td>2-Storey</td>\n      <td>3</td>\n      <td>0</td>\n      <td>2</td>\n      <td>N</td>\n      <td>1</td>\n      <td>Built-</td>\n      <td>16-03-2021</td>\n      <td>23-03-2021</td>\n    </tr>\n    <tr>\n      <th>1</th>\n      <td>599900</td>\n      <td>767000</td>\n      <td>Semi-Detac</td>\n      <td>Bungalow</td>\n      <td>3</td>\n      <td>1</td>\n      <td>2</td>\n      <td>N</td>\n      <td>1</td>\n      <td>None</td>\n      <td>23-02-2021</td>\n      <td>26-02-2021</td>\n    </tr>\n    <tr>\n      <th>2</th>\n      <td>699000</td>\n      <td>818500</td>\n      <td>Att/Row/Tw</td>\n      <td>2-Storey</td>\n      <td>3</td>\n      <td>1</td>\n      <td>3</td>\n      <td>N</td>\n      <td>1</td>\n      <td>Attach</td>\n      <td>21-01-2021</td>\n      <td>26-01-2021</td>\n    </tr>\n    <tr>\n      <th>3</th>\n      <td>699500</td>\n      <td>726000</td>\n      <td>Semi-Detac</td>\n      <td>Bungalow</td>\n      <td>2</td>\n      <td>1</td>\n      <td>2</td>\n      <td>N</td>\n      <td>1</td>\n      <td>None</td>\n      <td>16-03-2021</td>\n      <td>17-03-2021</td>\n    </tr>\n    <tr>\n      <th>4</th>\n      <td>699900</td>\n      <td>731000</td>\n      <td>Att/Row/Tw</td>\n      <td>2-Storey</td>\n      <td>3</td>\n      <td>0</td>\n      <td>3</td>\n      <td>N</td>\n      <td>1</td>\n      <td>Built-</td>\n      <td>21-02-2021</td>\n      <td>26-02-2021</td>\n    </tr>\n  </tbody>\n</table>\n</div>"
     },
     "metadata": {},
     "execution_count": 25
    }
   ],
   "source": [
    "# Converting \"List Price\" and \"Sold Price\" to float type\n",
    "house_df[\"List Price\"] = house_df[\"List Price\"].replace('[\\$,]', '', regex=True).astype(int)\n",
    "house_df[\"Sold Price\"] = house_df[\"Sold Price\"].replace('[\\$,]', '', regex=True).astype(int)\n",
    "house_df.head()"
   ]
  },
  {
   "cell_type": "code",
   "execution_count": 26,
   "metadata": {},
   "outputs": [
    {
     "output_type": "execute_result",
     "data": {
      "text/plain": [
       "   List Price  Sold Price        Type     Style  Br   \"+\"  Wr Fam  Kit  \\\n",
       "0      599000      681000  Att/Row/Tw  2-Storey   3     0   2   N    1   \n",
       "1      599900      767000  Semi-Detac  Bungalow   3     1   2   N    1   \n",
       "2      699000      818500  Att/Row/Tw  2-Storey   3     1   3   N    1   \n",
       "3      699500      726000  Semi-Detac  Bungalow   2     1   2   N    1   \n",
       "4      699900      731000  Att/Row/Tw  2-Storey   3     0   3   N    1   \n",
       "\n",
       "  Garage Type Contract Date  Sold Date  \n",
       "0      Built-    2021-03-16 2021-03-23  \n",
       "1        None    2021-02-23 2021-02-26  \n",
       "2      Attach    2021-01-21 2021-01-26  \n",
       "3        None    2021-03-16 2021-03-17  \n",
       "4      Built-    2021-02-21 2021-02-26  "
      ],
      "text/html": "<div>\n<style scoped>\n    .dataframe tbody tr th:only-of-type {\n        vertical-align: middle;\n    }\n\n    .dataframe tbody tr th {\n        vertical-align: top;\n    }\n\n    .dataframe thead th {\n        text-align: right;\n    }\n</style>\n<table border=\"1\" class=\"dataframe\">\n  <thead>\n    <tr style=\"text-align: right;\">\n      <th></th>\n      <th>List Price</th>\n      <th>Sold Price</th>\n      <th>Type</th>\n      <th>Style</th>\n      <th>Br</th>\n      <th>\"+\"</th>\n      <th>Wr</th>\n      <th>Fam</th>\n      <th>Kit</th>\n      <th>Garage Type</th>\n      <th>Contract Date</th>\n      <th>Sold Date</th>\n    </tr>\n  </thead>\n  <tbody>\n    <tr>\n      <th>0</th>\n      <td>599000</td>\n      <td>681000</td>\n      <td>Att/Row/Tw</td>\n      <td>2-Storey</td>\n      <td>3</td>\n      <td>0</td>\n      <td>2</td>\n      <td>N</td>\n      <td>1</td>\n      <td>Built-</td>\n      <td>2021-03-16</td>\n      <td>2021-03-23</td>\n    </tr>\n    <tr>\n      <th>1</th>\n      <td>599900</td>\n      <td>767000</td>\n      <td>Semi-Detac</td>\n      <td>Bungalow</td>\n      <td>3</td>\n      <td>1</td>\n      <td>2</td>\n      <td>N</td>\n      <td>1</td>\n      <td>None</td>\n      <td>2021-02-23</td>\n      <td>2021-02-26</td>\n    </tr>\n    <tr>\n      <th>2</th>\n      <td>699000</td>\n      <td>818500</td>\n      <td>Att/Row/Tw</td>\n      <td>2-Storey</td>\n      <td>3</td>\n      <td>1</td>\n      <td>3</td>\n      <td>N</td>\n      <td>1</td>\n      <td>Attach</td>\n      <td>2021-01-21</td>\n      <td>2021-01-26</td>\n    </tr>\n    <tr>\n      <th>3</th>\n      <td>699500</td>\n      <td>726000</td>\n      <td>Semi-Detac</td>\n      <td>Bungalow</td>\n      <td>2</td>\n      <td>1</td>\n      <td>2</td>\n      <td>N</td>\n      <td>1</td>\n      <td>None</td>\n      <td>2021-03-16</td>\n      <td>2021-03-17</td>\n    </tr>\n    <tr>\n      <th>4</th>\n      <td>699900</td>\n      <td>731000</td>\n      <td>Att/Row/Tw</td>\n      <td>2-Storey</td>\n      <td>3</td>\n      <td>0</td>\n      <td>3</td>\n      <td>N</td>\n      <td>1</td>\n      <td>Built-</td>\n      <td>2021-02-21</td>\n      <td>2021-02-26</td>\n    </tr>\n  </tbody>\n</table>\n</div>"
     },
     "metadata": {},
     "execution_count": 26
    }
   ],
   "source": [
    "# Convert \"Contract Date\" and \"Sold Date\" to datetime type\n",
    "house_df[\"Contract Date\"] = pd.to_datetime(house_df[\"Contract Date\"], format='%d-%m-%Y')\n",
    "house_df[\"Sold Date\"] = pd.to_datetime(house_df[\"Sold Date\"], format='%d-%m-%Y')\n",
    "house_df.head()"
   ]
  },
  {
   "cell_type": "code",
   "execution_count": 27,
   "metadata": {},
   "outputs": [
    {
     "output_type": "execute_result",
     "data": {
      "text/plain": [
       "List Price                int32\n",
       "Sold Price                int32\n",
       "Type                     object\n",
       "Style                    object\n",
       "Br                        int64\n",
       " \"+\"                      int64\n",
       "Wr                        int64\n",
       "Fam                      object\n",
       "Kit                       int64\n",
       "Garage Type              object\n",
       "Contract Date    datetime64[ns]\n",
       "Sold Date        datetime64[ns]\n",
       "dtype: object"
      ]
     },
     "metadata": {},
     "execution_count": 27
    }
   ],
   "source": [
    "house_df.dtypes"
   ]
  },
  {
   "cell_type": "code",
   "execution_count": 28,
   "metadata": {},
   "outputs": [
    {
     "output_type": "execute_result",
     "data": {
      "text/plain": [
       "Type           3\n",
       "Style          8\n",
       "Fam            3\n",
       "Garage Type    5\n",
       "dtype: int64"
      ]
     },
     "metadata": {},
     "execution_count": 28
    }
   ],
   "source": [
    "# Determine the number of unique values in each column\n",
    "house_cat = house_df.dtypes[house_df.dtypes == \"object\"].index.tolist()\n",
    "house_df[house_cat].nunique()"
   ]
  },
  {
   "cell_type": "code",
   "execution_count": 29,
   "metadata": {},
   "outputs": [
    {
     "output_type": "execute_result",
     "data": {
      "text/plain": [
       "   Type_Att/Row/Tw  Type_Detached  Type_Semi-Detac  Style_1 1/2 Stor  \\\n",
       "0              1.0            0.0              0.0               0.0   \n",
       "1              0.0            0.0              1.0               0.0   \n",
       "2              1.0            0.0              0.0               0.0   \n",
       "3              0.0            0.0              1.0               0.0   \n",
       "4              1.0            0.0              0.0               0.0   \n",
       "\n",
       "   Style_2-Storey  Style_3-Storey  Style_Backsplit  Style_Bungaloft  \\\n",
       "0             1.0             0.0              0.0              0.0   \n",
       "1             0.0             0.0              0.0              0.0   \n",
       "2             1.0             0.0              0.0              0.0   \n",
       "3             0.0             0.0              0.0              0.0   \n",
       "4             1.0             0.0              0.0              0.0   \n",
       "\n",
       "   Style_Bungalow  Style_Bungalow-R  Style_Sidesplit  Fam_   y  Fam_N  Fam_y  \\\n",
       "0             0.0               0.0              0.0       0.0    1.0    0.0   \n",
       "1             1.0               0.0              0.0       0.0    1.0    0.0   \n",
       "2             0.0               0.0              0.0       0.0    1.0    0.0   \n",
       "3             1.0               0.0              0.0       0.0    1.0    0.0   \n",
       "4             0.0               0.0              0.0       0.0    1.0    0.0   \n",
       "\n",
       "   Garage Type_Attach  Garage Type_Built-  Garage Type_Carpor  \\\n",
       "0                 0.0                 1.0                 0.0   \n",
       "1                 0.0                 0.0                 0.0   \n",
       "2                 1.0                 0.0                 0.0   \n",
       "3                 0.0                 0.0                 0.0   \n",
       "4                 0.0                 1.0                 0.0   \n",
       "\n",
       "   Garage Type_Detach  Garage Type_None  \n",
       "0                 0.0               0.0  \n",
       "1                 0.0               1.0  \n",
       "2                 0.0               0.0  \n",
       "3                 0.0               1.0  \n",
       "4                 0.0               0.0  "
      ],
      "text/html": "<div>\n<style scoped>\n    .dataframe tbody tr th:only-of-type {\n        vertical-align: middle;\n    }\n\n    .dataframe tbody tr th {\n        vertical-align: top;\n    }\n\n    .dataframe thead th {\n        text-align: right;\n    }\n</style>\n<table border=\"1\" class=\"dataframe\">\n  <thead>\n    <tr style=\"text-align: right;\">\n      <th></th>\n      <th>Type_Att/Row/Tw</th>\n      <th>Type_Detached</th>\n      <th>Type_Semi-Detac</th>\n      <th>Style_1 1/2 Stor</th>\n      <th>Style_2-Storey</th>\n      <th>Style_3-Storey</th>\n      <th>Style_Backsplit</th>\n      <th>Style_Bungaloft</th>\n      <th>Style_Bungalow</th>\n      <th>Style_Bungalow-R</th>\n      <th>Style_Sidesplit</th>\n      <th>Fam_   y</th>\n      <th>Fam_N</th>\n      <th>Fam_y</th>\n      <th>Garage Type_Attach</th>\n      <th>Garage Type_Built-</th>\n      <th>Garage Type_Carpor</th>\n      <th>Garage Type_Detach</th>\n      <th>Garage Type_None</th>\n    </tr>\n  </thead>\n  <tbody>\n    <tr>\n      <th>0</th>\n      <td>1.0</td>\n      <td>0.0</td>\n      <td>0.0</td>\n      <td>0.0</td>\n      <td>1.0</td>\n      <td>0.0</td>\n      <td>0.0</td>\n      <td>0.0</td>\n      <td>0.0</td>\n      <td>0.0</td>\n      <td>0.0</td>\n      <td>0.0</td>\n      <td>1.0</td>\n      <td>0.0</td>\n      <td>0.0</td>\n      <td>1.0</td>\n      <td>0.0</td>\n      <td>0.0</td>\n      <td>0.0</td>\n    </tr>\n    <tr>\n      <th>1</th>\n      <td>0.0</td>\n      <td>0.0</td>\n      <td>1.0</td>\n      <td>0.0</td>\n      <td>0.0</td>\n      <td>0.0</td>\n      <td>0.0</td>\n      <td>0.0</td>\n      <td>1.0</td>\n      <td>0.0</td>\n      <td>0.0</td>\n      <td>0.0</td>\n      <td>1.0</td>\n      <td>0.0</td>\n      <td>0.0</td>\n      <td>0.0</td>\n      <td>0.0</td>\n      <td>0.0</td>\n      <td>1.0</td>\n    </tr>\n    <tr>\n      <th>2</th>\n      <td>1.0</td>\n      <td>0.0</td>\n      <td>0.0</td>\n      <td>0.0</td>\n      <td>1.0</td>\n      <td>0.0</td>\n      <td>0.0</td>\n      <td>0.0</td>\n      <td>0.0</td>\n      <td>0.0</td>\n      <td>0.0</td>\n      <td>0.0</td>\n      <td>1.0</td>\n      <td>0.0</td>\n      <td>1.0</td>\n      <td>0.0</td>\n      <td>0.0</td>\n      <td>0.0</td>\n      <td>0.0</td>\n    </tr>\n    <tr>\n      <th>3</th>\n      <td>0.0</td>\n      <td>0.0</td>\n      <td>1.0</td>\n      <td>0.0</td>\n      <td>0.0</td>\n      <td>0.0</td>\n      <td>0.0</td>\n      <td>0.0</td>\n      <td>1.0</td>\n      <td>0.0</td>\n      <td>0.0</td>\n      <td>0.0</td>\n      <td>1.0</td>\n      <td>0.0</td>\n      <td>0.0</td>\n      <td>0.0</td>\n      <td>0.0</td>\n      <td>0.0</td>\n      <td>1.0</td>\n    </tr>\n    <tr>\n      <th>4</th>\n      <td>1.0</td>\n      <td>0.0</td>\n      <td>0.0</td>\n      <td>0.0</td>\n      <td>1.0</td>\n      <td>0.0</td>\n      <td>0.0</td>\n      <td>0.0</td>\n      <td>0.0</td>\n      <td>0.0</td>\n      <td>0.0</td>\n      <td>0.0</td>\n      <td>1.0</td>\n      <td>0.0</td>\n      <td>0.0</td>\n      <td>1.0</td>\n      <td>0.0</td>\n      <td>0.0</td>\n      <td>0.0</td>\n    </tr>\n  </tbody>\n</table>\n</div>"
     },
     "metadata": {},
     "execution_count": 29
    }
   ],
   "source": [
    "# Create a OneHotEncoder instance\n",
    "enc = OneHotEncoder(sparse=False)\n",
    "\n",
    "# Fit and transform the OneHotEncoder using the categorical variable list\n",
    "encode_df = pd.DataFrame(enc.fit_transform(house_df[house_cat]))\n",
    "\n",
    "# Add the encoded variable names to the dataframe\n",
    "encode_df.columns = enc.get_feature_names(house_cat)\n",
    "encode_df.head()"
   ]
  },
  {
   "cell_type": "code",
   "execution_count": 30,
   "metadata": {},
   "outputs": [
    {
     "output_type": "execute_result",
     "data": {
      "text/plain": [
       "   List Price  Sold Price  Br   \"+\"  Wr  Kit Contract Date  Sold Date  \\\n",
       "0      599000      681000   3     0   2    1    2021-03-16 2021-03-23   \n",
       "1      599900      767000   3     1   2    1    2021-02-23 2021-02-26   \n",
       "2      699000      818500   3     1   3    1    2021-01-21 2021-01-26   \n",
       "3      699500      726000   2     1   2    1    2021-03-16 2021-03-17   \n",
       "4      699900      731000   3     0   3    1    2021-02-21 2021-02-26   \n",
       "\n",
       "   Type_Att/Row/Tw  Type_Detached  ...  Style_Bungalow-R  Style_Sidesplit  \\\n",
       "0              1.0            0.0  ...               0.0              0.0   \n",
       "1              0.0            0.0  ...               0.0              0.0   \n",
       "2              1.0            0.0  ...               0.0              0.0   \n",
       "3              0.0            0.0  ...               0.0              0.0   \n",
       "4              1.0            0.0  ...               0.0              0.0   \n",
       "\n",
       "   Fam_   y  Fam_N  Fam_y  Garage Type_Attach  Garage Type_Built-  \\\n",
       "0       0.0    1.0    0.0                 0.0                 1.0   \n",
       "1       0.0    1.0    0.0                 0.0                 0.0   \n",
       "2       0.0    1.0    0.0                 1.0                 0.0   \n",
       "3       0.0    1.0    0.0                 0.0                 0.0   \n",
       "4       0.0    1.0    0.0                 0.0                 1.0   \n",
       "\n",
       "   Garage Type_Carpor  Garage Type_Detach  Garage Type_None  \n",
       "0                 0.0                 0.0               0.0  \n",
       "1                 0.0                 0.0               1.0  \n",
       "2                 0.0                 0.0               0.0  \n",
       "3                 0.0                 0.0               1.0  \n",
       "4                 0.0                 0.0               0.0  \n",
       "\n",
       "[5 rows x 27 columns]"
      ],
      "text/html": "<div>\n<style scoped>\n    .dataframe tbody tr th:only-of-type {\n        vertical-align: middle;\n    }\n\n    .dataframe tbody tr th {\n        vertical-align: top;\n    }\n\n    .dataframe thead th {\n        text-align: right;\n    }\n</style>\n<table border=\"1\" class=\"dataframe\">\n  <thead>\n    <tr style=\"text-align: right;\">\n      <th></th>\n      <th>List Price</th>\n      <th>Sold Price</th>\n      <th>Br</th>\n      <th>\"+\"</th>\n      <th>Wr</th>\n      <th>Kit</th>\n      <th>Contract Date</th>\n      <th>Sold Date</th>\n      <th>Type_Att/Row/Tw</th>\n      <th>Type_Detached</th>\n      <th>...</th>\n      <th>Style_Bungalow-R</th>\n      <th>Style_Sidesplit</th>\n      <th>Fam_   y</th>\n      <th>Fam_N</th>\n      <th>Fam_y</th>\n      <th>Garage Type_Attach</th>\n      <th>Garage Type_Built-</th>\n      <th>Garage Type_Carpor</th>\n      <th>Garage Type_Detach</th>\n      <th>Garage Type_None</th>\n    </tr>\n  </thead>\n  <tbody>\n    <tr>\n      <th>0</th>\n      <td>599000</td>\n      <td>681000</td>\n      <td>3</td>\n      <td>0</td>\n      <td>2</td>\n      <td>1</td>\n      <td>2021-03-16</td>\n      <td>2021-03-23</td>\n      <td>1.0</td>\n      <td>0.0</td>\n      <td>...</td>\n      <td>0.0</td>\n      <td>0.0</td>\n      <td>0.0</td>\n      <td>1.0</td>\n      <td>0.0</td>\n      <td>0.0</td>\n      <td>1.0</td>\n      <td>0.0</td>\n      <td>0.0</td>\n      <td>0.0</td>\n    </tr>\n    <tr>\n      <th>1</th>\n      <td>599900</td>\n      <td>767000</td>\n      <td>3</td>\n      <td>1</td>\n      <td>2</td>\n      <td>1</td>\n      <td>2021-02-23</td>\n      <td>2021-02-26</td>\n      <td>0.0</td>\n      <td>0.0</td>\n      <td>...</td>\n      <td>0.0</td>\n      <td>0.0</td>\n      <td>0.0</td>\n      <td>1.0</td>\n      <td>0.0</td>\n      <td>0.0</td>\n      <td>0.0</td>\n      <td>0.0</td>\n      <td>0.0</td>\n      <td>1.0</td>\n    </tr>\n    <tr>\n      <th>2</th>\n      <td>699000</td>\n      <td>818500</td>\n      <td>3</td>\n      <td>1</td>\n      <td>3</td>\n      <td>1</td>\n      <td>2021-01-21</td>\n      <td>2021-01-26</td>\n      <td>1.0</td>\n      <td>0.0</td>\n      <td>...</td>\n      <td>0.0</td>\n      <td>0.0</td>\n      <td>0.0</td>\n      <td>1.0</td>\n      <td>0.0</td>\n      <td>1.0</td>\n      <td>0.0</td>\n      <td>0.0</td>\n      <td>0.0</td>\n      <td>0.0</td>\n    </tr>\n    <tr>\n      <th>3</th>\n      <td>699500</td>\n      <td>726000</td>\n      <td>2</td>\n      <td>1</td>\n      <td>2</td>\n      <td>1</td>\n      <td>2021-03-16</td>\n      <td>2021-03-17</td>\n      <td>0.0</td>\n      <td>0.0</td>\n      <td>...</td>\n      <td>0.0</td>\n      <td>0.0</td>\n      <td>0.0</td>\n      <td>1.0</td>\n      <td>0.0</td>\n      <td>0.0</td>\n      <td>0.0</td>\n      <td>0.0</td>\n      <td>0.0</td>\n      <td>1.0</td>\n    </tr>\n    <tr>\n      <th>4</th>\n      <td>699900</td>\n      <td>731000</td>\n      <td>3</td>\n      <td>0</td>\n      <td>3</td>\n      <td>1</td>\n      <td>2021-02-21</td>\n      <td>2021-02-26</td>\n      <td>1.0</td>\n      <td>0.0</td>\n      <td>...</td>\n      <td>0.0</td>\n      <td>0.0</td>\n      <td>0.0</td>\n      <td>1.0</td>\n      <td>0.0</td>\n      <td>0.0</td>\n      <td>1.0</td>\n      <td>0.0</td>\n      <td>0.0</td>\n      <td>0.0</td>\n    </tr>\n  </tbody>\n</table>\n<p>5 rows × 27 columns</p>\n</div>"
     },
     "metadata": {},
     "execution_count": 30
    }
   ],
   "source": [
    "# Merge one-hot encoded features and drop the originals\n",
    "house_df = house_df.merge(encode_df,left_index=True, right_index=True)\n",
    "house_df = house_df.drop(house_cat,1)\n",
    "house_df.head()"
   ]
  },
  {
   "cell_type": "code",
   "execution_count": 31,
   "metadata": {},
   "outputs": [],
   "source": [
    "# Converting the 'Contract Date' and 'Sold Date' to interger type\n",
    "house_df['Contract Date'] = house_df['Contract Date'].dt.strftime(\"%d%m%Y\").astype(int) \n",
    "house_df['Sold Date'] = house_df['Sold Date'].dt.strftime(\"%d%m%Y\").astype(int)"
   ]
  },
  {
   "cell_type": "code",
   "execution_count": 32,
   "metadata": {},
   "outputs": [
    {
     "output_type": "execute_result",
     "data": {
      "text/plain": [
       "     List Price  Sold Price        Br       \"+\"        Wr       Kit  \\\n",
       "0     -1.448810   -1.461507 -1.042931 -0.987865 -2.037981 -0.100759   \n",
       "1     -1.446766   -1.255993 -1.042931  0.203560 -2.037981 -0.100759   \n",
       "2     -1.221686   -1.132923 -1.042931  0.203560 -1.046396 -0.100759   \n",
       "3     -1.220550   -1.353971 -2.484203  0.203560 -2.037981 -0.100759   \n",
       "4     -1.219642   -1.342022 -1.042931 -0.987865 -1.046396 -0.100759   \n",
       "..          ...         ...       ...       ...       ...       ...   \n",
       "194    2.410032    2.402649  1.839614 -0.987865  0.936774 -0.100759   \n",
       "195    2.866552    2.526914 -1.042931 -0.987865 -1.046396 -0.100759   \n",
       "196    2.868823    2.538862  0.398342  1.394985  0.936774 -0.100759   \n",
       "197    3.298088    3.064598  0.398342  0.203560  0.936774 -0.100759   \n",
       "198    4.435979    4.952466  1.839614 -0.987865 -0.054811 -0.100759   \n",
       "\n",
       "     Contract Date  Sold Date  Type_Att/Row/Tw  Type_Detached  ...  \\\n",
       "0        -0.009537   0.877201         1.849925      -1.372610  ...   \n",
       "1         0.789656   1.207708        -0.540562      -1.372610  ...   \n",
       "2         0.559845   1.206603         1.849925      -1.372610  ...   \n",
       "3        -0.009537   0.213976        -0.540562      -1.372610  ...   \n",
       "4         0.560989   1.207708         1.849925      -1.372610  ...   \n",
       "..             ...        ...              ...            ...  ...   \n",
       "194       1.705470  -1.442981        -0.540562       0.728539  ...   \n",
       "195       1.257282  -0.008204        -0.540562       0.728539  ...   \n",
       "196       1.363612  -1.331338        -0.540562       0.728539  ...   \n",
       "197       0.104796   0.656126        -0.540562       0.728539  ...   \n",
       "198       1.601426  -1.556835        -0.540562       0.728539  ...   \n",
       "\n",
       "     Style_Bungalow-R  Style_Sidesplit  Fam_   y     Fam_N     Fam_y  \\\n",
       "0           -0.100759        -0.071067 -0.071067  1.876893 -1.849925   \n",
       "1           -0.100759        -0.071067 -0.071067  1.876893 -1.849925   \n",
       "2           -0.100759        -0.071067 -0.071067  1.876893 -1.849925   \n",
       "3           -0.100759        -0.071067 -0.071067  1.876893 -1.849925   \n",
       "4           -0.100759        -0.071067 -0.071067  1.876893 -1.849925   \n",
       "..                ...              ...       ...       ...       ...   \n",
       "194         -0.100759        -0.071067 -0.071067 -0.532795  0.540562   \n",
       "195         -0.100759        -0.071067 -0.071067  1.876893 -1.849925   \n",
       "196         -0.100759        -0.071067 -0.071067 -0.532795  0.540562   \n",
       "197         -0.100759        -0.071067 -0.071067 -0.532795  0.540562   \n",
       "198         -0.100759        -0.071067 -0.071067 -0.532795  0.540562   \n",
       "\n",
       "     Garage Type_Attach  Garage Type_Built-  Garage Type_Carpor  \\\n",
       "0             -0.975182            1.078445           -0.071067   \n",
       "1             -0.975182           -0.927261           -0.071067   \n",
       "2              1.025449           -0.927261           -0.071067   \n",
       "3             -0.975182           -0.927261           -0.071067   \n",
       "4             -0.975182            1.078445           -0.071067   \n",
       "..                  ...                 ...                 ...   \n",
       "194           -0.975182            1.078445           -0.071067   \n",
       "195           -0.975182           -0.927261           -0.071067   \n",
       "196           -0.975182            1.078445           -0.071067   \n",
       "197            1.025449           -0.927261           -0.071067   \n",
       "198            1.025449           -0.927261           -0.071067   \n",
       "\n",
       "     Garage Type_Detach  Garage Type_None  \n",
       "0             -0.176318         -0.123718  \n",
       "1             -0.176318          8.082904  \n",
       "2             -0.176318         -0.123718  \n",
       "3             -0.176318          8.082904  \n",
       "4             -0.176318         -0.123718  \n",
       "..                  ...               ...  \n",
       "194           -0.176318         -0.123718  \n",
       "195            5.671567         -0.123718  \n",
       "196           -0.176318         -0.123718  \n",
       "197           -0.176318         -0.123718  \n",
       "198           -0.176318         -0.123718  \n",
       "\n",
       "[199 rows x 27 columns]"
      ],
      "text/html": "<div>\n<style scoped>\n    .dataframe tbody tr th:only-of-type {\n        vertical-align: middle;\n    }\n\n    .dataframe tbody tr th {\n        vertical-align: top;\n    }\n\n    .dataframe thead th {\n        text-align: right;\n    }\n</style>\n<table border=\"1\" class=\"dataframe\">\n  <thead>\n    <tr style=\"text-align: right;\">\n      <th></th>\n      <th>List Price</th>\n      <th>Sold Price</th>\n      <th>Br</th>\n      <th>\"+\"</th>\n      <th>Wr</th>\n      <th>Kit</th>\n      <th>Contract Date</th>\n      <th>Sold Date</th>\n      <th>Type_Att/Row/Tw</th>\n      <th>Type_Detached</th>\n      <th>...</th>\n      <th>Style_Bungalow-R</th>\n      <th>Style_Sidesplit</th>\n      <th>Fam_   y</th>\n      <th>Fam_N</th>\n      <th>Fam_y</th>\n      <th>Garage Type_Attach</th>\n      <th>Garage Type_Built-</th>\n      <th>Garage Type_Carpor</th>\n      <th>Garage Type_Detach</th>\n      <th>Garage Type_None</th>\n    </tr>\n  </thead>\n  <tbody>\n    <tr>\n      <th>0</th>\n      <td>-1.448810</td>\n      <td>-1.461507</td>\n      <td>-1.042931</td>\n      <td>-0.987865</td>\n      <td>-2.037981</td>\n      <td>-0.100759</td>\n      <td>-0.009537</td>\n      <td>0.877201</td>\n      <td>1.849925</td>\n      <td>-1.372610</td>\n      <td>...</td>\n      <td>-0.100759</td>\n      <td>-0.071067</td>\n      <td>-0.071067</td>\n      <td>1.876893</td>\n      <td>-1.849925</td>\n      <td>-0.975182</td>\n      <td>1.078445</td>\n      <td>-0.071067</td>\n      <td>-0.176318</td>\n      <td>-0.123718</td>\n    </tr>\n    <tr>\n      <th>1</th>\n      <td>-1.446766</td>\n      <td>-1.255993</td>\n      <td>-1.042931</td>\n      <td>0.203560</td>\n      <td>-2.037981</td>\n      <td>-0.100759</td>\n      <td>0.789656</td>\n      <td>1.207708</td>\n      <td>-0.540562</td>\n      <td>-1.372610</td>\n      <td>...</td>\n      <td>-0.100759</td>\n      <td>-0.071067</td>\n      <td>-0.071067</td>\n      <td>1.876893</td>\n      <td>-1.849925</td>\n      <td>-0.975182</td>\n      <td>-0.927261</td>\n      <td>-0.071067</td>\n      <td>-0.176318</td>\n      <td>8.082904</td>\n    </tr>\n    <tr>\n      <th>2</th>\n      <td>-1.221686</td>\n      <td>-1.132923</td>\n      <td>-1.042931</td>\n      <td>0.203560</td>\n      <td>-1.046396</td>\n      <td>-0.100759</td>\n      <td>0.559845</td>\n      <td>1.206603</td>\n      <td>1.849925</td>\n      <td>-1.372610</td>\n      <td>...</td>\n      <td>-0.100759</td>\n      <td>-0.071067</td>\n      <td>-0.071067</td>\n      <td>1.876893</td>\n      <td>-1.849925</td>\n      <td>1.025449</td>\n      <td>-0.927261</td>\n      <td>-0.071067</td>\n      <td>-0.176318</td>\n      <td>-0.123718</td>\n    </tr>\n    <tr>\n      <th>3</th>\n      <td>-1.220550</td>\n      <td>-1.353971</td>\n      <td>-2.484203</td>\n      <td>0.203560</td>\n      <td>-2.037981</td>\n      <td>-0.100759</td>\n      <td>-0.009537</td>\n      <td>0.213976</td>\n      <td>-0.540562</td>\n      <td>-1.372610</td>\n      <td>...</td>\n      <td>-0.100759</td>\n      <td>-0.071067</td>\n      <td>-0.071067</td>\n      <td>1.876893</td>\n      <td>-1.849925</td>\n      <td>-0.975182</td>\n      <td>-0.927261</td>\n      <td>-0.071067</td>\n      <td>-0.176318</td>\n      <td>8.082904</td>\n    </tr>\n    <tr>\n      <th>4</th>\n      <td>-1.219642</td>\n      <td>-1.342022</td>\n      <td>-1.042931</td>\n      <td>-0.987865</td>\n      <td>-1.046396</td>\n      <td>-0.100759</td>\n      <td>0.560989</td>\n      <td>1.207708</td>\n      <td>1.849925</td>\n      <td>-1.372610</td>\n      <td>...</td>\n      <td>-0.100759</td>\n      <td>-0.071067</td>\n      <td>-0.071067</td>\n      <td>1.876893</td>\n      <td>-1.849925</td>\n      <td>-0.975182</td>\n      <td>1.078445</td>\n      <td>-0.071067</td>\n      <td>-0.176318</td>\n      <td>-0.123718</td>\n    </tr>\n    <tr>\n      <th>...</th>\n      <td>...</td>\n      <td>...</td>\n      <td>...</td>\n      <td>...</td>\n      <td>...</td>\n      <td>...</td>\n      <td>...</td>\n      <td>...</td>\n      <td>...</td>\n      <td>...</td>\n      <td>...</td>\n      <td>...</td>\n      <td>...</td>\n      <td>...</td>\n      <td>...</td>\n      <td>...</td>\n      <td>...</td>\n      <td>...</td>\n      <td>...</td>\n      <td>...</td>\n      <td>...</td>\n    </tr>\n    <tr>\n      <th>194</th>\n      <td>2.410032</td>\n      <td>2.402649</td>\n      <td>1.839614</td>\n      <td>-0.987865</td>\n      <td>0.936774</td>\n      <td>-0.100759</td>\n      <td>1.705470</td>\n      <td>-1.442981</td>\n      <td>-0.540562</td>\n      <td>0.728539</td>\n      <td>...</td>\n      <td>-0.100759</td>\n      <td>-0.071067</td>\n      <td>-0.071067</td>\n      <td>-0.532795</td>\n      <td>0.540562</td>\n      <td>-0.975182</td>\n      <td>1.078445</td>\n      <td>-0.071067</td>\n      <td>-0.176318</td>\n      <td>-0.123718</td>\n    </tr>\n    <tr>\n      <th>195</th>\n      <td>2.866552</td>\n      <td>2.526914</td>\n      <td>-1.042931</td>\n      <td>-0.987865</td>\n      <td>-1.046396</td>\n      <td>-0.100759</td>\n      <td>1.257282</td>\n      <td>-0.008204</td>\n      <td>-0.540562</td>\n      <td>0.728539</td>\n      <td>...</td>\n      <td>-0.100759</td>\n      <td>-0.071067</td>\n      <td>-0.071067</td>\n      <td>1.876893</td>\n      <td>-1.849925</td>\n      <td>-0.975182</td>\n      <td>-0.927261</td>\n      <td>-0.071067</td>\n      <td>5.671567</td>\n      <td>-0.123718</td>\n    </tr>\n    <tr>\n      <th>196</th>\n      <td>2.868823</td>\n      <td>2.538862</td>\n      <td>0.398342</td>\n      <td>1.394985</td>\n      <td>0.936774</td>\n      <td>-0.100759</td>\n      <td>1.363612</td>\n      <td>-1.331338</td>\n      <td>-0.540562</td>\n      <td>0.728539</td>\n      <td>...</td>\n      <td>-0.100759</td>\n      <td>-0.071067</td>\n      <td>-0.071067</td>\n      <td>-0.532795</td>\n      <td>0.540562</td>\n      <td>-0.975182</td>\n      <td>1.078445</td>\n      <td>-0.071067</td>\n      <td>-0.176318</td>\n      <td>-0.123718</td>\n    </tr>\n    <tr>\n      <th>197</th>\n      <td>3.298088</td>\n      <td>3.064598</td>\n      <td>0.398342</td>\n      <td>0.203560</td>\n      <td>0.936774</td>\n      <td>-0.100759</td>\n      <td>0.104796</td>\n      <td>0.656126</td>\n      <td>-0.540562</td>\n      <td>0.728539</td>\n      <td>...</td>\n      <td>-0.100759</td>\n      <td>-0.071067</td>\n      <td>-0.071067</td>\n      <td>-0.532795</td>\n      <td>0.540562</td>\n      <td>1.025449</td>\n      <td>-0.927261</td>\n      <td>-0.071067</td>\n      <td>-0.176318</td>\n      <td>-0.123718</td>\n    </tr>\n    <tr>\n      <th>198</th>\n      <td>4.435979</td>\n      <td>4.952466</td>\n      <td>1.839614</td>\n      <td>-0.987865</td>\n      <td>-0.054811</td>\n      <td>-0.100759</td>\n      <td>1.601426</td>\n      <td>-1.556835</td>\n      <td>-0.540562</td>\n      <td>0.728539</td>\n      <td>...</td>\n      <td>-0.100759</td>\n      <td>-0.071067</td>\n      <td>-0.071067</td>\n      <td>-0.532795</td>\n      <td>0.540562</td>\n      <td>1.025449</td>\n      <td>-0.927261</td>\n      <td>-0.071067</td>\n      <td>-0.176318</td>\n      <td>-0.123718</td>\n    </tr>\n  </tbody>\n</table>\n<p>199 rows × 27 columns</p>\n</div>"
     },
     "metadata": {},
     "execution_count": 32
    }
   ],
   "source": [
    "# Scaling the data using StandardScaler()\n",
    "data_scaler = StandardScaler()\n",
    "house_data_scaled = data_scaler.fit_transform(house_df)\n",
    "house_df_scaled = pd.DataFrame(data=house_data_scaled,index=house_df.index,columns=house_df.columns)\n",
    "house_df_scaled"
   ]
  },
  {
   "cell_type": "code",
   "execution_count": 33,
   "metadata": {},
   "outputs": [],
   "source": [
    "# Split our preprocessed data into our features and target arrays\n",
    "y = house_df_scaled[\"Sold Price\"].values.reshape(-1, 1)\n",
    "X = house_df_scaled.drop(columns=[\"Sold Price\"]).values\n",
    "\n",
    "# Split the preprocessed data into a training and testing dataset\n",
    "X_train, X_test, y_train, y_test = train_test_split(X, y, random_state=42)"
   ]
  },
  {
   "cell_type": "code",
   "execution_count": 34,
   "metadata": {},
   "outputs": [
    {
     "output_type": "execute_result",
     "data": {
      "text/plain": [
       "LinearRegression()"
      ]
     },
     "metadata": {},
     "execution_count": 34
    }
   ],
   "source": [
    "# Create a model with scikit-learn and fit the data in the model\n",
    "model = LinearRegression()\n",
    "model.fit(X_train, y_train)"
   ]
  },
  {
   "cell_type": "code",
   "execution_count": 35,
   "metadata": {},
   "outputs": [
    {
     "output_type": "stream",
     "name": "stdout",
     "text": [
      "(50, 1)\n"
     ]
    }
   ],
   "source": [
    "# The model creates predicted y values based on X values\n",
    "y_pred = model.predict(X_test)\n",
    "print(y_pred.shape)"
   ]
  },
  {
   "cell_type": "code",
   "execution_count": 37,
   "metadata": {},
   "outputs": [
    {
     "output_type": "stream",
     "name": "stdout",
     "text": [
      "coefficient of determination: 0.970580097301931\n"
     ]
    }
   ],
   "source": [
    "# Calculating R2 score or coefficient of determination (The closer 1, the better the fit)\n",
    "test_set_r2 = r2_score(y_test, y_pred)\n",
    "print('coefficient of determination:',test_set_r2)"
   ]
  },
  {
   "cell_type": "code",
   "execution_count": 42,
   "metadata": {},
   "outputs": [
    {
     "output_type": "stream",
     "name": "stdout",
     "text": [
      "Mean Squared Error 0.144161757219068\n"
     ]
    }
   ],
   "source": [
    "# Calculating RMSE or root mean square error (the lower value is, the better the fit)\n",
    "rmse = (np.sqrt(mean_squared_error(y_test, y_pred)))\n",
    "print(\"Root Mean Squared Error {}\".format(rmse))"
   ]
  },
  {
   "cell_type": "code",
   "execution_count": 47,
   "metadata": {},
   "outputs": [
    {
     "output_type": "display_data",
     "data": {
      "text/plain": "<Figure size 432x288 with 1 Axes>",
      "image/svg+xml": "<?xml version=\"1.0\" encoding=\"utf-8\" standalone=\"no\"?>\r\n<!DOCTYPE svg PUBLIC \"-//W3C//DTD SVG 1.1//EN\"\r\n  \"http://www.w3.org/Graphics/SVG/1.1/DTD/svg11.dtd\">\r\n<!-- Created with matplotlib (https://matplotlib.org/) -->\r\n<svg height=\"262.19625pt\" version=\"1.1\" viewBox=\"0 0 384.620313 262.19625\" width=\"384.620313pt\" xmlns=\"http://www.w3.org/2000/svg\" xmlns:xlink=\"http://www.w3.org/1999/xlink\">\r\n <metadata>\r\n  <rdf:RDF xmlns:cc=\"http://creativecommons.org/ns#\" xmlns:dc=\"http://purl.org/dc/elements/1.1/\" xmlns:rdf=\"http://www.w3.org/1999/02/22-rdf-syntax-ns#\">\r\n   <cc:Work>\r\n    <dc:type rdf:resource=\"http://purl.org/dc/dcmitype/StillImage\"/>\r\n    <dc:date>2021-05-16T13:27:41.016940</dc:date>\r\n    <dc:format>image/svg+xml</dc:format>\r\n    <dc:creator>\r\n     <cc:Agent>\r\n      <dc:title>Matplotlib v3.3.2, https://matplotlib.org/</dc:title>\r\n     </cc:Agent>\r\n    </dc:creator>\r\n   </cc:Work>\r\n  </rdf:RDF>\r\n </metadata>\r\n <defs>\r\n  <style type=\"text/css\">*{stroke-linecap:butt;stroke-linejoin:round;}</style>\r\n </defs>\r\n <g id=\"figure_1\">\r\n  <g id=\"patch_1\">\r\n   <path d=\"M 0 262.19625 \r\nL 384.620313 262.19625 \r\nL 384.620313 0 \r\nL 0 0 \r\nz\r\n\" style=\"fill:none;\"/>\r\n  </g>\r\n  <g id=\"axes_1\">\r\n   <g id=\"patch_2\">\r\n    <path d=\"M 42.620313 224.64 \r\nL 377.420313 224.64 \r\nL 377.420313 7.2 \r\nL 42.620313 7.2 \r\nz\r\n\" style=\"fill:#ffffff;\"/>\r\n   </g>\r\n   <g id=\"matplotlib.axis_1\">\r\n    <g id=\"xtick_1\">\r\n     <g id=\"line2d_1\">\r\n      <defs>\r\n       <path d=\"M 0 0 \r\nL 0 3.5 \r\n\" id=\"mebd04d73ab\" style=\"stroke:#000000;stroke-width:0.8;\"/>\r\n      </defs>\r\n      <g>\r\n       <use style=\"stroke:#000000;stroke-width:0.8;\" x=\"72.520813\" xlink:href=\"#mebd04d73ab\" y=\"224.64\"/>\r\n      </g>\r\n     </g>\r\n     <g id=\"text_1\">\r\n      <!-- −1 -->\r\n      <g transform=\"translate(65.149719 239.238437)scale(0.1 -0.1)\">\r\n       <defs>\r\n        <path d=\"M 10.59375 35.5 \r\nL 73.1875 35.5 \r\nL 73.1875 27.203125 \r\nL 10.59375 27.203125 \r\nz\r\n\" id=\"DejaVuSans-8722\"/>\r\n        <path d=\"M 12.40625 8.296875 \r\nL 28.515625 8.296875 \r\nL 28.515625 63.921875 \r\nL 10.984375 60.40625 \r\nL 10.984375 69.390625 \r\nL 28.421875 72.90625 \r\nL 38.28125 72.90625 \r\nL 38.28125 8.296875 \r\nL 54.390625 8.296875 \r\nL 54.390625 0 \r\nL 12.40625 0 \r\nz\r\n\" id=\"DejaVuSans-49\"/>\r\n       </defs>\r\n       <use xlink:href=\"#DejaVuSans-8722\"/>\r\n       <use x=\"83.789062\" xlink:href=\"#DejaVuSans-49\"/>\r\n      </g>\r\n     </g>\r\n    </g>\r\n    <g id=\"xtick_2\">\r\n     <g id=\"line2d_2\">\r\n      <g>\r\n       <use style=\"stroke:#000000;stroke-width:0.8;\" x=\"144.941142\" xlink:href=\"#mebd04d73ab\" y=\"224.64\"/>\r\n      </g>\r\n     </g>\r\n     <g id=\"text_2\">\r\n      <!-- 0 -->\r\n      <g transform=\"translate(141.759892 239.238437)scale(0.1 -0.1)\">\r\n       <defs>\r\n        <path d=\"M 31.78125 66.40625 \r\nQ 24.171875 66.40625 20.328125 58.90625 \r\nQ 16.5 51.421875 16.5 36.375 \r\nQ 16.5 21.390625 20.328125 13.890625 \r\nQ 24.171875 6.390625 31.78125 6.390625 \r\nQ 39.453125 6.390625 43.28125 13.890625 \r\nQ 47.125 21.390625 47.125 36.375 \r\nQ 47.125 51.421875 43.28125 58.90625 \r\nQ 39.453125 66.40625 31.78125 66.40625 \r\nz\r\nM 31.78125 74.21875 \r\nQ 44.046875 74.21875 50.515625 64.515625 \r\nQ 56.984375 54.828125 56.984375 36.375 \r\nQ 56.984375 17.96875 50.515625 8.265625 \r\nQ 44.046875 -1.421875 31.78125 -1.421875 \r\nQ 19.53125 -1.421875 13.0625 8.265625 \r\nQ 6.59375 17.96875 6.59375 36.375 \r\nQ 6.59375 54.828125 13.0625 64.515625 \r\nQ 19.53125 74.21875 31.78125 74.21875 \r\nz\r\n\" id=\"DejaVuSans-48\"/>\r\n       </defs>\r\n       <use xlink:href=\"#DejaVuSans-48\"/>\r\n      </g>\r\n     </g>\r\n    </g>\r\n    <g id=\"xtick_3\">\r\n     <g id=\"line2d_3\">\r\n      <g>\r\n       <use style=\"stroke:#000000;stroke-width:0.8;\" x=\"217.361472\" xlink:href=\"#mebd04d73ab\" y=\"224.64\"/>\r\n      </g>\r\n     </g>\r\n     <g id=\"text_3\">\r\n      <!-- 1 -->\r\n      <g transform=\"translate(214.180222 239.238437)scale(0.1 -0.1)\">\r\n       <use xlink:href=\"#DejaVuSans-49\"/>\r\n      </g>\r\n     </g>\r\n    </g>\r\n    <g id=\"xtick_4\">\r\n     <g id=\"line2d_4\">\r\n      <g>\r\n       <use style=\"stroke:#000000;stroke-width:0.8;\" x=\"289.781801\" xlink:href=\"#mebd04d73ab\" y=\"224.64\"/>\r\n      </g>\r\n     </g>\r\n     <g id=\"text_4\">\r\n      <!-- 2 -->\r\n      <g transform=\"translate(286.600551 239.238437)scale(0.1 -0.1)\">\r\n       <defs>\r\n        <path d=\"M 19.1875 8.296875 \r\nL 53.609375 8.296875 \r\nL 53.609375 0 \r\nL 7.328125 0 \r\nL 7.328125 8.296875 \r\nQ 12.9375 14.109375 22.625 23.890625 \r\nQ 32.328125 33.6875 34.8125 36.53125 \r\nQ 39.546875 41.84375 41.421875 45.53125 \r\nQ 43.3125 49.21875 43.3125 52.78125 \r\nQ 43.3125 58.59375 39.234375 62.25 \r\nQ 35.15625 65.921875 28.609375 65.921875 \r\nQ 23.96875 65.921875 18.8125 64.3125 \r\nQ 13.671875 62.703125 7.8125 59.421875 \r\nL 7.8125 69.390625 \r\nQ 13.765625 71.78125 18.9375 73 \r\nQ 24.125 74.21875 28.421875 74.21875 \r\nQ 39.75 74.21875 46.484375 68.546875 \r\nQ 53.21875 62.890625 53.21875 53.421875 \r\nQ 53.21875 48.921875 51.53125 44.890625 \r\nQ 49.859375 40.875 45.40625 35.40625 \r\nQ 44.1875 33.984375 37.640625 27.21875 \r\nQ 31.109375 20.453125 19.1875 8.296875 \r\nz\r\n\" id=\"DejaVuSans-50\"/>\r\n       </defs>\r\n       <use xlink:href=\"#DejaVuSans-50\"/>\r\n      </g>\r\n     </g>\r\n    </g>\r\n    <g id=\"xtick_5\">\r\n     <g id=\"line2d_5\">\r\n      <g>\r\n       <use style=\"stroke:#000000;stroke-width:0.8;\" x=\"362.202131\" xlink:href=\"#mebd04d73ab\" y=\"224.64\"/>\r\n      </g>\r\n     </g>\r\n     <g id=\"text_5\">\r\n      <!-- 3 -->\r\n      <g transform=\"translate(359.020881 239.238437)scale(0.1 -0.1)\">\r\n       <defs>\r\n        <path d=\"M 40.578125 39.3125 \r\nQ 47.65625 37.796875 51.625 33 \r\nQ 55.609375 28.21875 55.609375 21.1875 \r\nQ 55.609375 10.40625 48.1875 4.484375 \r\nQ 40.765625 -1.421875 27.09375 -1.421875 \r\nQ 22.515625 -1.421875 17.65625 -0.515625 \r\nQ 12.796875 0.390625 7.625 2.203125 \r\nL 7.625 11.71875 \r\nQ 11.71875 9.328125 16.59375 8.109375 \r\nQ 21.484375 6.890625 26.8125 6.890625 \r\nQ 36.078125 6.890625 40.9375 10.546875 \r\nQ 45.796875 14.203125 45.796875 21.1875 \r\nQ 45.796875 27.640625 41.28125 31.265625 \r\nQ 36.765625 34.90625 28.71875 34.90625 \r\nL 20.21875 34.90625 \r\nL 20.21875 43.015625 \r\nL 29.109375 43.015625 \r\nQ 36.375 43.015625 40.234375 45.921875 \r\nQ 44.09375 48.828125 44.09375 54.296875 \r\nQ 44.09375 59.90625 40.109375 62.90625 \r\nQ 36.140625 65.921875 28.71875 65.921875 \r\nQ 24.65625 65.921875 20.015625 65.03125 \r\nQ 15.375 64.15625 9.8125 62.3125 \r\nL 9.8125 71.09375 \r\nQ 15.4375 72.65625 20.34375 73.4375 \r\nQ 25.25 74.21875 29.59375 74.21875 \r\nQ 40.828125 74.21875 47.359375 69.109375 \r\nQ 53.90625 64.015625 53.90625 55.328125 \r\nQ 53.90625 49.265625 50.4375 45.09375 \r\nQ 46.96875 40.921875 40.578125 39.3125 \r\nz\r\n\" id=\"DejaVuSans-51\"/>\r\n       </defs>\r\n       <use xlink:href=\"#DejaVuSans-51\"/>\r\n      </g>\r\n     </g>\r\n    </g>\r\n    <g id=\"text_6\">\r\n     <!-- predicted -->\r\n     <g transform=\"translate(186.303125 252.916562)scale(0.1 -0.1)\">\r\n      <defs>\r\n       <path d=\"M 18.109375 8.203125 \r\nL 18.109375 -20.796875 \r\nL 9.078125 -20.796875 \r\nL 9.078125 54.6875 \r\nL 18.109375 54.6875 \r\nL 18.109375 46.390625 \r\nQ 20.953125 51.265625 25.265625 53.625 \r\nQ 29.59375 56 35.59375 56 \r\nQ 45.5625 56 51.78125 48.09375 \r\nQ 58.015625 40.1875 58.015625 27.296875 \r\nQ 58.015625 14.40625 51.78125 6.484375 \r\nQ 45.5625 -1.421875 35.59375 -1.421875 \r\nQ 29.59375 -1.421875 25.265625 0.953125 \r\nQ 20.953125 3.328125 18.109375 8.203125 \r\nz\r\nM 48.6875 27.296875 \r\nQ 48.6875 37.203125 44.609375 42.84375 \r\nQ 40.53125 48.484375 33.40625 48.484375 \r\nQ 26.265625 48.484375 22.1875 42.84375 \r\nQ 18.109375 37.203125 18.109375 27.296875 \r\nQ 18.109375 17.390625 22.1875 11.75 \r\nQ 26.265625 6.109375 33.40625 6.109375 \r\nQ 40.53125 6.109375 44.609375 11.75 \r\nQ 48.6875 17.390625 48.6875 27.296875 \r\nz\r\n\" id=\"DejaVuSans-112\"/>\r\n       <path d=\"M 41.109375 46.296875 \r\nQ 39.59375 47.171875 37.8125 47.578125 \r\nQ 36.03125 48 33.890625 48 \r\nQ 26.265625 48 22.1875 43.046875 \r\nQ 18.109375 38.09375 18.109375 28.8125 \r\nL 18.109375 0 \r\nL 9.078125 0 \r\nL 9.078125 54.6875 \r\nL 18.109375 54.6875 \r\nL 18.109375 46.1875 \r\nQ 20.953125 51.171875 25.484375 53.578125 \r\nQ 30.03125 56 36.53125 56 \r\nQ 37.453125 56 38.578125 55.875 \r\nQ 39.703125 55.765625 41.0625 55.515625 \r\nz\r\n\" id=\"DejaVuSans-114\"/>\r\n       <path d=\"M 56.203125 29.59375 \r\nL 56.203125 25.203125 \r\nL 14.890625 25.203125 \r\nQ 15.484375 15.921875 20.484375 11.0625 \r\nQ 25.484375 6.203125 34.421875 6.203125 \r\nQ 39.59375 6.203125 44.453125 7.46875 \r\nQ 49.3125 8.734375 54.109375 11.28125 \r\nL 54.109375 2.78125 \r\nQ 49.265625 0.734375 44.1875 -0.34375 \r\nQ 39.109375 -1.421875 33.890625 -1.421875 \r\nQ 20.796875 -1.421875 13.15625 6.1875 \r\nQ 5.515625 13.8125 5.515625 26.8125 \r\nQ 5.515625 40.234375 12.765625 48.109375 \r\nQ 20.015625 56 32.328125 56 \r\nQ 43.359375 56 49.78125 48.890625 \r\nQ 56.203125 41.796875 56.203125 29.59375 \r\nz\r\nM 47.21875 32.234375 \r\nQ 47.125 39.59375 43.09375 43.984375 \r\nQ 39.0625 48.390625 32.421875 48.390625 \r\nQ 24.90625 48.390625 20.390625 44.140625 \r\nQ 15.875 39.890625 15.1875 32.171875 \r\nz\r\n\" id=\"DejaVuSans-101\"/>\r\n       <path d=\"M 45.40625 46.390625 \r\nL 45.40625 75.984375 \r\nL 54.390625 75.984375 \r\nL 54.390625 0 \r\nL 45.40625 0 \r\nL 45.40625 8.203125 \r\nQ 42.578125 3.328125 38.25 0.953125 \r\nQ 33.9375 -1.421875 27.875 -1.421875 \r\nQ 17.96875 -1.421875 11.734375 6.484375 \r\nQ 5.515625 14.40625 5.515625 27.296875 \r\nQ 5.515625 40.1875 11.734375 48.09375 \r\nQ 17.96875 56 27.875 56 \r\nQ 33.9375 56 38.25 53.625 \r\nQ 42.578125 51.265625 45.40625 46.390625 \r\nz\r\nM 14.796875 27.296875 \r\nQ 14.796875 17.390625 18.875 11.75 \r\nQ 22.953125 6.109375 30.078125 6.109375 \r\nQ 37.203125 6.109375 41.296875 11.75 \r\nQ 45.40625 17.390625 45.40625 27.296875 \r\nQ 45.40625 37.203125 41.296875 42.84375 \r\nQ 37.203125 48.484375 30.078125 48.484375 \r\nQ 22.953125 48.484375 18.875 42.84375 \r\nQ 14.796875 37.203125 14.796875 27.296875 \r\nz\r\n\" id=\"DejaVuSans-100\"/>\r\n       <path d=\"M 9.421875 54.6875 \r\nL 18.40625 54.6875 \r\nL 18.40625 0 \r\nL 9.421875 0 \r\nz\r\nM 9.421875 75.984375 \r\nL 18.40625 75.984375 \r\nL 18.40625 64.59375 \r\nL 9.421875 64.59375 \r\nz\r\n\" id=\"DejaVuSans-105\"/>\r\n       <path d=\"M 48.78125 52.59375 \r\nL 48.78125 44.1875 \r\nQ 44.96875 46.296875 41.140625 47.34375 \r\nQ 37.3125 48.390625 33.40625 48.390625 \r\nQ 24.65625 48.390625 19.8125 42.84375 \r\nQ 14.984375 37.3125 14.984375 27.296875 \r\nQ 14.984375 17.28125 19.8125 11.734375 \r\nQ 24.65625 6.203125 33.40625 6.203125 \r\nQ 37.3125 6.203125 41.140625 7.25 \r\nQ 44.96875 8.296875 48.78125 10.40625 \r\nL 48.78125 2.09375 \r\nQ 45.015625 0.34375 40.984375 -0.53125 \r\nQ 36.96875 -1.421875 32.421875 -1.421875 \r\nQ 20.0625 -1.421875 12.78125 6.34375 \r\nQ 5.515625 14.109375 5.515625 27.296875 \r\nQ 5.515625 40.671875 12.859375 48.328125 \r\nQ 20.21875 56 33.015625 56 \r\nQ 37.15625 56 41.109375 55.140625 \r\nQ 45.0625 54.296875 48.78125 52.59375 \r\nz\r\n\" id=\"DejaVuSans-99\"/>\r\n       <path d=\"M 18.3125 70.21875 \r\nL 18.3125 54.6875 \r\nL 36.8125 54.6875 \r\nL 36.8125 47.703125 \r\nL 18.3125 47.703125 \r\nL 18.3125 18.015625 \r\nQ 18.3125 11.328125 20.140625 9.421875 \r\nQ 21.96875 7.515625 27.59375 7.515625 \r\nL 36.8125 7.515625 \r\nL 36.8125 0 \r\nL 27.59375 0 \r\nQ 17.1875 0 13.234375 3.875 \r\nQ 9.28125 7.765625 9.28125 18.015625 \r\nL 9.28125 47.703125 \r\nL 2.6875 47.703125 \r\nL 2.6875 54.6875 \r\nL 9.28125 54.6875 \r\nL 9.28125 70.21875 \r\nz\r\n\" id=\"DejaVuSans-116\"/>\r\n      </defs>\r\n      <use xlink:href=\"#DejaVuSans-112\"/>\r\n      <use x=\"63.476562\" xlink:href=\"#DejaVuSans-114\"/>\r\n      <use x=\"102.339844\" xlink:href=\"#DejaVuSans-101\"/>\r\n      <use x=\"163.863281\" xlink:href=\"#DejaVuSans-100\"/>\r\n      <use x=\"227.339844\" xlink:href=\"#DejaVuSans-105\"/>\r\n      <use x=\"255.123047\" xlink:href=\"#DejaVuSans-99\"/>\r\n      <use x=\"310.103516\" xlink:href=\"#DejaVuSans-116\"/>\r\n      <use x=\"349.3125\" xlink:href=\"#DejaVuSans-101\"/>\r\n      <use x=\"410.835938\" xlink:href=\"#DejaVuSans-100\"/>\r\n     </g>\r\n    </g>\r\n   </g>\r\n   <g id=\"matplotlib.axis_2\">\r\n    <g id=\"ytick_1\">\r\n     <g id=\"line2d_6\">\r\n      <defs>\r\n       <path d=\"M 0 0 \r\nL -3.5 0 \r\n\" id=\"mb14c559faa\" style=\"stroke:#000000;stroke-width:0.8;\"/>\r\n      </defs>\r\n      <g>\r\n       <use style=\"stroke:#000000;stroke-width:0.8;\" x=\"42.620313\" xlink:href=\"#mb14c559faa\" y=\"206.374002\"/>\r\n      </g>\r\n     </g>\r\n     <g id=\"text_7\">\r\n      <!-- −1 -->\r\n      <g transform=\"translate(20.878125 210.173221)scale(0.1 -0.1)\">\r\n       <use xlink:href=\"#DejaVuSans-8722\"/>\r\n       <use x=\"83.789062\" xlink:href=\"#DejaVuSans-49\"/>\r\n      </g>\r\n     </g>\r\n    </g>\r\n    <g id=\"ytick_2\">\r\n     <g id=\"line2d_7\">\r\n      <g>\r\n       <use style=\"stroke:#000000;stroke-width:0.8;\" x=\"42.620313\" xlink:href=\"#mb14c559faa\" y=\"159.051411\"/>\r\n      </g>\r\n     </g>\r\n     <g id=\"text_8\">\r\n      <!-- 0 -->\r\n      <g transform=\"translate(29.257813 162.85063)scale(0.1 -0.1)\">\r\n       <use xlink:href=\"#DejaVuSans-48\"/>\r\n      </g>\r\n     </g>\r\n    </g>\r\n    <g id=\"ytick_3\">\r\n     <g id=\"line2d_8\">\r\n      <g>\r\n       <use style=\"stroke:#000000;stroke-width:0.8;\" x=\"42.620313\" xlink:href=\"#mb14c559faa\" y=\"111.728819\"/>\r\n      </g>\r\n     </g>\r\n     <g id=\"text_9\">\r\n      <!-- 1 -->\r\n      <g transform=\"translate(29.257813 115.528038)scale(0.1 -0.1)\">\r\n       <use xlink:href=\"#DejaVuSans-49\"/>\r\n      </g>\r\n     </g>\r\n    </g>\r\n    <g id=\"ytick_4\">\r\n     <g id=\"line2d_9\">\r\n      <g>\r\n       <use style=\"stroke:#000000;stroke-width:0.8;\" x=\"42.620313\" xlink:href=\"#mb14c559faa\" y=\"64.406228\"/>\r\n      </g>\r\n     </g>\r\n     <g id=\"text_10\">\r\n      <!-- 2 -->\r\n      <g transform=\"translate(29.257813 68.205447)scale(0.1 -0.1)\">\r\n       <use xlink:href=\"#DejaVuSans-50\"/>\r\n      </g>\r\n     </g>\r\n    </g>\r\n    <g id=\"ytick_5\">\r\n     <g id=\"line2d_10\">\r\n      <g>\r\n       <use style=\"stroke:#000000;stroke-width:0.8;\" x=\"42.620313\" xlink:href=\"#mb14c559faa\" y=\"17.083636\"/>\r\n      </g>\r\n     </g>\r\n     <g id=\"text_11\">\r\n      <!-- 3 -->\r\n      <g transform=\"translate(29.257813 20.882855)scale(0.1 -0.1)\">\r\n       <use xlink:href=\"#DejaVuSans-51\"/>\r\n      </g>\r\n     </g>\r\n    </g>\r\n    <g id=\"text_12\">\r\n     <!-- real -->\r\n     <g transform=\"translate(14.798438 125.392656)rotate(-90)scale(0.1 -0.1)\">\r\n      <defs>\r\n       <path d=\"M 34.28125 27.484375 \r\nQ 23.390625 27.484375 19.1875 25 \r\nQ 14.984375 22.515625 14.984375 16.5 \r\nQ 14.984375 11.71875 18.140625 8.90625 \r\nQ 21.296875 6.109375 26.703125 6.109375 \r\nQ 34.1875 6.109375 38.703125 11.40625 \r\nQ 43.21875 16.703125 43.21875 25.484375 \r\nL 43.21875 27.484375 \r\nz\r\nM 52.203125 31.203125 \r\nL 52.203125 0 \r\nL 43.21875 0 \r\nL 43.21875 8.296875 \r\nQ 40.140625 3.328125 35.546875 0.953125 \r\nQ 30.953125 -1.421875 24.3125 -1.421875 \r\nQ 15.921875 -1.421875 10.953125 3.296875 \r\nQ 6 8.015625 6 15.921875 \r\nQ 6 25.140625 12.171875 29.828125 \r\nQ 18.359375 34.515625 30.609375 34.515625 \r\nL 43.21875 34.515625 \r\nL 43.21875 35.40625 \r\nQ 43.21875 41.609375 39.140625 45 \r\nQ 35.0625 48.390625 27.6875 48.390625 \r\nQ 23 48.390625 18.546875 47.265625 \r\nQ 14.109375 46.140625 10.015625 43.890625 \r\nL 10.015625 52.203125 \r\nQ 14.9375 54.109375 19.578125 55.046875 \r\nQ 24.21875 56 28.609375 56 \r\nQ 40.484375 56 46.34375 49.84375 \r\nQ 52.203125 43.703125 52.203125 31.203125 \r\nz\r\n\" id=\"DejaVuSans-97\"/>\r\n       <path d=\"M 9.421875 75.984375 \r\nL 18.40625 75.984375 \r\nL 18.40625 0 \r\nL 9.421875 0 \r\nz\r\n\" id=\"DejaVuSans-108\"/>\r\n      </defs>\r\n      <use xlink:href=\"#DejaVuSans-114\"/>\r\n      <use x=\"38.863281\" xlink:href=\"#DejaVuSans-101\"/>\r\n      <use x=\"100.386719\" xlink:href=\"#DejaVuSans-97\"/>\r\n      <use x=\"161.666016\" xlink:href=\"#DejaVuSans-108\"/>\r\n     </g>\r\n    </g>\r\n   </g>\r\n   <g id=\"line2d_11\">\r\n    <defs>\r\n     <path d=\"M 0 3 \r\nC 0.795609 3 1.55874 2.683901 2.12132 2.12132 \r\nC 2.683901 1.55874 3 0.795609 3 0 \r\nC 3 -0.795609 2.683901 -1.55874 2.12132 -2.12132 \r\nC 1.55874 -2.683901 0.795609 -3 0 -3 \r\nC -0.795609 -3 -1.55874 -2.683901 -2.12132 -2.12132 \r\nC -2.683901 -1.55874 -3 -0.795609 -3 0 \r\nC -3 0.795609 -2.683901 1.55874 -2.12132 2.12132 \r\nC -1.55874 2.683901 -0.795609 3 0 3 \r\nz\r\n\" id=\"m883a96140b\" style=\"stroke:#ff0000;\"/>\r\n    </defs>\r\n    <g clip-path=\"url(#pb3e224fa1a)\">\r\n     <use style=\"fill:#ff0000;stroke:#ff0000;\" x=\"115.601074\" xlink:href=\"#m883a96140b\" y=\"172.348689\"/>\r\n     <use style=\"fill:#ff0000;stroke:#ff0000;\" x=\"71.933122\" xlink:href=\"#m883a96140b\" y=\"204.578522\"/>\r\n     <use style=\"fill:#ff0000;stroke:#ff0000;\" x=\"148.781553\" xlink:href=\"#m883a96140b\" y=\"159.343669\"/>\r\n     <use style=\"fill:#ff0000;stroke:#ff0000;\" x=\"230.491025\" xlink:href=\"#m883a96140b\" y=\"112.977945\"/>\r\n     <use style=\"fill:#ff0000;stroke:#ff0000;\" x=\"93.920308\" xlink:href=\"#m883a96140b\" y=\"186.371493\"/>\r\n     <use style=\"fill:#ff0000;stroke:#ff0000;\" x=\"202.516841\" xlink:href=\"#m883a96140b\" y=\"124.286658\"/>\r\n     <use style=\"fill:#ff0000;stroke:#ff0000;\" x=\"96.122023\" xlink:href=\"#m883a96140b\" y=\"180.830224\"/>\r\n     <use style=\"fill:#ff0000;stroke:#ff0000;\" x=\"94.090873\" xlink:href=\"#m883a96140b\" y=\"194.40068\"/>\r\n     <use style=\"fill:#ff0000;stroke:#ff0000;\" x=\"160.769817\" xlink:href=\"#m883a96140b\" y=\"133.333628\"/>\r\n     <use style=\"fill:#ff0000;stroke:#ff0000;\" x=\"218.310011\" xlink:href=\"#m883a96140b\" y=\"115.239687\"/>\r\n     <use style=\"fill:#ff0000;stroke:#ff0000;\" x=\"232.45631\" xlink:href=\"#m883a96140b\" y=\"100.425273\"/>\r\n     <use style=\"fill:#ff0000;stroke:#ff0000;\" x=\"186.899167\" xlink:href=\"#m883a96140b\" y=\"127.113836\"/>\r\n     <use style=\"fill:#ff0000;stroke:#ff0000;\" x=\"94.201939\" xlink:href=\"#m883a96140b\" y=\"192.704373\"/>\r\n     <use style=\"fill:#ff0000;stroke:#ff0000;\" x=\"74.951384\" xlink:href=\"#m883a96140b\" y=\"200.11158\"/>\r\n     <use style=\"fill:#ff0000;stroke:#ff0000;\" x=\"126.218739\" xlink:href=\"#m883a96140b\" y=\"163.301718\"/>\r\n     <use style=\"fill:#ff0000;stroke:#ff0000;\" x=\"102.047514\" xlink:href=\"#m883a96140b\" y=\"168.390639\"/>\r\n     <use style=\"fill:#ff0000;stroke:#ff0000;\" x=\"89.994075\" xlink:href=\"#m883a96140b\" y=\"197.793294\"/>\r\n     <use style=\"fill:#ff0000;stroke:#ff0000;\" x=\"91.73473\" xlink:href=\"#m883a96140b\" y=\"186.484581\"/>\r\n     <use style=\"fill:#ff0000;stroke:#ff0000;\" x=\"123.980653\" xlink:href=\"#m883a96140b\" y=\"181.39566\"/>\r\n     <use style=\"fill:#ff0000;stroke:#ff0000;\" x=\"200.475412\" xlink:href=\"#m883a96140b\" y=\"126.322226\"/>\r\n     <use style=\"fill:#ff0000;stroke:#ff0000;\" x=\"57.838494\" xlink:href=\"#m883a96140b\" y=\"209.78053\"/>\r\n     <use style=\"fill:#ff0000;stroke:#ff0000;\" x=\"171.37936\" xlink:href=\"#m883a96140b\" y=\"146.338649\"/>\r\n     <use style=\"fill:#ff0000;stroke:#ff0000;\" x=\"126.554595\" xlink:href=\"#m883a96140b\" y=\"167.259768\"/>\r\n     <use style=\"fill:#ff0000;stroke:#ff0000;\" x=\"221.956381\" xlink:href=\"#m883a96140b\" y=\"117.840691\"/>\r\n     <use style=\"fill:#ff0000;stroke:#ff0000;\" x=\"84.269228\" xlink:href=\"#m883a96140b\" y=\"194.966115\"/>\r\n     <use style=\"fill:#ff0000;stroke:#ff0000;\" x=\"282.845331\" xlink:href=\"#m883a96140b\" y=\"79.051805\"/>\r\n     <use style=\"fill:#ff0000;stroke:#ff0000;\" x=\"190.697152\" xlink:href=\"#m883a96140b\" y=\"131.637321\"/>\r\n     <use style=\"fill:#ff0000;stroke:#ff0000;\" x=\"60.977773\" xlink:href=\"#m883a96140b\" y=\"208.19731\"/>\r\n     <use style=\"fill:#ff0000;stroke:#ff0000;\" x=\"69.135271\" xlink:href=\"#m883a96140b\" y=\"206.840264\"/>\r\n     <use style=\"fill:#ff0000;stroke:#ff0000;\" x=\"168.209434\" xlink:href=\"#m883a96140b\" y=\"144.642342\"/>\r\n     <use style=\"fill:#ff0000;stroke:#ff0000;\" x=\"283.565201\" xlink:href=\"#m883a96140b\" y=\"67.743092\"/>\r\n     <use style=\"fill:#ff0000;stroke:#ff0000;\" x=\"80.179511\" xlink:href=\"#m883a96140b\" y=\"199.489601\"/>\r\n     <use style=\"fill:#ff0000;stroke:#ff0000;\" x=\"309.665275\" xlink:href=\"#m883a96140b\" y=\"67.743092\"/>\r\n     <use style=\"fill:#ff0000;stroke:#ff0000;\" x=\"201.719508\" xlink:href=\"#m883a96140b\" y=\"128.810143\"/>\r\n     <use style=\"fill:#ff0000;stroke:#ff0000;\" x=\"141.091374\" xlink:href=\"#m883a96140b\" y=\"152.558441\"/>\r\n     <use style=\"fill:#ff0000;stroke:#ff0000;\" x=\"92.26354\" xlink:href=\"#m883a96140b\" y=\"186.484581\"/>\r\n     <use style=\"fill:#ff0000;stroke:#ff0000;\" x=\"186.254912\" xlink:href=\"#m883a96140b\" y=\"132.202757\"/>\r\n     <use style=\"fill:#ff0000;stroke:#ff0000;\" x=\"164.652495\" xlink:href=\"#m883a96140b\" y=\"140.118856\"/>\r\n     <use style=\"fill:#ff0000;stroke:#ff0000;\" x=\"106.491543\" xlink:href=\"#m883a96140b\" y=\"182.526531\"/>\r\n     <use style=\"fill:#ff0000;stroke:#ff0000;\" x=\"108.751255\" xlink:href=\"#m883a96140b\" y=\"175.075446\"/>\r\n     <use style=\"fill:#ff0000;stroke:#ff0000;\" x=\"237.196938\" xlink:href=\"#m883a96140b\" y=\"102.800103\"/>\r\n     <use style=\"fill:#ff0000;stroke:#ff0000;\" x=\"76.280984\" xlink:href=\"#m883a96140b\" y=\"207.4057\"/>\r\n     <use style=\"fill:#ff0000;stroke:#ff0000;\" x=\"73.114823\" xlink:href=\"#m883a96140b\" y=\"212.211903\"/>\r\n     <use style=\"fill:#ff0000;stroke:#ff0000;\" x=\"197.288286\" xlink:href=\"#m883a96140b\" y=\"128.810143\"/>\r\n     <use style=\"fill:#ff0000;stroke:#ff0000;\" x=\"188.91963\" xlink:href=\"#m883a96140b\" y=\"124.286658\"/>\r\n     <use style=\"fill:#ff0000;stroke:#ff0000;\" x=\"74.639192\" xlink:href=\"#m883a96140b\" y=\"200.903077\"/>\r\n     <use style=\"fill:#ff0000;stroke:#ff0000;\" x=\"68.741027\" xlink:href=\"#m883a96140b\" y=\"214.756364\"/>\r\n     <use style=\"fill:#ff0000;stroke:#ff0000;\" x=\"210.341165\" xlink:href=\"#m883a96140b\" y=\"112.977945\"/>\r\n     <use style=\"fill:#ff0000;stroke:#ff0000;\" x=\"174.421244\" xlink:href=\"#m883a96140b\" y=\"149.165827\"/>\r\n     <use style=\"fill:#ff0000;stroke:#ff0000;\" x=\"152.008686\" xlink:href=\"#m883a96140b\" y=\"148.034956\"/>\r\n    </g>\r\n   </g>\r\n   <g id=\"line2d_12\">\r\n    <path clip-path=\"url(#pb3e224fa1a)\" d=\"M 72.520813 206.374002 \r\nL 362.202131 17.083636 \r\n\" style=\"fill:none;stroke:#008000;stroke-linecap:square;stroke-width:1.5;\"/>\r\n   </g>\r\n   <g id=\"patch_3\">\r\n    <path d=\"M 42.620313 224.64 \r\nL 42.620313 7.2 \r\n\" style=\"fill:none;stroke:#000000;stroke-linecap:square;stroke-linejoin:miter;stroke-width:0.8;\"/>\r\n   </g>\r\n   <g id=\"patch_4\">\r\n    <path d=\"M 377.420313 224.64 \r\nL 377.420313 7.2 \r\n\" style=\"fill:none;stroke:#000000;stroke-linecap:square;stroke-linejoin:miter;stroke-width:0.8;\"/>\r\n   </g>\r\n   <g id=\"patch_5\">\r\n    <path d=\"M 42.620313 224.64 \r\nL 377.420313 224.64 \r\n\" style=\"fill:none;stroke:#000000;stroke-linecap:square;stroke-linejoin:miter;stroke-width:0.8;\"/>\r\n   </g>\r\n   <g id=\"patch_6\">\r\n    <path d=\"M 42.620313 7.2 \r\nL 377.420313 7.2 \r\n\" style=\"fill:none;stroke:#000000;stroke-linecap:square;stroke-linejoin:miter;stroke-width:0.8;\"/>\r\n   </g>\r\n  </g>\r\n </g>\r\n <defs>\r\n  <clipPath id=\"pb3e224fa1a\">\r\n   <rect height=\"217.44\" width=\"334.8\" x=\"42.620313\" y=\"7.2\"/>\r\n  </clipPath>\r\n </defs>\r\n</svg>\r\n",
      "image/png": "[encoded data removed]"
     },
     "metadata": {
      "needs_background": "light"
     }
    },
    {
     "output_type": "execute_result",
     "data": {
      "text/plain": [
       "<module 'matplotlib.pyplot' from 'C:\\\\Users\\\\Sanket\\\\anaconda3\\\\envs\\\\mlenv\\\\lib\\\\site-packages\\\\matplotlib\\\\pyplot.py'>"
      ]
     },
     "metadata": {},
     "execution_count": 47
    }
   ],
   "source": [
    "# Plotting graph between real and predicted values\n",
    "def plot_real_vs_predicted(y_test,y_pred):\n",
    "    plt.plot(y_pred,y_test,'ro')\n",
    "    plt.plot([-1,3],[-1,3], 'g-')\n",
    "    plt.xlabel('predicted')\n",
    "    plt.ylabel('real')\n",
    "    plt.show()\n",
    "    return plt\n",
    "\n",
    "plot_real_vs_predicted(y_test,y_pred)"
   ]
  },
  {
   "cell_type": "code",
   "execution_count": null,
   "metadata": {},
   "outputs": [],
   "source": []
  }
 ]
}