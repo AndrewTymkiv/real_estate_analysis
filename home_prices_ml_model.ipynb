{
 "cells": [
  {
   "cell_type": "markdown",
   "metadata": {},
   "source": [
    "## Machine Learning Model for Predicting \"Sold Price\"\n",
    "#### We are creating a Multiple Linear Regression machine learning model to predict \"Sold Price\" of a house based on type, style, bedrooms, washrooms, list price, date, and some other parameters. This will help prespective buyers to bid for the house."
   ]
  },
  {
   "cell_type": "code",
   "execution_count": 1,
   "metadata": {},
   "outputs": [],
   "source": [
    "import pandas as pd\n",
    "from pathlib import Path\n",
    "import matplotlib.pyplot as plt\n",
    "from sklearn.linear_model import LinearRegression\n",
    "from sklearn.preprocessing import StandardScaler,OneHotEncoder\n",
    "from sklearn.model_selection import train_test_split\n",
    "import numpy as np\n",
    "from sklearn.metrics import mean_squared_error,r2_score,mean_absolute_error "
   ]
  },
  {
   "cell_type": "code",
   "execution_count": 2,
   "metadata": {},
   "outputs": [
    {
     "output_type": "execute_result",
     "data": {
      "text/plain": [
       "   #  LSC    EC  St# Street Name  Abbr   Dir Municipality   Community  \\\n",
       "0  1  Sld  None   38   Scarsdale   Crt  None     Brampton  Brampton W   \n",
       "1  2  Sld  None   55       Corby  Cres  None     Brampton  Brampton W   \n",
       "2  3  Sld  None    7      Manett  Cres  None     Brampton  Brampton W   \n",
       "3  4  Sld  None   76    Fairglen   Ave  None     Brampton  Brampton W   \n",
       "4  5  Sld  None  121    Richwood  Cres  None     Brampton  Brampton W   \n",
       "\n",
       "  List Price  ... Fam Kit Garage Type  A/C  Heat  Contract Date  Sold Date  \\\n",
       "0   $599,000  ...   N   1      Built-  Cen   Gas      3/16/2021  3/23/2021   \n",
       "1   $599,900  ...   N   1        None  Cen   Oil      2/23/2021  2/26/2021   \n",
       "2   $699,000  ...   N   1      Attach  Cen   Gas      1/21/2021  1/26/2021   \n",
       "3   $699,500  ...   N   1        None  Cen   Gas      3/16/2021  3/17/2021   \n",
       "4   $699,900  ...   N   1      Built-  Cen   Gas      2/21/2021  2/26/2021   \n",
       "\n",
       "   List Brokerage Co op Brokerage      MLS#  \n",
       "0     RE/MAX WEST   RE/MAX REALTY  W5153139  \n",
       "1     RE/MAX REAL   HOMELIFE/MIRA  W5125388  \n",
       "2     RE/MAX REAL   HOMELIFE/MIRA  W5091089  \n",
       "3     EXP REALTY,     ROYALSTARRE  W5153813  \n",
       "4     RE/MAX REAL    ROYAL LEPAGE  W5123258  \n",
       "\n",
       "[5 rows x 26 columns]"
      ],
      "text/html": "<div>\n<style scoped>\n    .dataframe tbody tr th:only-of-type {\n        vertical-align: middle;\n    }\n\n    .dataframe tbody tr th {\n        vertical-align: top;\n    }\n\n    .dataframe thead th {\n        text-align: right;\n    }\n</style>\n<table border=\"1\" class=\"dataframe\">\n  <thead>\n    <tr style=\"text-align: right;\">\n      <th></th>\n      <th>#</th>\n      <th>LSC</th>\n      <th>EC</th>\n      <th>St#</th>\n      <th>Street Name</th>\n      <th>Abbr</th>\n      <th>Dir</th>\n      <th>Municipality</th>\n      <th>Community</th>\n      <th>List Price</th>\n      <th>...</th>\n      <th>Fam</th>\n      <th>Kit</th>\n      <th>Garage Type</th>\n      <th>A/C</th>\n      <th>Heat</th>\n      <th>Contract Date</th>\n      <th>Sold Date</th>\n      <th>List Brokerage</th>\n      <th>Co op Brokerage</th>\n      <th>MLS#</th>\n    </tr>\n  </thead>\n  <tbody>\n    <tr>\n      <th>0</th>\n      <td>1</td>\n      <td>Sld</td>\n      <td>None</td>\n      <td>38</td>\n      <td>Scarsdale</td>\n      <td>Crt</td>\n      <td>None</td>\n      <td>Brampton</td>\n      <td>Brampton W</td>\n      <td>$599,000</td>\n      <td>...</td>\n      <td>N</td>\n      <td>1</td>\n      <td>Built-</td>\n      <td>Cen</td>\n      <td>Gas</td>\n      <td>3/16/2021</td>\n      <td>3/23/2021</td>\n      <td>RE/MAX WEST</td>\n      <td>RE/MAX REALTY</td>\n      <td>W5153139</td>\n    </tr>\n    <tr>\n      <th>1</th>\n      <td>2</td>\n      <td>Sld</td>\n      <td>None</td>\n      <td>55</td>\n      <td>Corby</td>\n      <td>Cres</td>\n      <td>None</td>\n      <td>Brampton</td>\n      <td>Brampton W</td>\n      <td>$599,900</td>\n      <td>...</td>\n      <td>N</td>\n      <td>1</td>\n      <td>None</td>\n      <td>Cen</td>\n      <td>Oil</td>\n      <td>2/23/2021</td>\n      <td>2/26/2021</td>\n      <td>RE/MAX REAL</td>\n      <td>HOMELIFE/MIRA</td>\n      <td>W5125388</td>\n    </tr>\n    <tr>\n      <th>2</th>\n      <td>3</td>\n      <td>Sld</td>\n      <td>None</td>\n      <td>7</td>\n      <td>Manett</td>\n      <td>Cres</td>\n      <td>None</td>\n      <td>Brampton</td>\n      <td>Brampton W</td>\n      <td>$699,000</td>\n      <td>...</td>\n      <td>N</td>\n      <td>1</td>\n      <td>Attach</td>\n      <td>Cen</td>\n      <td>Gas</td>\n      <td>1/21/2021</td>\n      <td>1/26/2021</td>\n      <td>RE/MAX REAL</td>\n      <td>HOMELIFE/MIRA</td>\n      <td>W5091089</td>\n    </tr>\n    <tr>\n      <th>3</th>\n      <td>4</td>\n      <td>Sld</td>\n      <td>None</td>\n      <td>76</td>\n      <td>Fairglen</td>\n      <td>Ave</td>\n      <td>None</td>\n      <td>Brampton</td>\n      <td>Brampton W</td>\n      <td>$699,500</td>\n      <td>...</td>\n      <td>N</td>\n      <td>1</td>\n      <td>None</td>\n      <td>Cen</td>\n      <td>Gas</td>\n      <td>3/16/2021</td>\n      <td>3/17/2021</td>\n      <td>EXP REALTY,</td>\n      <td>ROYALSTARRE</td>\n      <td>W5153813</td>\n    </tr>\n    <tr>\n      <th>4</th>\n      <td>5</td>\n      <td>Sld</td>\n      <td>None</td>\n      <td>121</td>\n      <td>Richwood</td>\n      <td>Cres</td>\n      <td>None</td>\n      <td>Brampton</td>\n      <td>Brampton W</td>\n      <td>$699,900</td>\n      <td>...</td>\n      <td>N</td>\n      <td>1</td>\n      <td>Built-</td>\n      <td>Cen</td>\n      <td>Gas</td>\n      <td>2/21/2021</td>\n      <td>2/26/2021</td>\n      <td>RE/MAX REAL</td>\n      <td>ROYAL LEPAGE</td>\n      <td>W5123258</td>\n    </tr>\n  </tbody>\n</table>\n<p>5 rows × 26 columns</p>\n</div>"
     },
     "metadata": {},
     "execution_count": 2
    }
   ],
   "source": [
    "# Importing the data from SQLite database into a DataFrame\n",
    "house_df = pd.read_sql_table('sold_homes', 'sqlite:///sold_homes.db').drop(columns=['index'])\n",
    "house_df.head()"
   ]
  },
  {
   "cell_type": "code",
   "execution_count": 3,
   "metadata": {},
   "outputs": [
    {
     "output_type": "execute_result",
     "data": {
      "text/plain": [
       "#                   int64\n",
       "LSC                object\n",
       "EC                 object\n",
       "St#                object\n",
       "Street Name        object\n",
       "Abbr               object\n",
       "Dir                object\n",
       "Municipality       object\n",
       "Community          object\n",
       "List Price         object\n",
       "Sold Price         object\n",
       "Type               object\n",
       "Style              object\n",
       "Br                  int64\n",
       "Additional          int64\n",
       "Wr                  int64\n",
       "Fam                object\n",
       "Kit                 int64\n",
       "Garage Type        object\n",
       "A/C                object\n",
       "Heat               object\n",
       "Contract Date      object\n",
       "Sold Date          object\n",
       "List Brokerage     object\n",
       "Co op Brokerage    object\n",
       "MLS#               object\n",
       "dtype: object"
      ]
     },
     "metadata": {},
     "execution_count": 3
    }
   ],
   "source": [
    "# Checking date types of columns\n",
    "house_df.dtypes"
   ]
  },
  {
   "cell_type": "markdown",
   "metadata": {},
   "source": [
    "### Data Preprocessing and Preliminary Features Selection\n",
    "\n",
    "* In this part, we have tested and dropped the columns are not beneficial to the machine learning model or which reduce the performance of machine learning model. For this, we used Exhaustive Feature Selection which is one of the Wrapper Methods.\n",
    "* Changed datatype of some of the columns (currency, dates) to intergers so that they can be used in machine learning model\n",
    "* Encoded the columns which can not be directly converted to numeric values. Also, checked if bucketing is required in such columns"
   ]
  },
  {
   "cell_type": "code",
   "execution_count": 4,
   "metadata": {},
   "outputs": [
    {
     "output_type": "execute_result",
     "data": {
      "text/plain": [
       "  List Price Sold Price        Type     Style  Br  Additional  Wr Fam  Kit  \\\n",
       "0   $599,000   $681,000  Att/Row/Tw  2-Storey   3           0   2   N    1   \n",
       "1   $599,900   $767,000  Semi-Detac  Bungalow   3           1   2   N    1   \n",
       "2   $699,000   $818,500  Att/Row/Tw  2-Storey   3           1   3   N    1   \n",
       "3   $699,500   $726,000  Semi-Detac  Bungalow   2           1   2   N    1   \n",
       "4   $699,900   $731,000  Att/Row/Tw  2-Storey   3           0   3   N    1   \n",
       "\n",
       "  Garage Type Contract Date  \n",
       "0      Built-     3/16/2021  \n",
       "1        None     2/23/2021  \n",
       "2      Attach     1/21/2021  \n",
       "3        None     3/16/2021  \n",
       "4      Built-     2/21/2021  "
      ],
      "text/html": "<div>\n<style scoped>\n    .dataframe tbody tr th:only-of-type {\n        vertical-align: middle;\n    }\n\n    .dataframe tbody tr th {\n        vertical-align: top;\n    }\n\n    .dataframe thead th {\n        text-align: right;\n    }\n</style>\n<table border=\"1\" class=\"dataframe\">\n  <thead>\n    <tr style=\"text-align: right;\">\n      <th></th>\n      <th>List Price</th>\n      <th>Sold Price</th>\n      <th>Type</th>\n      <th>Style</th>\n      <th>Br</th>\n      <th>Additional</th>\n      <th>Wr</th>\n      <th>Fam</th>\n      <th>Kit</th>\n      <th>Garage Type</th>\n      <th>Contract Date</th>\n    </tr>\n  </thead>\n  <tbody>\n    <tr>\n      <th>0</th>\n      <td>$599,000</td>\n      <td>$681,000</td>\n      <td>Att/Row/Tw</td>\n      <td>2-Storey</td>\n      <td>3</td>\n      <td>0</td>\n      <td>2</td>\n      <td>N</td>\n      <td>1</td>\n      <td>Built-</td>\n      <td>3/16/2021</td>\n    </tr>\n    <tr>\n      <th>1</th>\n      <td>$599,900</td>\n      <td>$767,000</td>\n      <td>Semi-Detac</td>\n      <td>Bungalow</td>\n      <td>3</td>\n      <td>1</td>\n      <td>2</td>\n      <td>N</td>\n      <td>1</td>\n      <td>None</td>\n      <td>2/23/2021</td>\n    </tr>\n    <tr>\n      <th>2</th>\n      <td>$699,000</td>\n      <td>$818,500</td>\n      <td>Att/Row/Tw</td>\n      <td>2-Storey</td>\n      <td>3</td>\n      <td>1</td>\n      <td>3</td>\n      <td>N</td>\n      <td>1</td>\n      <td>Attach</td>\n      <td>1/21/2021</td>\n    </tr>\n    <tr>\n      <th>3</th>\n      <td>$699,500</td>\n      <td>$726,000</td>\n      <td>Semi-Detac</td>\n      <td>Bungalow</td>\n      <td>2</td>\n      <td>1</td>\n      <td>2</td>\n      <td>N</td>\n      <td>1</td>\n      <td>None</td>\n      <td>3/16/2021</td>\n    </tr>\n    <tr>\n      <th>4</th>\n      <td>$699,900</td>\n      <td>$731,000</td>\n      <td>Att/Row/Tw</td>\n      <td>2-Storey</td>\n      <td>3</td>\n      <td>0</td>\n      <td>3</td>\n      <td>N</td>\n      <td>1</td>\n      <td>Built-</td>\n      <td>2/21/2021</td>\n    </tr>\n  </tbody>\n</table>\n</div>"
     },
     "metadata": {},
     "execution_count": 4
    }
   ],
   "source": [
    "# Drop the non-beneficial columns\n",
    "house_df = house_df.drop([\"#\",\"LSC\",\"EC\",\"St#\",\"Dir\",\"Municipality\",\"Community\",\"MLS#\",\"Abbr\",\"List Brokerage\",\"Co op Brokerage\",\"Street Name\",\"Heat\",\"A/C\",\"Sold Date\"],1)\n",
    "house_df.head()"
   ]
  },
  {
   "cell_type": "markdown",
   "metadata": {},
   "source": [
    "#### At this point, 11 columns or features remain in the dataset: \"List Price\", \"Sold Price\", \"Type\", \"Style\", \"Br\"(bedrooms),\t\"Additional\"(additional rooms), \"Wr\"(washrooms), \"Fam\", \"Kit\"(kitchen), \"Garage Type\", \"Contract Date\", \"Sold Date\" "
   ]
  },
  {
   "cell_type": "code",
   "execution_count": 5,
   "metadata": {},
   "outputs": [
    {
     "output_type": "execute_result",
     "data": {
      "text/plain": [
       "   List Price  Sold Price        Type     Style  Br  Additional  Wr Fam  Kit  \\\n",
       "0      599000      681000  Att/Row/Tw  2-Storey   3           0   2   N    1   \n",
       "1      599900      767000  Semi-Detac  Bungalow   3           1   2   N    1   \n",
       "2      699000      818500  Att/Row/Tw  2-Storey   3           1   3   N    1   \n",
       "3      699500      726000  Semi-Detac  Bungalow   2           1   2   N    1   \n",
       "4      699900      731000  Att/Row/Tw  2-Storey   3           0   3   N    1   \n",
       "\n",
       "  Garage Type Contract Date  \n",
       "0      Built-     3/16/2021  \n",
       "1        None     2/23/2021  \n",
       "2      Attach     1/21/2021  \n",
       "3        None     3/16/2021  \n",
       "4      Built-     2/21/2021  "
      ],
      "text/html": "<div>\n<style scoped>\n    .dataframe tbody tr th:only-of-type {\n        vertical-align: middle;\n    }\n\n    .dataframe tbody tr th {\n        vertical-align: top;\n    }\n\n    .dataframe thead th {\n        text-align: right;\n    }\n</style>\n<table border=\"1\" class=\"dataframe\">\n  <thead>\n    <tr style=\"text-align: right;\">\n      <th></th>\n      <th>List Price</th>\n      <th>Sold Price</th>\n      <th>Type</th>\n      <th>Style</th>\n      <th>Br</th>\n      <th>Additional</th>\n      <th>Wr</th>\n      <th>Fam</th>\n      <th>Kit</th>\n      <th>Garage Type</th>\n      <th>Contract Date</th>\n    </tr>\n  </thead>\n  <tbody>\n    <tr>\n      <th>0</th>\n      <td>599000</td>\n      <td>681000</td>\n      <td>Att/Row/Tw</td>\n      <td>2-Storey</td>\n      <td>3</td>\n      <td>0</td>\n      <td>2</td>\n      <td>N</td>\n      <td>1</td>\n      <td>Built-</td>\n      <td>3/16/2021</td>\n    </tr>\n    <tr>\n      <th>1</th>\n      <td>599900</td>\n      <td>767000</td>\n      <td>Semi-Detac</td>\n      <td>Bungalow</td>\n      <td>3</td>\n      <td>1</td>\n      <td>2</td>\n      <td>N</td>\n      <td>1</td>\n      <td>None</td>\n      <td>2/23/2021</td>\n    </tr>\n    <tr>\n      <th>2</th>\n      <td>699000</td>\n      <td>818500</td>\n      <td>Att/Row/Tw</td>\n      <td>2-Storey</td>\n      <td>3</td>\n      <td>1</td>\n      <td>3</td>\n      <td>N</td>\n      <td>1</td>\n      <td>Attach</td>\n      <td>1/21/2021</td>\n    </tr>\n    <tr>\n      <th>3</th>\n      <td>699500</td>\n      <td>726000</td>\n      <td>Semi-Detac</td>\n      <td>Bungalow</td>\n      <td>2</td>\n      <td>1</td>\n      <td>2</td>\n      <td>N</td>\n      <td>1</td>\n      <td>None</td>\n      <td>3/16/2021</td>\n    </tr>\n    <tr>\n      <th>4</th>\n      <td>699900</td>\n      <td>731000</td>\n      <td>Att/Row/Tw</td>\n      <td>2-Storey</td>\n      <td>3</td>\n      <td>0</td>\n      <td>3</td>\n      <td>N</td>\n      <td>1</td>\n      <td>Built-</td>\n      <td>2/21/2021</td>\n    </tr>\n  </tbody>\n</table>\n</div>"
     },
     "metadata": {},
     "execution_count": 5
    }
   ],
   "source": [
    "# Converting \"List Price\" and \"Sold Price\" to integer type\n",
    "house_df[\"List Price\"] = house_df[\"List Price\"].replace('[\\$,]', '', regex=True).astype(int)\n",
    "house_df[\"Sold Price\"] = house_df[\"Sold Price\"].replace('[\\$,]', '', regex=True).astype(int)\n",
    "house_df.head()"
   ]
  },
  {
   "cell_type": "code",
   "execution_count": 6,
   "metadata": {},
   "outputs": [
    {
     "output_type": "execute_result",
     "data": {
      "text/plain": [
       "   List Price  Sold Price        Type     Style  Br  Additional  Wr Fam  Kit  \\\n",
       "0      599000      681000  Att/Row/Tw  2-Storey   3           0   2   N    1   \n",
       "1      599900      767000  Semi-Detac  Bungalow   3           1   2   N    1   \n",
       "2      699000      818500  Att/Row/Tw  2-Storey   3           1   3   N    1   \n",
       "3      699500      726000  Semi-Detac  Bungalow   2           1   2   N    1   \n",
       "4      699900      731000  Att/Row/Tw  2-Storey   3           0   3   N    1   \n",
       "\n",
       "  Garage Type  Contract Date  \n",
       "0      Built-        3162021  \n",
       "1        None        2232021  \n",
       "2      Attach        1212021  \n",
       "3        None        3162021  \n",
       "4      Built-        2212021  "
      ],
      "text/html": "<div>\n<style scoped>\n    .dataframe tbody tr th:only-of-type {\n        vertical-align: middle;\n    }\n\n    .dataframe tbody tr th {\n        vertical-align: top;\n    }\n\n    .dataframe thead th {\n        text-align: right;\n    }\n</style>\n<table border=\"1\" class=\"dataframe\">\n  <thead>\n    <tr style=\"text-align: right;\">\n      <th></th>\n      <th>List Price</th>\n      <th>Sold Price</th>\n      <th>Type</th>\n      <th>Style</th>\n      <th>Br</th>\n      <th>Additional</th>\n      <th>Wr</th>\n      <th>Fam</th>\n      <th>Kit</th>\n      <th>Garage Type</th>\n      <th>Contract Date</th>\n    </tr>\n  </thead>\n  <tbody>\n    <tr>\n      <th>0</th>\n      <td>599000</td>\n      <td>681000</td>\n      <td>Att/Row/Tw</td>\n      <td>2-Storey</td>\n      <td>3</td>\n      <td>0</td>\n      <td>2</td>\n      <td>N</td>\n      <td>1</td>\n      <td>Built-</td>\n      <td>3162021</td>\n    </tr>\n    <tr>\n      <th>1</th>\n      <td>599900</td>\n      <td>767000</td>\n      <td>Semi-Detac</td>\n      <td>Bungalow</td>\n      <td>3</td>\n      <td>1</td>\n      <td>2</td>\n      <td>N</td>\n      <td>1</td>\n      <td>None</td>\n      <td>2232021</td>\n    </tr>\n    <tr>\n      <th>2</th>\n      <td>699000</td>\n      <td>818500</td>\n      <td>Att/Row/Tw</td>\n      <td>2-Storey</td>\n      <td>3</td>\n      <td>1</td>\n      <td>3</td>\n      <td>N</td>\n      <td>1</td>\n      <td>Attach</td>\n      <td>1212021</td>\n    </tr>\n    <tr>\n      <th>3</th>\n      <td>699500</td>\n      <td>726000</td>\n      <td>Semi-Detac</td>\n      <td>Bungalow</td>\n      <td>2</td>\n      <td>1</td>\n      <td>2</td>\n      <td>N</td>\n      <td>1</td>\n      <td>None</td>\n      <td>3162021</td>\n    </tr>\n    <tr>\n      <th>4</th>\n      <td>699900</td>\n      <td>731000</td>\n      <td>Att/Row/Tw</td>\n      <td>2-Storey</td>\n      <td>3</td>\n      <td>0</td>\n      <td>3</td>\n      <td>N</td>\n      <td>1</td>\n      <td>Built-</td>\n      <td>2212021</td>\n    </tr>\n  </tbody>\n</table>\n</div>"
     },
     "metadata": {},
     "execution_count": 6
    }
   ],
   "source": [
    "# Converting the 'Contract Date' to integer type\n",
    "house_df['Contract Date'] = house_df['Contract Date'].replace('[\\/]', '', regex=True).astype(int)\n",
    "house_df.head()"
   ]
  },
  {
   "cell_type": "code",
   "execution_count": 7,
   "metadata": {},
   "outputs": [
    {
     "output_type": "execute_result",
     "data": {
      "text/plain": [
       "List Price        int32\n",
       "Sold Price        int32\n",
       "Type             object\n",
       "Style            object\n",
       "Br                int64\n",
       "Additional        int64\n",
       "Wr                int64\n",
       "Fam              object\n",
       "Kit               int64\n",
       "Garage Type      object\n",
       "Contract Date     int32\n",
       "dtype: object"
      ]
     },
     "metadata": {},
     "execution_count": 7
    }
   ],
   "source": [
    "house_df.dtypes"
   ]
  },
  {
   "cell_type": "code",
   "execution_count": 8,
   "metadata": {},
   "outputs": [
    {
     "output_type": "execute_result",
     "data": {
      "text/plain": [
       "Type            5\n",
       "Style          10\n",
       "Fam             2\n",
       "Garage Type     6\n",
       "dtype: int64"
      ]
     },
     "metadata": {},
     "execution_count": 8
    }
   ],
   "source": [
    "# Determine the number of unique values in each column with object datatype\n",
    "house_cat = house_df.dtypes[house_df.dtypes == \"object\"].index.tolist()\n",
    "house_df[house_cat].nunique()"
   ]
  },
  {
   "cell_type": "markdown",
   "metadata": {},
   "source": [
    "### Encoding Categorial Values\n",
    "We have encoded categorical values in columns \"Type\", \"Style\", \"Fam\", and \"Garage Type\" using `OneHotEncoder()` "
   ]
  },
  {
   "cell_type": "code",
   "execution_count": 9,
   "metadata": {},
   "outputs": [
    {
     "output_type": "execute_result",
     "data": {
      "text/plain": [
       "   Type_Att/Row/Tw  Type_Detached  Type_Link  Type_Semi-Detac  \\\n",
       "0              1.0            0.0        0.0              0.0   \n",
       "1              0.0            0.0        0.0              1.0   \n",
       "2              1.0            0.0        0.0              0.0   \n",
       "3              0.0            0.0        0.0              1.0   \n",
       "4              1.0            0.0        0.0              0.0   \n",
       "\n",
       "   Type_Vacant Lan  Style_1 1/2 Stor  Style_2 1/2 Stor  Style_2-Storey  \\\n",
       "0              0.0               0.0               0.0             1.0   \n",
       "1              0.0               0.0               0.0             0.0   \n",
       "2              0.0               0.0               0.0             1.0   \n",
       "3              0.0               0.0               0.0             0.0   \n",
       "4              0.0               0.0               0.0             1.0   \n",
       "\n",
       "   Style_3-Storey  Style_Backsplit  ...  Style_Other  Style_Sidesplit  Fam_N  \\\n",
       "0             0.0              0.0  ...          0.0              0.0    1.0   \n",
       "1             0.0              0.0  ...          0.0              0.0    1.0   \n",
       "2             0.0              0.0  ...          0.0              0.0    1.0   \n",
       "3             0.0              0.0  ...          0.0              0.0    1.0   \n",
       "4             0.0              0.0  ...          0.0              0.0    1.0   \n",
       "\n",
       "   Fam_Y  Garage Type_Attach  Garage Type_Built-  Garage Type_Carpor  \\\n",
       "0    0.0                 0.0                 1.0                 0.0   \n",
       "1    0.0                 0.0                 0.0                 0.0   \n",
       "2    0.0                 1.0                 0.0                 0.0   \n",
       "3    0.0                 0.0                 0.0                 0.0   \n",
       "4    0.0                 0.0                 1.0                 0.0   \n",
       "\n",
       "   Garage Type_Detach  Garage Type_None  Garage Type_Other  \n",
       "0                 0.0               0.0                0.0  \n",
       "1                 0.0               1.0                0.0  \n",
       "2                 0.0               0.0                0.0  \n",
       "3                 0.0               1.0                0.0  \n",
       "4                 0.0               0.0                0.0  \n",
       "\n",
       "[5 rows x 23 columns]"
      ],
      "text/html": "<div>\n<style scoped>\n    .dataframe tbody tr th:only-of-type {\n        vertical-align: middle;\n    }\n\n    .dataframe tbody tr th {\n        vertical-align: top;\n    }\n\n    .dataframe thead th {\n        text-align: right;\n    }\n</style>\n<table border=\"1\" class=\"dataframe\">\n  <thead>\n    <tr style=\"text-align: right;\">\n      <th></th>\n      <th>Type_Att/Row/Tw</th>\n      <th>Type_Detached</th>\n      <th>Type_Link</th>\n      <th>Type_Semi-Detac</th>\n      <th>Type_Vacant Lan</th>\n      <th>Style_1 1/2 Stor</th>\n      <th>Style_2 1/2 Stor</th>\n      <th>Style_2-Storey</th>\n      <th>Style_3-Storey</th>\n      <th>Style_Backsplit</th>\n      <th>...</th>\n      <th>Style_Other</th>\n      <th>Style_Sidesplit</th>\n      <th>Fam_N</th>\n      <th>Fam_Y</th>\n      <th>Garage Type_Attach</th>\n      <th>Garage Type_Built-</th>\n      <th>Garage Type_Carpor</th>\n      <th>Garage Type_Detach</th>\n      <th>Garage Type_None</th>\n      <th>Garage Type_Other</th>\n    </tr>\n  </thead>\n  <tbody>\n    <tr>\n      <th>0</th>\n      <td>1.0</td>\n      <td>0.0</td>\n      <td>0.0</td>\n      <td>0.0</td>\n      <td>0.0</td>\n      <td>0.0</td>\n      <td>0.0</td>\n      <td>1.0</td>\n      <td>0.0</td>\n      <td>0.0</td>\n      <td>...</td>\n      <td>0.0</td>\n      <td>0.0</td>\n      <td>1.0</td>\n      <td>0.0</td>\n      <td>0.0</td>\n      <td>1.0</td>\n      <td>0.0</td>\n      <td>0.0</td>\n      <td>0.0</td>\n      <td>0.0</td>\n    </tr>\n    <tr>\n      <th>1</th>\n      <td>0.0</td>\n      <td>0.0</td>\n      <td>0.0</td>\n      <td>1.0</td>\n      <td>0.0</td>\n      <td>0.0</td>\n      <td>0.0</td>\n      <td>0.0</td>\n      <td>0.0</td>\n      <td>0.0</td>\n      <td>...</td>\n      <td>0.0</td>\n      <td>0.0</td>\n      <td>1.0</td>\n      <td>0.0</td>\n      <td>0.0</td>\n      <td>0.0</td>\n      <td>0.0</td>\n      <td>0.0</td>\n      <td>1.0</td>\n      <td>0.0</td>\n    </tr>\n    <tr>\n      <th>2</th>\n      <td>1.0</td>\n      <td>0.0</td>\n      <td>0.0</td>\n      <td>0.0</td>\n      <td>0.0</td>\n      <td>0.0</td>\n      <td>0.0</td>\n      <td>1.0</td>\n      <td>0.0</td>\n      <td>0.0</td>\n      <td>...</td>\n      <td>0.0</td>\n      <td>0.0</td>\n      <td>1.0</td>\n      <td>0.0</td>\n      <td>1.0</td>\n      <td>0.0</td>\n      <td>0.0</td>\n      <td>0.0</td>\n      <td>0.0</td>\n      <td>0.0</td>\n    </tr>\n    <tr>\n      <th>3</th>\n      <td>0.0</td>\n      <td>0.0</td>\n      <td>0.0</td>\n      <td>1.0</td>\n      <td>0.0</td>\n      <td>0.0</td>\n      <td>0.0</td>\n      <td>0.0</td>\n      <td>0.0</td>\n      <td>0.0</td>\n      <td>...</td>\n      <td>0.0</td>\n      <td>0.0</td>\n      <td>1.0</td>\n      <td>0.0</td>\n      <td>0.0</td>\n      <td>0.0</td>\n      <td>0.0</td>\n      <td>0.0</td>\n      <td>1.0</td>\n      <td>0.0</td>\n    </tr>\n    <tr>\n      <th>4</th>\n      <td>1.0</td>\n      <td>0.0</td>\n      <td>0.0</td>\n      <td>0.0</td>\n      <td>0.0</td>\n      <td>0.0</td>\n      <td>0.0</td>\n      <td>1.0</td>\n      <td>0.0</td>\n      <td>0.0</td>\n      <td>...</td>\n      <td>0.0</td>\n      <td>0.0</td>\n      <td>1.0</td>\n      <td>0.0</td>\n      <td>0.0</td>\n      <td>1.0</td>\n      <td>0.0</td>\n      <td>0.0</td>\n      <td>0.0</td>\n      <td>0.0</td>\n    </tr>\n  </tbody>\n</table>\n<p>5 rows × 23 columns</p>\n</div>"
     },
     "metadata": {},
     "execution_count": 9
    }
   ],
   "source": [
    "# Create a OneHotEncoder instance\n",
    "enc = OneHotEncoder(sparse=False)\n",
    "\n",
    "# Fit and transform the OneHotEncoder using the categorical variable list\n",
    "encode_df = pd.DataFrame(enc.fit_transform(house_df[house_cat]))\n",
    "\n",
    "# Add the encoded variable names to the dataframe\n",
    "encode_df.columns = enc.get_feature_names(house_cat)\n",
    "encode_df.head()"
   ]
  },
  {
   "cell_type": "code",
   "execution_count": 10,
   "metadata": {},
   "outputs": [
    {
     "output_type": "execute_result",
     "data": {
      "text/plain": [
       "   List Price  Sold Price  Br  Additional  Wr  Kit  Contract Date  \\\n",
       "0      599000      681000   3           0   2    1        3162021   \n",
       "1      599900      767000   3           1   2    1        2232021   \n",
       "2      699000      818500   3           1   3    1        1212021   \n",
       "3      699500      726000   2           1   2    1        3162021   \n",
       "4      699900      731000   3           0   3    1        2212021   \n",
       "\n",
       "   Type_Att/Row/Tw  Type_Detached  Type_Link  ...  Style_Other  \\\n",
       "0              1.0            0.0        0.0  ...          0.0   \n",
       "1              0.0            0.0        0.0  ...          0.0   \n",
       "2              1.0            0.0        0.0  ...          0.0   \n",
       "3              0.0            0.0        0.0  ...          0.0   \n",
       "4              1.0            0.0        0.0  ...          0.0   \n",
       "\n",
       "   Style_Sidesplit  Fam_N  Fam_Y  Garage Type_Attach  Garage Type_Built-  \\\n",
       "0              0.0    1.0    0.0                 0.0                 1.0   \n",
       "1              0.0    1.0    0.0                 0.0                 0.0   \n",
       "2              0.0    1.0    0.0                 1.0                 0.0   \n",
       "3              0.0    1.0    0.0                 0.0                 0.0   \n",
       "4              0.0    1.0    0.0                 0.0                 1.0   \n",
       "\n",
       "   Garage Type_Carpor  Garage Type_Detach  Garage Type_None  Garage Type_Other  \n",
       "0                 0.0                 0.0               0.0                0.0  \n",
       "1                 0.0                 0.0               1.0                0.0  \n",
       "2                 0.0                 0.0               0.0                0.0  \n",
       "3                 0.0                 0.0               1.0                0.0  \n",
       "4                 0.0                 0.0               0.0                0.0  \n",
       "\n",
       "[5 rows x 30 columns]"
      ],
      "text/html": "<div>\n<style scoped>\n    .dataframe tbody tr th:only-of-type {\n        vertical-align: middle;\n    }\n\n    .dataframe tbody tr th {\n        vertical-align: top;\n    }\n\n    .dataframe thead th {\n        text-align: right;\n    }\n</style>\n<table border=\"1\" class=\"dataframe\">\n  <thead>\n    <tr style=\"text-align: right;\">\n      <th></th>\n      <th>List Price</th>\n      <th>Sold Price</th>\n      <th>Br</th>\n      <th>Additional</th>\n      <th>Wr</th>\n      <th>Kit</th>\n      <th>Contract Date</th>\n      <th>Type_Att/Row/Tw</th>\n      <th>Type_Detached</th>\n      <th>Type_Link</th>\n      <th>...</th>\n      <th>Style_Other</th>\n      <th>Style_Sidesplit</th>\n      <th>Fam_N</th>\n      <th>Fam_Y</th>\n      <th>Garage Type_Attach</th>\n      <th>Garage Type_Built-</th>\n      <th>Garage Type_Carpor</th>\n      <th>Garage Type_Detach</th>\n      <th>Garage Type_None</th>\n      <th>Garage Type_Other</th>\n    </tr>\n  </thead>\n  <tbody>\n    <tr>\n      <th>0</th>\n      <td>599000</td>\n      <td>681000</td>\n      <td>3</td>\n      <td>0</td>\n      <td>2</td>\n      <td>1</td>\n      <td>3162021</td>\n      <td>1.0</td>\n      <td>0.0</td>\n      <td>0.0</td>\n      <td>...</td>\n      <td>0.0</td>\n      <td>0.0</td>\n      <td>1.0</td>\n      <td>0.0</td>\n      <td>0.0</td>\n      <td>1.0</td>\n      <td>0.0</td>\n      <td>0.0</td>\n      <td>0.0</td>\n      <td>0.0</td>\n    </tr>\n    <tr>\n      <th>1</th>\n      <td>599900</td>\n      <td>767000</td>\n      <td>3</td>\n      <td>1</td>\n      <td>2</td>\n      <td>1</td>\n      <td>2232021</td>\n      <td>0.0</td>\n      <td>0.0</td>\n      <td>0.0</td>\n      <td>...</td>\n      <td>0.0</td>\n      <td>0.0</td>\n      <td>1.0</td>\n      <td>0.0</td>\n      <td>0.0</td>\n      <td>0.0</td>\n      <td>0.0</td>\n      <td>0.0</td>\n      <td>1.0</td>\n      <td>0.0</td>\n    </tr>\n    <tr>\n      <th>2</th>\n      <td>699000</td>\n      <td>818500</td>\n      <td>3</td>\n      <td>1</td>\n      <td>3</td>\n      <td>1</td>\n      <td>1212021</td>\n      <td>1.0</td>\n      <td>0.0</td>\n      <td>0.0</td>\n      <td>...</td>\n      <td>0.0</td>\n      <td>0.0</td>\n      <td>1.0</td>\n      <td>0.0</td>\n      <td>1.0</td>\n      <td>0.0</td>\n      <td>0.0</td>\n      <td>0.0</td>\n      <td>0.0</td>\n      <td>0.0</td>\n    </tr>\n    <tr>\n      <th>3</th>\n      <td>699500</td>\n      <td>726000</td>\n      <td>2</td>\n      <td>1</td>\n      <td>2</td>\n      <td>1</td>\n      <td>3162021</td>\n      <td>0.0</td>\n      <td>0.0</td>\n      <td>0.0</td>\n      <td>...</td>\n      <td>0.0</td>\n      <td>0.0</td>\n      <td>1.0</td>\n      <td>0.0</td>\n      <td>0.0</td>\n      <td>0.0</td>\n      <td>0.0</td>\n      <td>0.0</td>\n      <td>1.0</td>\n      <td>0.0</td>\n    </tr>\n    <tr>\n      <th>4</th>\n      <td>699900</td>\n      <td>731000</td>\n      <td>3</td>\n      <td>0</td>\n      <td>3</td>\n      <td>1</td>\n      <td>2212021</td>\n      <td>1.0</td>\n      <td>0.0</td>\n      <td>0.0</td>\n      <td>...</td>\n      <td>0.0</td>\n      <td>0.0</td>\n      <td>1.0</td>\n      <td>0.0</td>\n      <td>0.0</td>\n      <td>1.0</td>\n      <td>0.0</td>\n      <td>0.0</td>\n      <td>0.0</td>\n      <td>0.0</td>\n    </tr>\n  </tbody>\n</table>\n<p>5 rows × 30 columns</p>\n</div>"
     },
     "metadata": {},
     "execution_count": 10
    }
   ],
   "source": [
    "# Merge one-hot encoded features and drop the originals\n",
    "house_df = house_df.merge(encode_df,left_index=True, right_index=True)\n",
    "house_df = house_df.drop(house_cat,1)\n",
    "house_df.head()"
   ]
  },
  {
   "cell_type": "markdown",
   "metadata": {},
   "source": [
    "### Splitting into Training and Testing Datasets\n",
    "The dataset is split into training and testing datasets using `train_test_split()` "
   ]
  },
  {
   "cell_type": "code",
   "execution_count": 11,
   "metadata": {},
   "outputs": [],
   "source": [
    "# Split our preprocessed data into our features and target arrays\n",
    "y = house_df[\"Sold Price\"].values\n",
    "X = house_df.drop(columns=[\"Sold Price\"]).values\n",
    "\n",
    "# Split the preprocessed data into a training and testing dataset\n",
    "X_train, X_test, y_train, y_test = train_test_split(X, y, test_size=0.1,train_size=0.9, random_state=5)"
   ]
  },
  {
   "cell_type": "markdown",
   "metadata": {},
   "source": [
    "### Creating the Model\n",
    "Here we creating Multiple Linear Regression machine learning model using `LinearRegression()` from `sklearn`. Multiple linear regression is used to estimates the relationship between several independent variables (features) and one dependent variable.  "
   ]
  },
  {
   "cell_type": "code",
   "execution_count": 12,
   "metadata": {},
   "outputs": [
    {
     "output_type": "execute_result",
     "data": {
      "text/plain": [
       "LinearRegression()"
      ]
     },
     "metadata": {},
     "execution_count": 12
    }
   ],
   "source": [
    "# Created the model and fitted the data in the model\n",
    "model = LinearRegression()\n",
    "model.fit(X_train, y_train)"
   ]
  },
  {
   "cell_type": "code",
   "execution_count": 13,
   "metadata": {},
   "outputs": [],
   "source": [
    "# The model creates predicted y values based on X values from test dataset\n",
    "y_pred = model.predict(X_test)"
   ]
  },
  {
   "cell_type": "markdown",
   "metadata": {},
   "source": [
    "### Checking Model Performance\n",
    "**Coefficient of Determination (R2)**: It explains to what extent the variance of one variable explains the variance of the second variable. It usually has a value of 0 to 1. The closer the value is to 1, better the fit. "
   ]
  },
  {
   "cell_type": "code",
   "execution_count": 14,
   "metadata": {},
   "outputs": [
    {
     "output_type": "stream",
     "name": "stdout",
     "text": [
      "Coefficient of Determination: 0.9412023137976274\n"
     ]
    }
   ],
   "source": [
    "# Calculating R2 value or Coefficient of Determination\n",
    "test_set_r2 = r2_score(y_test, y_pred)\n",
    "print(\"Coefficient of Determination:\",test_set_r2)"
   ]
  },
  {
   "cell_type": "markdown",
   "metadata": {},
   "source": [
    "**Mean Absolute Error (MAE)**: It is an arithmetic average of the absolute errors. It has same unit as original data. The lower the MAE value, more accurate the model is."
   ]
  },
  {
   "cell_type": "code",
   "execution_count": 15,
   "metadata": {},
   "outputs": [
    {
     "output_type": "stream",
     "name": "stdout",
     "text": [
      "Mean Absolute Error: 50207.32672560741\n"
     ]
    }
   ],
   "source": [
    "# Calculating MAE or Mean Absolute Error\n",
    "mae = mean_absolute_error(y_test, y_pred)\n",
    "print(\"Mean Absolute Error:\",mae)"
   ]
  },
  {
   "cell_type": "markdown",
   "metadata": {},
   "source": [
    "**Root Mean Squared Error (RMSE)**: It is the mean of the squared errors. The lower the RMSE value, more accurate the model is. It is one of the most commonly used evaluation methods for regression models."
   ]
  },
  {
   "cell_type": "code",
   "execution_count": 16,
   "metadata": {},
   "outputs": [
    {
     "output_type": "stream",
     "name": "stdout",
     "text": [
      "Root Mean Squared Error: 66918.919833307\n"
     ]
    }
   ],
   "source": [
    "# Calculating RMSE or Root Mean Square Error\n",
    "rmse = (np.sqrt(mean_squared_error(y_test, y_pred)))\n",
    "print(\"Root Mean Squared Error:\",rmse)"
   ]
  },
  {
   "cell_type": "markdown",
   "metadata": {},
   "source": [
    "#### Comparing MAE and RMSE values with the average of `y_test` dataset  "
   ]
  },
  {
   "cell_type": "code",
   "execution_count": 17,
   "metadata": {},
   "outputs": [
    {
     "output_type": "stream",
     "name": "stdout",
     "text": [
      "The MAE is 4.98% of Average of y_test (1,008,853)\n"
     ]
    }
   ],
   "source": [
    "# Comparing the MAE with Mean of the actual values (y_test)\n",
    "print(f\"The MAE is {(mae/np.mean(y_test))*100:.2f}% of Average of y_test ({np.mean(y_test):,.0f})\")"
   ]
  },
  {
   "cell_type": "code",
   "execution_count": 18,
   "metadata": {},
   "outputs": [
    {
     "output_type": "stream",
     "name": "stdout",
     "text": [
      "The RMSE is 6.63% of Average of y_test (1,008,853)\n"
     ]
    }
   ],
   "source": [
    "# Comparing the RMSE with Mean of the actual values (y_test)\n",
    "print(f\"The RMSE is {(rmse/np.mean(y_test))*100:.2f}% of Average of y_test ({np.mean(y_test):,.0f})\")"
   ]
  },
  {
   "cell_type": "code",
   "execution_count": 19,
   "metadata": {},
   "outputs": [
    {
     "output_type": "display_data",
     "data": {
      "text/plain": "<Figure size 432x288 with 1 Axes>",
      "image/svg+xml": "<?xml version=\"1.0\" encoding=\"utf-8\" standalone=\"no\"?>\r\n<!DOCTYPE svg PUBLIC \"-//W3C//DTD SVG 1.1//EN\"\r\n  \"http://www.w3.org/Graphics/SVG/1.1/DTD/svg11.dtd\">\r\n<!-- Created with matplotlib (https://matplotlib.org/) -->\r\n<svg height=\"272.794688pt\" version=\"1.1\" viewBox=\"0 0 385.78125 272.794688\" width=\"385.78125pt\" xmlns=\"http://www.w3.org/2000/svg\" xmlns:xlink=\"http://www.w3.org/1999/xlink\">\r\n <metadata>\r\n  <rdf:RDF xmlns:cc=\"http://creativecommons.org/ns#\" xmlns:dc=\"http://purl.org/dc/elements/1.1/\" xmlns:rdf=\"http://www.w3.org/1999/02/22-rdf-syntax-ns#\">\r\n   <cc:Work>\r\n    <dc:type rdf:resource=\"http://purl.org/dc/dcmitype/StillImage\"/>\r\n    <dc:date>2021-06-06T18:13:27.132407</dc:date>\r\n    <dc:format>image/svg+xml</dc:format>\r\n    <dc:creator>\r\n     <cc:Agent>\r\n      <dc:title>Matplotlib v3.3.2, https://matplotlib.org/</dc:title>\r\n     </cc:Agent>\r\n    </dc:creator>\r\n   </cc:Work>\r\n  </rdf:RDF>\r\n </metadata>\r\n <defs>\r\n  <style type=\"text/css\">*{stroke-linecap:butt;stroke-linejoin:round;}</style>\r\n </defs>\r\n <g id=\"figure_1\">\r\n  <g id=\"patch_1\">\r\n   <path d=\"M 0 272.794688 \r\nL 385.78125 272.794688 \r\nL 385.78125 0 \r\nL 0 0 \r\nz\r\n\" style=\"fill:none;\"/>\r\n  </g>\r\n  <g id=\"axes_1\">\r\n   <g id=\"patch_2\">\r\n    <path d=\"M 43.78125 235.238438 \r\nL 378.58125 235.238438 \r\nL 378.58125 17.798438 \r\nL 43.78125 17.798438 \r\nz\r\n\" style=\"fill:#ffffff;\"/>\r\n   </g>\r\n   <g id=\"matplotlib.axis_1\">\r\n    <g id=\"xtick_1\">\r\n     <g id=\"line2d_1\">\r\n      <defs>\r\n       <path d=\"M 0 0 \r\nL 0 3.5 \r\n\" id=\"md1246f4156\" style=\"stroke:#000000;stroke-width:0.8;\"/>\r\n      </defs>\r\n      <g>\r\n       <use style=\"stroke:#000000;stroke-width:0.8;\" x=\"73.492938\" xlink:href=\"#md1246f4156\" y=\"235.238438\"/>\r\n      </g>\r\n     </g>\r\n     <g id=\"text_1\">\r\n      <!-- 0.5 -->\r\n      <g transform=\"translate(65.541376 249.836875)scale(0.1 -0.1)\">\r\n       <defs>\r\n        <path d=\"M 31.78125 66.40625 \r\nQ 24.171875 66.40625 20.328125 58.90625 \r\nQ 16.5 51.421875 16.5 36.375 \r\nQ 16.5 21.390625 20.328125 13.890625 \r\nQ 24.171875 6.390625 31.78125 6.390625 \r\nQ 39.453125 6.390625 43.28125 13.890625 \r\nQ 47.125 21.390625 47.125 36.375 \r\nQ 47.125 51.421875 43.28125 58.90625 \r\nQ 39.453125 66.40625 31.78125 66.40625 \r\nz\r\nM 31.78125 74.21875 \r\nQ 44.046875 74.21875 50.515625 64.515625 \r\nQ 56.984375 54.828125 56.984375 36.375 \r\nQ 56.984375 17.96875 50.515625 8.265625 \r\nQ 44.046875 -1.421875 31.78125 -1.421875 \r\nQ 19.53125 -1.421875 13.0625 8.265625 \r\nQ 6.59375 17.96875 6.59375 36.375 \r\nQ 6.59375 54.828125 13.0625 64.515625 \r\nQ 19.53125 74.21875 31.78125 74.21875 \r\nz\r\n\" id=\"DejaVuSans-48\"/>\r\n        <path d=\"M 10.6875 12.40625 \r\nL 21 12.40625 \r\nL 21 0 \r\nL 10.6875 0 \r\nz\r\n\" id=\"DejaVuSans-46\"/>\r\n        <path d=\"M 10.796875 72.90625 \r\nL 49.515625 72.90625 \r\nL 49.515625 64.59375 \r\nL 19.828125 64.59375 \r\nL 19.828125 46.734375 \r\nQ 21.96875 47.46875 24.109375 47.828125 \r\nQ 26.265625 48.1875 28.421875 48.1875 \r\nQ 40.625 48.1875 47.75 41.5 \r\nQ 54.890625 34.8125 54.890625 23.390625 \r\nQ 54.890625 11.625 47.5625 5.09375 \r\nQ 40.234375 -1.421875 26.90625 -1.421875 \r\nQ 22.3125 -1.421875 17.546875 -0.640625 \r\nQ 12.796875 0.140625 7.71875 1.703125 \r\nL 7.71875 11.625 \r\nQ 12.109375 9.234375 16.796875 8.0625 \r\nQ 21.484375 6.890625 26.703125 6.890625 \r\nQ 35.15625 6.890625 40.078125 11.328125 \r\nQ 45.015625 15.765625 45.015625 23.390625 \r\nQ 45.015625 31 40.078125 35.4375 \r\nQ 35.15625 39.890625 26.703125 39.890625 \r\nQ 22.75 39.890625 18.8125 39.015625 \r\nQ 14.890625 38.140625 10.796875 36.28125 \r\nz\r\n\" id=\"DejaVuSans-53\"/>\r\n       </defs>\r\n       <use xlink:href=\"#DejaVuSans-48\"/>\r\n       <use x=\"63.623047\" xlink:href=\"#DejaVuSans-46\"/>\r\n       <use x=\"95.410156\" xlink:href=\"#DejaVuSans-53\"/>\r\n      </g>\r\n     </g>\r\n    </g>\r\n    <g id=\"xtick_2\">\r\n     <g id=\"line2d_2\">\r\n      <g>\r\n       <use style=\"stroke:#000000;stroke-width:0.8;\" x=\"145.960471\" xlink:href=\"#md1246f4156\" y=\"235.238438\"/>\r\n      </g>\r\n     </g>\r\n     <g id=\"text_2\">\r\n      <!-- 1.0 -->\r\n      <g transform=\"translate(138.008908 249.836875)scale(0.1 -0.1)\">\r\n       <defs>\r\n        <path d=\"M 12.40625 8.296875 \r\nL 28.515625 8.296875 \r\nL 28.515625 63.921875 \r\nL 10.984375 60.40625 \r\nL 10.984375 69.390625 \r\nL 28.421875 72.90625 \r\nL 38.28125 72.90625 \r\nL 38.28125 8.296875 \r\nL 54.390625 8.296875 \r\nL 54.390625 0 \r\nL 12.40625 0 \r\nz\r\n\" id=\"DejaVuSans-49\"/>\r\n       </defs>\r\n       <use xlink:href=\"#DejaVuSans-49\"/>\r\n       <use x=\"63.623047\" xlink:href=\"#DejaVuSans-46\"/>\r\n       <use x=\"95.410156\" xlink:href=\"#DejaVuSans-48\"/>\r\n      </g>\r\n     </g>\r\n    </g>\r\n    <g id=\"xtick_3\">\r\n     <g id=\"line2d_3\">\r\n      <g>\r\n       <use style=\"stroke:#000000;stroke-width:0.8;\" x=\"218.428003\" xlink:href=\"#md1246f4156\" y=\"235.238438\"/>\r\n      </g>\r\n     </g>\r\n     <g id=\"text_3\">\r\n      <!-- 1.5 -->\r\n      <g transform=\"translate(210.476441 249.836875)scale(0.1 -0.1)\">\r\n       <use xlink:href=\"#DejaVuSans-49\"/>\r\n       <use x=\"63.623047\" xlink:href=\"#DejaVuSans-46\"/>\r\n       <use x=\"95.410156\" xlink:href=\"#DejaVuSans-53\"/>\r\n      </g>\r\n     </g>\r\n    </g>\r\n    <g id=\"xtick_4\">\r\n     <g id=\"line2d_4\">\r\n      <g>\r\n       <use style=\"stroke:#000000;stroke-width:0.8;\" x=\"290.895536\" xlink:href=\"#md1246f4156\" y=\"235.238438\"/>\r\n      </g>\r\n     </g>\r\n     <g id=\"text_4\">\r\n      <!-- 2.0 -->\r\n      <g transform=\"translate(282.943973 249.836875)scale(0.1 -0.1)\">\r\n       <defs>\r\n        <path d=\"M 19.1875 8.296875 \r\nL 53.609375 8.296875 \r\nL 53.609375 0 \r\nL 7.328125 0 \r\nL 7.328125 8.296875 \r\nQ 12.9375 14.109375 22.625 23.890625 \r\nQ 32.328125 33.6875 34.8125 36.53125 \r\nQ 39.546875 41.84375 41.421875 45.53125 \r\nQ 43.3125 49.21875 43.3125 52.78125 \r\nQ 43.3125 58.59375 39.234375 62.25 \r\nQ 35.15625 65.921875 28.609375 65.921875 \r\nQ 23.96875 65.921875 18.8125 64.3125 \r\nQ 13.671875 62.703125 7.8125 59.421875 \r\nL 7.8125 69.390625 \r\nQ 13.765625 71.78125 18.9375 73 \r\nQ 24.125 74.21875 28.421875 74.21875 \r\nQ 39.75 74.21875 46.484375 68.546875 \r\nQ 53.21875 62.890625 53.21875 53.421875 \r\nQ 53.21875 48.921875 51.53125 44.890625 \r\nQ 49.859375 40.875 45.40625 35.40625 \r\nQ 44.1875 33.984375 37.640625 27.21875 \r\nQ 31.109375 20.453125 19.1875 8.296875 \r\nz\r\n\" id=\"DejaVuSans-50\"/>\r\n       </defs>\r\n       <use xlink:href=\"#DejaVuSans-50\"/>\r\n       <use x=\"63.623047\" xlink:href=\"#DejaVuSans-46\"/>\r\n       <use x=\"95.410156\" xlink:href=\"#DejaVuSans-48\"/>\r\n      </g>\r\n     </g>\r\n    </g>\r\n    <g id=\"xtick_5\">\r\n     <g id=\"line2d_5\">\r\n      <g>\r\n       <use style=\"stroke:#000000;stroke-width:0.8;\" x=\"363.363068\" xlink:href=\"#md1246f4156\" y=\"235.238438\"/>\r\n      </g>\r\n     </g>\r\n     <g id=\"text_5\">\r\n      <!-- 2.5 -->\r\n      <g transform=\"translate(355.411506 249.836875)scale(0.1 -0.1)\">\r\n       <use xlink:href=\"#DejaVuSans-50\"/>\r\n       <use x=\"63.623047\" xlink:href=\"#DejaVuSans-46\"/>\r\n       <use x=\"95.410156\" xlink:href=\"#DejaVuSans-53\"/>\r\n      </g>\r\n     </g>\r\n    </g>\r\n    <g id=\"text_6\">\r\n     <!-- Predicted -->\r\n     <g transform=\"translate(187.710938 263.515)scale(0.1 -0.1)\">\r\n      <defs>\r\n       <path d=\"M 19.671875 64.796875 \r\nL 19.671875 37.40625 \r\nL 32.078125 37.40625 \r\nQ 38.96875 37.40625 42.71875 40.96875 \r\nQ 46.484375 44.53125 46.484375 51.125 \r\nQ 46.484375 57.671875 42.71875 61.234375 \r\nQ 38.96875 64.796875 32.078125 64.796875 \r\nz\r\nM 9.8125 72.90625 \r\nL 32.078125 72.90625 \r\nQ 44.34375 72.90625 50.609375 67.359375 \r\nQ 56.890625 61.8125 56.890625 51.125 \r\nQ 56.890625 40.328125 50.609375 34.8125 \r\nQ 44.34375 29.296875 32.078125 29.296875 \r\nL 19.671875 29.296875 \r\nL 19.671875 0 \r\nL 9.8125 0 \r\nz\r\n\" id=\"DejaVuSans-80\"/>\r\n       <path d=\"M 41.109375 46.296875 \r\nQ 39.59375 47.171875 37.8125 47.578125 \r\nQ 36.03125 48 33.890625 48 \r\nQ 26.265625 48 22.1875 43.046875 \r\nQ 18.109375 38.09375 18.109375 28.8125 \r\nL 18.109375 0 \r\nL 9.078125 0 \r\nL 9.078125 54.6875 \r\nL 18.109375 54.6875 \r\nL 18.109375 46.1875 \r\nQ 20.953125 51.171875 25.484375 53.578125 \r\nQ 30.03125 56 36.53125 56 \r\nQ 37.453125 56 38.578125 55.875 \r\nQ 39.703125 55.765625 41.0625 55.515625 \r\nz\r\n\" id=\"DejaVuSans-114\"/>\r\n       <path d=\"M 56.203125 29.59375 \r\nL 56.203125 25.203125 \r\nL 14.890625 25.203125 \r\nQ 15.484375 15.921875 20.484375 11.0625 \r\nQ 25.484375 6.203125 34.421875 6.203125 \r\nQ 39.59375 6.203125 44.453125 7.46875 \r\nQ 49.3125 8.734375 54.109375 11.28125 \r\nL 54.109375 2.78125 \r\nQ 49.265625 0.734375 44.1875 -0.34375 \r\nQ 39.109375 -1.421875 33.890625 -1.421875 \r\nQ 20.796875 -1.421875 13.15625 6.1875 \r\nQ 5.515625 13.8125 5.515625 26.8125 \r\nQ 5.515625 40.234375 12.765625 48.109375 \r\nQ 20.015625 56 32.328125 56 \r\nQ 43.359375 56 49.78125 48.890625 \r\nQ 56.203125 41.796875 56.203125 29.59375 \r\nz\r\nM 47.21875 32.234375 \r\nQ 47.125 39.59375 43.09375 43.984375 \r\nQ 39.0625 48.390625 32.421875 48.390625 \r\nQ 24.90625 48.390625 20.390625 44.140625 \r\nQ 15.875 39.890625 15.1875 32.171875 \r\nz\r\n\" id=\"DejaVuSans-101\"/>\r\n       <path d=\"M 45.40625 46.390625 \r\nL 45.40625 75.984375 \r\nL 54.390625 75.984375 \r\nL 54.390625 0 \r\nL 45.40625 0 \r\nL 45.40625 8.203125 \r\nQ 42.578125 3.328125 38.25 0.953125 \r\nQ 33.9375 -1.421875 27.875 -1.421875 \r\nQ 17.96875 -1.421875 11.734375 6.484375 \r\nQ 5.515625 14.40625 5.515625 27.296875 \r\nQ 5.515625 40.1875 11.734375 48.09375 \r\nQ 17.96875 56 27.875 56 \r\nQ 33.9375 56 38.25 53.625 \r\nQ 42.578125 51.265625 45.40625 46.390625 \r\nz\r\nM 14.796875 27.296875 \r\nQ 14.796875 17.390625 18.875 11.75 \r\nQ 22.953125 6.109375 30.078125 6.109375 \r\nQ 37.203125 6.109375 41.296875 11.75 \r\nQ 45.40625 17.390625 45.40625 27.296875 \r\nQ 45.40625 37.203125 41.296875 42.84375 \r\nQ 37.203125 48.484375 30.078125 48.484375 \r\nQ 22.953125 48.484375 18.875 42.84375 \r\nQ 14.796875 37.203125 14.796875 27.296875 \r\nz\r\n\" id=\"DejaVuSans-100\"/>\r\n       <path d=\"M 9.421875 54.6875 \r\nL 18.40625 54.6875 \r\nL 18.40625 0 \r\nL 9.421875 0 \r\nz\r\nM 9.421875 75.984375 \r\nL 18.40625 75.984375 \r\nL 18.40625 64.59375 \r\nL 9.421875 64.59375 \r\nz\r\n\" id=\"DejaVuSans-105\"/>\r\n       <path d=\"M 48.78125 52.59375 \r\nL 48.78125 44.1875 \r\nQ 44.96875 46.296875 41.140625 47.34375 \r\nQ 37.3125 48.390625 33.40625 48.390625 \r\nQ 24.65625 48.390625 19.8125 42.84375 \r\nQ 14.984375 37.3125 14.984375 27.296875 \r\nQ 14.984375 17.28125 19.8125 11.734375 \r\nQ 24.65625 6.203125 33.40625 6.203125 \r\nQ 37.3125 6.203125 41.140625 7.25 \r\nQ 44.96875 8.296875 48.78125 10.40625 \r\nL 48.78125 2.09375 \r\nQ 45.015625 0.34375 40.984375 -0.53125 \r\nQ 36.96875 -1.421875 32.421875 -1.421875 \r\nQ 20.0625 -1.421875 12.78125 6.34375 \r\nQ 5.515625 14.109375 5.515625 27.296875 \r\nQ 5.515625 40.671875 12.859375 48.328125 \r\nQ 20.21875 56 33.015625 56 \r\nQ 37.15625 56 41.109375 55.140625 \r\nQ 45.0625 54.296875 48.78125 52.59375 \r\nz\r\n\" id=\"DejaVuSans-99\"/>\r\n       <path d=\"M 18.3125 70.21875 \r\nL 18.3125 54.6875 \r\nL 36.8125 54.6875 \r\nL 36.8125 47.703125 \r\nL 18.3125 47.703125 \r\nL 18.3125 18.015625 \r\nQ 18.3125 11.328125 20.140625 9.421875 \r\nQ 21.96875 7.515625 27.59375 7.515625 \r\nL 36.8125 7.515625 \r\nL 36.8125 0 \r\nL 27.59375 0 \r\nQ 17.1875 0 13.234375 3.875 \r\nQ 9.28125 7.765625 9.28125 18.015625 \r\nL 9.28125 47.703125 \r\nL 2.6875 47.703125 \r\nL 2.6875 54.6875 \r\nL 9.28125 54.6875 \r\nL 9.28125 70.21875 \r\nz\r\n\" id=\"DejaVuSans-116\"/>\r\n      </defs>\r\n      <use xlink:href=\"#DejaVuSans-80\"/>\r\n      <use x=\"58.552734\" xlink:href=\"#DejaVuSans-114\"/>\r\n      <use x=\"97.416016\" xlink:href=\"#DejaVuSans-101\"/>\r\n      <use x=\"158.939453\" xlink:href=\"#DejaVuSans-100\"/>\r\n      <use x=\"222.416016\" xlink:href=\"#DejaVuSans-105\"/>\r\n      <use x=\"250.199219\" xlink:href=\"#DejaVuSans-99\"/>\r\n      <use x=\"305.179688\" xlink:href=\"#DejaVuSans-116\"/>\r\n      <use x=\"344.388672\" xlink:href=\"#DejaVuSans-101\"/>\r\n      <use x=\"405.912109\" xlink:href=\"#DejaVuSans-100\"/>\r\n     </g>\r\n    </g>\r\n    <g id=\"text_7\">\r\n     <!-- 1e6 -->\r\n     <g transform=\"translate(359.703125 262.515)scale(0.1 -0.1)\">\r\n      <defs>\r\n       <path d=\"M 33.015625 40.375 \r\nQ 26.375 40.375 22.484375 35.828125 \r\nQ 18.609375 31.296875 18.609375 23.390625 \r\nQ 18.609375 15.53125 22.484375 10.953125 \r\nQ 26.375 6.390625 33.015625 6.390625 \r\nQ 39.65625 6.390625 43.53125 10.953125 \r\nQ 47.40625 15.53125 47.40625 23.390625 \r\nQ 47.40625 31.296875 43.53125 35.828125 \r\nQ 39.65625 40.375 33.015625 40.375 \r\nz\r\nM 52.59375 71.296875 \r\nL 52.59375 62.3125 \r\nQ 48.875 64.0625 45.09375 64.984375 \r\nQ 41.3125 65.921875 37.59375 65.921875 \r\nQ 27.828125 65.921875 22.671875 59.328125 \r\nQ 17.53125 52.734375 16.796875 39.40625 \r\nQ 19.671875 43.65625 24.015625 45.921875 \r\nQ 28.375 48.1875 33.59375 48.1875 \r\nQ 44.578125 48.1875 50.953125 41.515625 \r\nQ 57.328125 34.859375 57.328125 23.390625 \r\nQ 57.328125 12.15625 50.6875 5.359375 \r\nQ 44.046875 -1.421875 33.015625 -1.421875 \r\nQ 20.359375 -1.421875 13.671875 8.265625 \r\nQ 6.984375 17.96875 6.984375 36.375 \r\nQ 6.984375 53.65625 15.1875 63.9375 \r\nQ 23.390625 74.21875 37.203125 74.21875 \r\nQ 40.921875 74.21875 44.703125 73.484375 \r\nQ 48.484375 72.75 52.59375 71.296875 \r\nz\r\n\" id=\"DejaVuSans-54\"/>\r\n      </defs>\r\n      <use xlink:href=\"#DejaVuSans-49\"/>\r\n      <use x=\"63.623047\" xlink:href=\"#DejaVuSans-101\"/>\r\n      <use x=\"125.146484\" xlink:href=\"#DejaVuSans-54\"/>\r\n     </g>\r\n    </g>\r\n   </g>\r\n   <g id=\"matplotlib.axis_2\">\r\n    <g id=\"ytick_1\">\r\n     <g id=\"line2d_6\">\r\n      <defs>\r\n       <path d=\"M 0 0 \r\nL -3.5 0 \r\n\" id=\"m3186d8125b\" style=\"stroke:#000000;stroke-width:0.8;\"/>\r\n      </defs>\r\n      <g>\r\n       <use style=\"stroke:#000000;stroke-width:0.8;\" x=\"43.78125\" xlink:href=\"#m3186d8125b\" y=\"215.941814\"/>\r\n      </g>\r\n     </g>\r\n     <g id=\"text_8\">\r\n      <!-- 0.5 -->\r\n      <g transform=\"translate(20.878125 219.741033)scale(0.1 -0.1)\">\r\n       <use xlink:href=\"#DejaVuSans-48\"/>\r\n       <use x=\"63.623047\" xlink:href=\"#DejaVuSans-46\"/>\r\n       <use x=\"95.410156\" xlink:href=\"#DejaVuSans-53\"/>\r\n      </g>\r\n     </g>\r\n    </g>\r\n    <g id=\"ytick_2\">\r\n     <g id=\"line2d_7\">\r\n      <g>\r\n       <use style=\"stroke:#000000;stroke-width:0.8;\" x=\"43.78125\" xlink:href=\"#m3186d8125b\" y=\"168.876879\"/>\r\n      </g>\r\n     </g>\r\n     <g id=\"text_9\">\r\n      <!-- 1.0 -->\r\n      <g transform=\"translate(20.878125 172.676098)scale(0.1 -0.1)\">\r\n       <use xlink:href=\"#DejaVuSans-49\"/>\r\n       <use x=\"63.623047\" xlink:href=\"#DejaVuSans-46\"/>\r\n       <use x=\"95.410156\" xlink:href=\"#DejaVuSans-48\"/>\r\n      </g>\r\n     </g>\r\n    </g>\r\n    <g id=\"ytick_3\">\r\n     <g id=\"line2d_8\">\r\n      <g>\r\n       <use style=\"stroke:#000000;stroke-width:0.8;\" x=\"43.78125\" xlink:href=\"#m3186d8125b\" y=\"121.811944\"/>\r\n      </g>\r\n     </g>\r\n     <g id=\"text_10\">\r\n      <!-- 1.5 -->\r\n      <g transform=\"translate(20.878125 125.611163)scale(0.1 -0.1)\">\r\n       <use xlink:href=\"#DejaVuSans-49\"/>\r\n       <use x=\"63.623047\" xlink:href=\"#DejaVuSans-46\"/>\r\n       <use x=\"95.410156\" xlink:href=\"#DejaVuSans-53\"/>\r\n      </g>\r\n     </g>\r\n    </g>\r\n    <g id=\"ytick_4\">\r\n     <g id=\"line2d_9\">\r\n      <g>\r\n       <use style=\"stroke:#000000;stroke-width:0.8;\" x=\"43.78125\" xlink:href=\"#m3186d8125b\" y=\"74.747009\"/>\r\n      </g>\r\n     </g>\r\n     <g id=\"text_11\">\r\n      <!-- 2.0 -->\r\n      <g transform=\"translate(20.878125 78.546228)scale(0.1 -0.1)\">\r\n       <use xlink:href=\"#DejaVuSans-50\"/>\r\n       <use x=\"63.623047\" xlink:href=\"#DejaVuSans-46\"/>\r\n       <use x=\"95.410156\" xlink:href=\"#DejaVuSans-48\"/>\r\n      </g>\r\n     </g>\r\n    </g>\r\n    <g id=\"ytick_5\">\r\n     <g id=\"line2d_10\">\r\n      <g>\r\n       <use style=\"stroke:#000000;stroke-width:0.8;\" x=\"43.78125\" xlink:href=\"#m3186d8125b\" y=\"27.682074\"/>\r\n      </g>\r\n     </g>\r\n     <g id=\"text_12\">\r\n      <!-- 2.5 -->\r\n      <g transform=\"translate(20.878125 31.481293)scale(0.1 -0.1)\">\r\n       <use xlink:href=\"#DejaVuSans-50\"/>\r\n       <use x=\"63.623047\" xlink:href=\"#DejaVuSans-46\"/>\r\n       <use x=\"95.410156\" xlink:href=\"#DejaVuSans-53\"/>\r\n      </g>\r\n     </g>\r\n    </g>\r\n    <g id=\"text_13\">\r\n     <!-- Real -->\r\n     <g transform=\"translate(14.798438 137.297344)rotate(-90)scale(0.1 -0.1)\">\r\n      <defs>\r\n       <path d=\"M 44.390625 34.1875 \r\nQ 47.5625 33.109375 50.5625 29.59375 \r\nQ 53.5625 26.078125 56.59375 19.921875 \r\nL 66.609375 0 \r\nL 56 0 \r\nL 46.6875 18.703125 \r\nQ 43.0625 26.03125 39.671875 28.421875 \r\nQ 36.28125 30.8125 30.421875 30.8125 \r\nL 19.671875 30.8125 \r\nL 19.671875 0 \r\nL 9.8125 0 \r\nL 9.8125 72.90625 \r\nL 32.078125 72.90625 \r\nQ 44.578125 72.90625 50.734375 67.671875 \r\nQ 56.890625 62.453125 56.890625 51.90625 \r\nQ 56.890625 45.015625 53.6875 40.46875 \r\nQ 50.484375 35.9375 44.390625 34.1875 \r\nz\r\nM 19.671875 64.796875 \r\nL 19.671875 38.921875 \r\nL 32.078125 38.921875 \r\nQ 39.203125 38.921875 42.84375 42.21875 \r\nQ 46.484375 45.515625 46.484375 51.90625 \r\nQ 46.484375 58.296875 42.84375 61.546875 \r\nQ 39.203125 64.796875 32.078125 64.796875 \r\nz\r\n\" id=\"DejaVuSans-82\"/>\r\n       <path d=\"M 34.28125 27.484375 \r\nQ 23.390625 27.484375 19.1875 25 \r\nQ 14.984375 22.515625 14.984375 16.5 \r\nQ 14.984375 11.71875 18.140625 8.90625 \r\nQ 21.296875 6.109375 26.703125 6.109375 \r\nQ 34.1875 6.109375 38.703125 11.40625 \r\nQ 43.21875 16.703125 43.21875 25.484375 \r\nL 43.21875 27.484375 \r\nz\r\nM 52.203125 31.203125 \r\nL 52.203125 0 \r\nL 43.21875 0 \r\nL 43.21875 8.296875 \r\nQ 40.140625 3.328125 35.546875 0.953125 \r\nQ 30.953125 -1.421875 24.3125 -1.421875 \r\nQ 15.921875 -1.421875 10.953125 3.296875 \r\nQ 6 8.015625 6 15.921875 \r\nQ 6 25.140625 12.171875 29.828125 \r\nQ 18.359375 34.515625 30.609375 34.515625 \r\nL 43.21875 34.515625 \r\nL 43.21875 35.40625 \r\nQ 43.21875 41.609375 39.140625 45 \r\nQ 35.0625 48.390625 27.6875 48.390625 \r\nQ 23 48.390625 18.546875 47.265625 \r\nQ 14.109375 46.140625 10.015625 43.890625 \r\nL 10.015625 52.203125 \r\nQ 14.9375 54.109375 19.578125 55.046875 \r\nQ 24.21875 56 28.609375 56 \r\nQ 40.484375 56 46.34375 49.84375 \r\nQ 52.203125 43.703125 52.203125 31.203125 \r\nz\r\n\" id=\"DejaVuSans-97\"/>\r\n       <path d=\"M 9.421875 75.984375 \r\nL 18.40625 75.984375 \r\nL 18.40625 0 \r\nL 9.421875 0 \r\nz\r\n\" id=\"DejaVuSans-108\"/>\r\n      </defs>\r\n      <use xlink:href=\"#DejaVuSans-82\"/>\r\n      <use x=\"64.982422\" xlink:href=\"#DejaVuSans-101\"/>\r\n      <use x=\"126.505859\" xlink:href=\"#DejaVuSans-97\"/>\r\n      <use x=\"187.785156\" xlink:href=\"#DejaVuSans-108\"/>\r\n     </g>\r\n    </g>\r\n    <g id=\"text_14\">\r\n     <!-- 1e6 -->\r\n     <g transform=\"translate(43.78125 14.798437)scale(0.1 -0.1)\">\r\n      <use xlink:href=\"#DejaVuSans-49\"/>\r\n      <use x=\"63.623047\" xlink:href=\"#DejaVuSans-101\"/>\r\n      <use x=\"125.146484\" xlink:href=\"#DejaVuSans-54\"/>\r\n     </g>\r\n    </g>\r\n   </g>\r\n   <g id=\"line2d_11\">\r\n    <defs>\r\n     <path d=\"M 0 3 \r\nC 0.795609 3 1.55874 2.683901 2.12132 2.12132 \r\nC 2.683901 1.55874 3 0.795609 3 0 \r\nC 3 -0.795609 2.683901 -1.55874 2.12132 -2.12132 \r\nC 1.55874 -2.683901 0.795609 -3 0 -3 \r\nC -0.795609 -3 -1.55874 -2.683901 -2.12132 -2.12132 \r\nC -2.683901 -1.55874 -3 -0.795609 -3 0 \r\nC -3 0.795609 -2.683901 1.55874 -2.12132 2.12132 \r\nC -1.55874 2.683901 -0.795609 3 0 3 \r\nz\r\n\" id=\"m1e5dcde8e1\" style=\"stroke:#ff0000;\"/>\r\n    </defs>\r\n    <g clip-path=\"url(#pf27eb53e7e)\">\r\n     <use style=\"fill:#ff0000;stroke:#ff0000;\" x=\"136.702033\" xlink:href=\"#m1e5dcde8e1\" y=\"176.407269\"/>\r\n     <use style=\"fill:#ff0000;stroke:#ff0000;\" x=\"109.999984\" xlink:href=\"#m1e5dcde8e1\" y=\"190.620879\"/>\r\n     <use style=\"fill:#ff0000;stroke:#ff0000;\" x=\"123.696188\" xlink:href=\"#m1e5dcde8e1\" y=\"180.172463\"/>\r\n     <use style=\"fill:#ff0000;stroke:#ff0000;\" x=\"112.990503\" xlink:href=\"#m1e5dcde8e1\" y=\"189.472495\"/>\r\n     <use style=\"fill:#ff0000;stroke:#ff0000;\" x=\"229.466534\" xlink:href=\"#m1e5dcde8e1\" y=\"121.811944\"/>\r\n     <use style=\"fill:#ff0000;stroke:#ff0000;\" x=\"140.255088\" xlink:href=\"#m1e5dcde8e1\" y=\"170.55032\"/>\r\n     <use style=\"fill:#ff0000;stroke:#ff0000;\" x=\"128.631627\" xlink:href=\"#m1e5dcde8e1\" y=\"179.701814\"/>\r\n     <use style=\"fill:#ff0000;stroke:#ff0000;\" x=\"95.018467\" xlink:href=\"#m1e5dcde8e1\" y=\"197.11584\"/>\r\n     <use style=\"fill:#ff0000;stroke:#ff0000;\" x=\"107.917288\" xlink:href=\"#m1e5dcde8e1\" y=\"187.702853\"/>\r\n     <use style=\"fill:#ff0000;stroke:#ff0000;\" x=\"105.130588\" xlink:href=\"#m1e5dcde8e1\" y=\"198.527788\"/>\r\n     <use style=\"fill:#ff0000;stroke:#ff0000;\" x=\"123.765891\" xlink:href=\"#m1e5dcde8e1\" y=\"176.877918\"/>\r\n     <use style=\"fill:#ff0000;stroke:#ff0000;\" x=\"130.517821\" xlink:href=\"#m1e5dcde8e1\" y=\"180.360723\"/>\r\n     <use style=\"fill:#ff0000;stroke:#ff0000;\" x=\"113.38436\" xlink:href=\"#m1e5dcde8e1\" y=\"193.821295\"/>\r\n     <use style=\"fill:#ff0000;stroke:#ff0000;\" x=\"102.467958\" xlink:href=\"#m1e5dcde8e1\" y=\"195.233243\"/>\r\n     <use style=\"fill:#ff0000;stroke:#ff0000;\" x=\"167.621598\" xlink:href=\"#m1e5dcde8e1\" y=\"163.699736\"/>\r\n     <use style=\"fill:#ff0000;stroke:#ff0000;\" x=\"130.967808\" xlink:href=\"#m1e5dcde8e1\" y=\"180.737243\"/>\r\n     <use style=\"fill:#ff0000;stroke:#ff0000;\" x=\"120.497931\" xlink:href=\"#m1e5dcde8e1\" y=\"192.315217\"/>\r\n     <use style=\"fill:#ff0000;stroke:#ff0000;\" x=\"103.793041\" xlink:href=\"#m1e5dcde8e1\" y=\"200.127996\"/>\r\n     <use style=\"fill:#ff0000;stroke:#ff0000;\" x=\"235.858387\" xlink:href=\"#m1e5dcde8e1\" y=\"107.692463\"/>\r\n     <use style=\"fill:#ff0000;stroke:#ff0000;\" x=\"188.835554\" xlink:href=\"#m1e5dcde8e1\" y=\"148.638957\"/>\r\n     <use style=\"fill:#ff0000;stroke:#ff0000;\" x=\"135.977796\" xlink:href=\"#m1e5dcde8e1\" y=\"179.231165\"/>\r\n     <use style=\"fill:#ff0000;stroke:#ff0000;\" x=\"138.182143\" xlink:href=\"#m1e5dcde8e1\" y=\"171.889035\"/>\r\n     <use style=\"fill:#ff0000;stroke:#ff0000;\" x=\"141.260273\" xlink:href=\"#m1e5dcde8e1\" y=\"179.607684\"/>\r\n     <use style=\"fill:#ff0000;stroke:#ff0000;\" x=\"132.595379\" xlink:href=\"#m1e5dcde8e1\" y=\"180.454853\"/>\r\n     <use style=\"fill:#ff0000;stroke:#ff0000;\" x=\"141.127946\" xlink:href=\"#m1e5dcde8e1\" y=\"178.760515\"/>\r\n     <use style=\"fill:#ff0000;stroke:#ff0000;\" x=\"194.348968\" xlink:href=\"#m1e5dcde8e1\" y=\"138.755321\"/>\r\n     <use style=\"fill:#ff0000;stroke:#ff0000;\" x=\"131.180848\" xlink:href=\"#m1e5dcde8e1\" y=\"176.407269\"/>\r\n     <use style=\"fill:#ff0000;stroke:#ff0000;\" x=\"198.224561\" xlink:href=\"#m1e5dcde8e1\" y=\"120.865468\"/>\r\n     <use style=\"fill:#ff0000;stroke:#ff0000;\" x=\"160.735636\" xlink:href=\"#m1e5dcde8e1\" y=\"166.994282\"/>\r\n     <use style=\"fill:#ff0000;stroke:#ff0000;\" x=\"95.018467\" xlink:href=\"#m1e5dcde8e1\" y=\"197.11584\"/>\r\n     <use style=\"fill:#ff0000;stroke:#ff0000;\" x=\"113.848209\" xlink:href=\"#m1e5dcde8e1\" y=\"186.761554\"/>\r\n     <use style=\"fill:#ff0000;stroke:#ff0000;\" x=\"135.662081\" xlink:href=\"#m1e5dcde8e1\" y=\"173.112723\"/>\r\n     <use style=\"fill:#ff0000;stroke:#ff0000;\" x=\"120.246288\" xlink:href=\"#m1e5dcde8e1\" y=\"184.878957\"/>\r\n     <use style=\"fill:#ff0000;stroke:#ff0000;\" x=\"106.818039\" xlink:href=\"#m1e5dcde8e1\" y=\"194.668463\"/>\r\n     <use style=\"fill:#ff0000;stroke:#ff0000;\" x=\"113.309764\" xlink:href=\"#m1e5dcde8e1\" y=\"184.784827\"/>\r\n     <use style=\"fill:#ff0000;stroke:#ff0000;\" x=\"124.55519\" xlink:href=\"#m1e5dcde8e1\" y=\"184.878957\"/>\r\n     <use style=\"fill:#ff0000;stroke:#ff0000;\" x=\"145.160311\" xlink:href=\"#m1e5dcde8e1\" y=\"171.9361\"/>\r\n     <use style=\"fill:#ff0000;stroke:#ff0000;\" x=\"234.029053\" xlink:href=\"#m1e5dcde8e1\" y=\"114.093295\"/>\r\n     <use style=\"fill:#ff0000;stroke:#ff0000;\" x=\"181.771496\" xlink:href=\"#m1e5dcde8e1\" y=\"148.168308\"/>\r\n     <use style=\"fill:#ff0000;stroke:#ff0000;\" x=\"185.679904\" xlink:href=\"#m1e5dcde8e1\" y=\"146.850489\"/>\r\n     <use style=\"fill:#ff0000;stroke:#ff0000;\" x=\"122.557395\" xlink:href=\"#m1e5dcde8e1\" y=\"180.925502\"/>\r\n     <use style=\"fill:#ff0000;stroke:#ff0000;\" x=\"98.937071\" xlink:href=\"#m1e5dcde8e1\" y=\"200.410386\"/>\r\n     <use style=\"fill:#ff0000;stroke:#ff0000;\" x=\"228.711863\" xlink:href=\"#m1e5dcde8e1\" y=\"91.690386\"/>\r\n     <use style=\"fill:#ff0000;stroke:#ff0000;\" x=\"113.690507\" xlink:href=\"#m1e5dcde8e1\" y=\"191.750438\"/>\r\n     <use style=\"fill:#ff0000;stroke:#ff0000;\" x=\"115.074549\" xlink:href=\"#m1e5dcde8e1\" y=\"187.702853\"/>\r\n     <use style=\"fill:#ff0000;stroke:#ff0000;\" x=\"145.071548\" xlink:href=\"#m1e5dcde8e1\" y=\"173.583373\"/>\r\n     <use style=\"fill:#ff0000;stroke:#ff0000;\" x=\"162.83981\" xlink:href=\"#m1e5dcde8e1\" y=\"160.405191\"/>\r\n     <use style=\"fill:#ff0000;stroke:#ff0000;\" x=\"234.381441\" xlink:href=\"#m1e5dcde8e1\" y=\"112.869606\"/>\r\n     <use style=\"fill:#ff0000;stroke:#ff0000;\" x=\"117.962345\" xlink:href=\"#m1e5dcde8e1\" y=\"190.526749\"/>\r\n     <use style=\"fill:#ff0000;stroke:#ff0000;\" x=\"157.566653\" xlink:href=\"#m1e5dcde8e1\" y=\"153.8161\"/>\r\n     <use style=\"fill:#ff0000;stroke:#ff0000;\" x=\"132.696862\" xlink:href=\"#m1e5dcde8e1\" y=\"174.524671\"/>\r\n     <use style=\"fill:#ff0000;stroke:#ff0000;\" x=\"245.070259\" xlink:href=\"#m1e5dcde8e1\" y=\"117.10545\"/>\r\n     <use style=\"fill:#ff0000;stroke:#ff0000;\" x=\"127.801191\" xlink:href=\"#m1e5dcde8e1\" y=\"177.772152\"/>\r\n     <use style=\"fill:#ff0000;stroke:#ff0000;\" x=\"157.83223\" xlink:href=\"#m1e5dcde8e1\" y=\"154.757399\"/>\r\n     <use style=\"fill:#ff0000;stroke:#ff0000;\" x=\"254.537376\" xlink:href=\"#m1e5dcde8e1\" y=\"92.537554\"/>\r\n     <use style=\"fill:#ff0000;stroke:#ff0000;\" x=\"112.180904\" xlink:href=\"#m1e5dcde8e1\" y=\"188.361762\"/>\r\n     <use style=\"fill:#ff0000;stroke:#ff0000;\" x=\"187.849443\" xlink:href=\"#m1e5dcde8e1\" y=\"141.579217\"/>\r\n     <use style=\"fill:#ff0000;stroke:#ff0000;\" x=\"135.06895\" xlink:href=\"#m1e5dcde8e1\" y=\"182.99636\"/>\r\n     <use style=\"fill:#ff0000;stroke:#ff0000;\" x=\"108.587503\" xlink:href=\"#m1e5dcde8e1\" y=\"189.114801\"/>\r\n     <use style=\"fill:#ff0000;stroke:#ff0000;\" x=\"113.29339\" xlink:href=\"#m1e5dcde8e1\" y=\"192.588193\"/>\r\n     <use style=\"fill:#ff0000;stroke:#ff0000;\" x=\"137.309539\" xlink:href=\"#m1e5dcde8e1\" y=\"178.760515\"/>\r\n     <use style=\"fill:#ff0000;stroke:#ff0000;\" x=\"127.318171\" xlink:href=\"#m1e5dcde8e1\" y=\"179.231165\"/>\r\n     <use style=\"fill:#ff0000;stroke:#ff0000;\" x=\"103.39571\" xlink:href=\"#m1e5dcde8e1\" y=\"188.644152\"/>\r\n     <use style=\"fill:#ff0000;stroke:#ff0000;\" x=\"104.481002\" xlink:href=\"#m1e5dcde8e1\" y=\"191.468048\"/>\r\n     <use style=\"fill:#ff0000;stroke:#ff0000;\" x=\"185.781993\" xlink:href=\"#m1e5dcde8e1\" y=\"150.992204\"/>\r\n     <use style=\"fill:#ff0000;stroke:#ff0000;\" x=\"137.854207\" xlink:href=\"#m1e5dcde8e1\" y=\"173.53113\"/>\r\n     <use style=\"fill:#ff0000;stroke:#ff0000;\" x=\"128.47359\" xlink:href=\"#m1e5dcde8e1\" y=\"181.584412\"/>\r\n     <use style=\"fill:#ff0000;stroke:#ff0000;\" x=\"128.086715\" xlink:href=\"#m1e5dcde8e1\" y=\"180.454853\"/>\r\n     <use style=\"fill:#ff0000;stroke:#ff0000;\" x=\"122.435215\" xlink:href=\"#m1e5dcde8e1\" y=\"178.289866\"/>\r\n     <use style=\"fill:#ff0000;stroke:#ff0000;\" x=\"110.193522\" xlink:href=\"#m1e5dcde8e1\" y=\"189.86784\"/>\r\n     <use style=\"fill:#ff0000;stroke:#ff0000;\" x=\"142.114465\" xlink:href=\"#m1e5dcde8e1\" y=\"174.336412\"/>\r\n     <use style=\"fill:#ff0000;stroke:#ff0000;\" x=\"123.373353\" xlink:href=\"#m1e5dcde8e1\" y=\"184.408308\"/>\r\n     <use style=\"fill:#ff0000;stroke:#ff0000;\" x=\"105.876695\" xlink:href=\"#m1e5dcde8e1\" y=\"194.291944\"/>\r\n     <use style=\"fill:#ff0000;stroke:#ff0000;\" x=\"149.929387\" xlink:href=\"#m1e5dcde8e1\" y=\"167.93558\"/>\r\n     <use style=\"fill:#ff0000;stroke:#ff0000;\" x=\"207.522249\" xlink:href=\"#m1e5dcde8e1\" y=\"133.578178\"/>\r\n     <use style=\"fill:#ff0000;stroke:#ff0000;\" x=\"263.836\" xlink:href=\"#m1e5dcde8e1\" y=\"94.043632\"/>\r\n     <use style=\"fill:#ff0000;stroke:#ff0000;\" x=\"116.685508\" xlink:href=\"#m1e5dcde8e1\" y=\"187.702853\"/>\r\n     <use style=\"fill:#ff0000;stroke:#ff0000;\" x=\"149.673525\" xlink:href=\"#m1e5dcde8e1\" y=\"175.936619\"/>\r\n     <use style=\"fill:#ff0000;stroke:#ff0000;\" x=\"145.470483\" xlink:href=\"#m1e5dcde8e1\" y=\"166.523632\"/>\r\n     <use style=\"fill:#ff0000;stroke:#ff0000;\" x=\"122.438131\" xlink:href=\"#m1e5dcde8e1\" y=\"182.99636\"/>\r\n     <use style=\"fill:#ff0000;stroke:#ff0000;\" x=\"183.993661\" xlink:href=\"#m1e5dcde8e1\" y=\"152.404152\"/>\r\n     <use style=\"fill:#ff0000;stroke:#ff0000;\" x=\"134.907343\" xlink:href=\"#m1e5dcde8e1\" y=\"181.113762\"/>\r\n     <use style=\"fill:#ff0000;stroke:#ff0000;\" x=\"165.640502\" xlink:href=\"#m1e5dcde8e1\" y=\"158.522593\"/>\r\n     <use style=\"fill:#ff0000;stroke:#ff0000;\" x=\"109.427434\" xlink:href=\"#m1e5dcde8e1\" y=\"190.667944\"/>\r\n     <use style=\"fill:#ff0000;stroke:#ff0000;\" x=\"251.687811\" xlink:href=\"#m1e5dcde8e1\" y=\"111.740048\"/>\r\n     <use style=\"fill:#ff0000;stroke:#ff0000;\" x=\"159.757249\" xlink:href=\"#m1e5dcde8e1\" y=\"160.87584\"/>\r\n     <use style=\"fill:#ff0000;stroke:#ff0000;\" x=\"160.556981\" xlink:href=\"#m1e5dcde8e1\" y=\"155.698697\"/>\r\n     <use style=\"fill:#ff0000;stroke:#ff0000;\" x=\"158.242318\" xlink:href=\"#m1e5dcde8e1\" y=\"149.109606\"/>\r\n     <use style=\"fill:#ff0000;stroke:#ff0000;\" x=\"121.780324\" xlink:href=\"#m1e5dcde8e1\" y=\"181.433804\"/>\r\n     <use style=\"fill:#ff0000;stroke:#ff0000;\" x=\"153.571607\" xlink:href=\"#m1e5dcde8e1\" y=\"172.642074\"/>\r\n     <use style=\"fill:#ff0000;stroke:#ff0000;\" x=\"143.497222\" xlink:href=\"#m1e5dcde8e1\" y=\"177.254437\"/>\r\n     <use style=\"fill:#ff0000;stroke:#ff0000;\" x=\"236.515558\" xlink:href=\"#m1e5dcde8e1\" y=\"105.339217\"/>\r\n     <use style=\"fill:#ff0000;stroke:#ff0000;\" x=\"126.678163\" xlink:href=\"#m1e5dcde8e1\" y=\"175.46597\"/>\r\n     <use style=\"fill:#ff0000;stroke:#ff0000;\" x=\"154.443028\" xlink:href=\"#m1e5dcde8e1\" y=\"153.8161\"/>\r\n     <use style=\"fill:#ff0000;stroke:#ff0000;\" x=\"106.005132\" xlink:href=\"#m1e5dcde8e1\" y=\"196.174541\"/>\r\n     <use style=\"fill:#ff0000;stroke:#ff0000;\" x=\"172.065474\" xlink:href=\"#m1e5dcde8e1\" y=\"162.287788\"/>\r\n     <use style=\"fill:#ff0000;stroke:#ff0000;\" x=\"117.707113\" xlink:href=\"#m1e5dcde8e1\" y=\"190.0561\"/>\r\n     <use style=\"fill:#ff0000;stroke:#ff0000;\" x=\"194.27506\" xlink:href=\"#m1e5dcde8e1\" y=\"128.87159\"/>\r\n     <use style=\"fill:#ff0000;stroke:#ff0000;\" x=\"119.815037\" xlink:href=\"#m1e5dcde8e1\" y=\"177.348567\"/>\r\n     <use style=\"fill:#ff0000;stroke:#ff0000;\" x=\"138.656305\" xlink:href=\"#m1e5dcde8e1\" y=\"177.348567\"/>\r\n     <use style=\"fill:#ff0000;stroke:#ff0000;\" x=\"133.317206\" xlink:href=\"#m1e5dcde8e1\" y=\"159.934541\"/>\r\n     <use style=\"fill:#ff0000;stroke:#ff0000;\" x=\"189.143438\" xlink:href=\"#m1e5dcde8e1\" y=\"157.922515\"/>\r\n     <use style=\"fill:#ff0000;stroke:#ff0000;\" x=\"120.989078\" xlink:href=\"#m1e5dcde8e1\" y=\"179.701814\"/>\r\n     <use style=\"fill:#ff0000;stroke:#ff0000;\" x=\"146.577666\" xlink:href=\"#m1e5dcde8e1\" y=\"174.242282\"/>\r\n     <use style=\"fill:#ff0000;stroke:#ff0000;\" x=\"109.784385\" xlink:href=\"#m1e5dcde8e1\" y=\"189.491321\"/>\r\n     <use style=\"fill:#ff0000;stroke:#ff0000;\" x=\"142.054215\" xlink:href=\"#m1e5dcde8e1\" y=\"166.429502\"/>\r\n     <use style=\"fill:#ff0000;stroke:#ff0000;\" x=\"144.93454\" xlink:href=\"#m1e5dcde8e1\" y=\"170.100567\"/>\r\n     <use style=\"fill:#ff0000;stroke:#ff0000;\" x=\"238.183021\" xlink:href=\"#m1e5dcde8e1\" y=\"102.515321\"/>\r\n     <use style=\"fill:#ff0000;stroke:#ff0000;\" x=\"156.990983\" xlink:href=\"#m1e5dcde8e1\" y=\"145.344412\"/>\r\n     <use style=\"fill:#ff0000;stroke:#ff0000;\" x=\"117.171718\" xlink:href=\"#m1e5dcde8e1\" y=\"187.702853\"/>\r\n     <use style=\"fill:#ff0000;stroke:#ff0000;\" x=\"140.347998\" xlink:href=\"#m1e5dcde8e1\" y=\"171.700775\"/>\r\n     <use style=\"fill:#ff0000;stroke:#ff0000;\" x=\"137.952335\" xlink:href=\"#m1e5dcde8e1\" y=\"183.393023\"/>\r\n     <use style=\"fill:#ff0000;stroke:#ff0000;\" x=\"124.655618\" xlink:href=\"#m1e5dcde8e1\" y=\"186.290905\"/>\r\n     <use style=\"fill:#ff0000;stroke:#ff0000;\" x=\"107.577327\" xlink:href=\"#m1e5dcde8e1\" y=\"196.174541\"/>\r\n     <use style=\"fill:#ff0000;stroke:#ff0000;\" x=\"159.025773\" xlink:href=\"#m1e5dcde8e1\" y=\"166.523632\"/>\r\n     <use style=\"fill:#ff0000;stroke:#ff0000;\" x=\"175.49005\" xlink:href=\"#m1e5dcde8e1\" y=\"130.754282\"/>\r\n     <use style=\"fill:#ff0000;stroke:#ff0000;\" x=\"136.476788\" xlink:href=\"#m1e5dcde8e1\" y=\"177.630957\"/>\r\n     <use style=\"fill:#ff0000;stroke:#ff0000;\" x=\"140.491277\" xlink:href=\"#m1e5dcde8e1\" y=\"178.760515\"/>\r\n     <use style=\"fill:#ff0000;stroke:#ff0000;\" x=\"209.589166\" xlink:href=\"#m1e5dcde8e1\" y=\"132.636879\"/>\r\n     <use style=\"fill:#ff0000;stroke:#ff0000;\" x=\"210.880761\" xlink:href=\"#m1e5dcde8e1\" y=\"128.401035\"/>\r\n    </g>\r\n   </g>\r\n   <g id=\"line2d_12\">\r\n    <path clip-path=\"url(#pf27eb53e7e)\" d=\"M 58.999432 225.354801 \r\nL 363.363068 27.682074 \r\n\" style=\"fill:none;stroke:#008000;stroke-linecap:square;stroke-width:1.5;\"/>\r\n   </g>\r\n   <g id=\"patch_3\">\r\n    <path d=\"M 43.78125 235.238438 \r\nL 43.78125 17.798438 \r\n\" style=\"fill:none;stroke:#000000;stroke-linecap:square;stroke-linejoin:miter;stroke-width:0.8;\"/>\r\n   </g>\r\n   <g id=\"patch_4\">\r\n    <path d=\"M 378.58125 235.238438 \r\nL 378.58125 17.798438 \r\n\" style=\"fill:none;stroke:#000000;stroke-linecap:square;stroke-linejoin:miter;stroke-width:0.8;\"/>\r\n   </g>\r\n   <g id=\"patch_5\">\r\n    <path d=\"M 43.78125 235.238438 \r\nL 378.58125 235.238438 \r\n\" style=\"fill:none;stroke:#000000;stroke-linecap:square;stroke-linejoin:miter;stroke-width:0.8;\"/>\r\n   </g>\r\n   <g id=\"patch_6\">\r\n    <path d=\"M 43.78125 17.798438 \r\nL 378.58125 17.798438 \r\n\" style=\"fill:none;stroke:#000000;stroke-linecap:square;stroke-linejoin:miter;stroke-width:0.8;\"/>\r\n   </g>\r\n  </g>\r\n </g>\r\n <defs>\r\n  <clipPath id=\"pf27eb53e7e\">\r\n   <rect height=\"217.44\" width=\"334.8\" x=\"43.78125\" y=\"17.798438\"/>\r\n  </clipPath>\r\n </defs>\r\n</svg>\r\n",
      "image/png": "[encoded data removed]"
     },
     "metadata": {
      "needs_background": "light"
     }
    }
   ],
   "source": [
    "# Plotting graph between real and predicted values\n",
    "plt.plot(y_pred,y_test,'ro')\n",
    "plt.plot([400000,2500000],[400000,2500000], 'g-')\n",
    "plt.xlabel('Predicted')\n",
    "plt.ylabel('Real')\n",
    "plt.show()"
   ]
  },
  {
   "cell_type": "markdown",
   "metadata": {},
   "source": [
    "#### Comparing some of the individual `y_test` and the corresponding `y_pred` values "
   ]
  },
  {
   "cell_type": "code",
   "execution_count": 20,
   "metadata": {},
   "outputs": [
    {
     "output_type": "stream",
     "name": "stdout",
     "text": [
      "y_test[0]:    920,000    y_pred[0]:    936,120   Difference (% of y_test):   1.75%\ny_test[1]:    769,000    y_pred[1]:    751,886   Difference (% of y_test):  -2.23%\ny_test[2]:    880,000    y_pred[2]:    846,384   Difference (% of y_test):  -3.82%\ny_test[3]:    781,200    y_pred[3]:    772,519   Difference (% of y_test):  -1.11%\ny_test[4]:  1,500,000    y_pred[4]:  1,576,162   Difference (% of y_test):   5.08%\ny_test[5]:    982,222    y_pred[5]:    960,635   Difference (% of y_test):  -2.20%\ny_test[6]:    885,000    y_pred[6]:    880,437   Difference (% of y_test):  -0.52%\ny_test[7]:    700,000    y_pred[7]:    648,518   Difference (% of y_test):  -7.35%\ny_test[8]:    800,000    y_pred[8]:    737,516   Difference (% of y_test):  -7.81%\ny_test[9]:    685,000    y_pred[9]:    718,288   Difference (% of y_test):   4.86%\ny_test[10]:    915,000    y_pred[10]:    846,865   Difference (% of y_test):  -7.45%\ny_test[11]:    878,000    y_pred[11]:    893,451   Difference (% of y_test):   1.76%\ny_test[12]:    735,000    y_pred[12]:    775,237   Difference (% of y_test):   5.47%\ny_test[13]:    720,000    y_pred[13]:    699,917   Difference (% of y_test):  -2.79%\ny_test[14]:  1,055,000    y_pred[14]:  1,149,454   Difference (% of y_test):   8.95%\ny_test[15]:    874,000    y_pred[15]:    896,556   Difference (% of y_test):   2.58%\ny_test[16]:    751,000    y_pred[16]:    824,318   Difference (% of y_test):   9.76%\ny_test[17]:    668,000    y_pred[17]:    709,060   Difference (% of y_test):   6.15%\ny_test[18]:  1,650,000    y_pred[18]:  1,620,263   Difference (% of y_test):  -1.80%\ny_test[19]:  1,215,000    y_pred[19]:  1,295,823   Difference (% of y_test):   6.65%\ny_test[20]:    890,000    y_pred[20]:    931,123   Difference (% of y_test):   4.62%\ny_test[21]:    968,000    y_pred[21]:    946,332   Difference (% of y_test):  -2.24%\ny_test[22]:    886,000    y_pred[22]:    967,570   Difference (% of y_test):   9.21%\ny_test[23]:    877,000    y_pred[23]:    907,786   Difference (% of y_test):   3.51%\ny_test[24]:    895,000    y_pred[24]:    966,657   Difference (% of y_test):   8.01%\ny_test[25]:  1,320,000    y_pred[25]:  1,333,863   Difference (% of y_test):   1.05%\ny_test[26]:    920,000    y_pred[26]:    898,026   Difference (% of y_test):  -2.39%\ny_test[27]:  1,510,055    y_pred[27]:  1,360,603   Difference (% of y_test):  -9.90%\ny_test[28]:  1,020,000    y_pred[28]:  1,101,943   Difference (% of y_test):   8.03%\ny_test[29]:    700,000    y_pred[29]:    648,518   Difference (% of y_test):  -7.35%\ny_test[30]:    810,000    y_pred[30]:    778,437   Difference (% of y_test):  -3.90%\ny_test[31]:    955,000    y_pred[31]:    928,945   Difference (% of y_test):  -2.73%\ny_test[32]:    830,000    y_pred[32]:    822,581   Difference (% of y_test):  -0.89%\ny_test[33]:    726,000    y_pred[33]:    729,931   Difference (% of y_test):   0.54%\ny_test[34]:    831,000    y_pred[34]:    774,722   Difference (% of y_test):  -6.77%\ny_test[35]:    830,000    y_pred[35]:    852,311   Difference (% of y_test):   2.69%\ny_test[36]:    967,500    y_pred[36]:    994,479   Difference (% of y_test):   2.79%\ny_test[37]:  1,582,000    y_pred[37]:  1,607,642   Difference (% of y_test):   1.62%\ny_test[38]:  1,220,000    y_pred[38]:  1,247,083   Difference (% of y_test):   2.22%\ny_test[39]:  1,234,000    y_pred[39]:  1,274,050   Difference (% of y_test):   3.25%\ny_test[40]:    872,000    y_pred[40]:    838,527   Difference (% of y_test):  -3.84%\ny_test[41]:    665,000    y_pred[41]:    675,555   Difference (% of y_test):   1.59%\ny_test[42]:  1,820,000    y_pred[42]:  1,570,955   Difference (% of y_test): -13.68%\ny_test[43]:    757,000    y_pred[43]:    777,349   Difference (% of y_test):   2.69%\ny_test[44]:    800,000    y_pred[44]:    786,898   Difference (% of y_test):  -1.64%\ny_test[45]:    950,000    y_pred[45]:    993,867   Difference (% of y_test):   4.62%\ny_test[46]:  1,090,000    y_pred[46]:  1,116,461   Difference (% of y_test):   2.43%\ny_test[47]:  1,595,000    y_pred[47]:  1,610,073   Difference (% of y_test):   0.95%\ny_test[48]:    770,000    y_pred[48]:    806,823   Difference (% of y_test):   4.78%\ny_test[49]:  1,160,000    y_pred[49]:  1,080,078   Difference (% of y_test):  -6.89%\n"
     ]
    }
   ],
   "source": [
    "# Comparing some of the individual actual values (y_test) with their respective predicted values (y_pred)\n",
    "for i in range(50):\n",
    "    print(f\"y_test[{i}]: {y_test[i]:10,.0f}    y_pred[{i}]: {y_pred[i]:10,.0f}   Difference (% of y_test): {((y_pred[i]-y_test[i])/y_test[i])*100:6.2f}%\")"
   ]
  },
  {
   "cell_type": "code",
   "execution_count": null,
   "metadata": {},
   "outputs": [],
   "source": []
  }
 ],
 "metadata": {
  "kernelspec": {
   "display_name": "mlenv",
   "language": "python",
   "name": "mlenv"
  },
  "language_info": {
   "codemirror_mode": {
    "name": "ipython",
    "version": 3
   },
   "file_extension": ".py",
   "mimetype": "text/x-python",
   "name": "python",
   "nbconvert_exporter": "python",
   "pygments_lexer": "ipython3",
   "version": "3.7.9"
  }
 },
 "nbformat": 4,
 "nbformat_minor": 2
}