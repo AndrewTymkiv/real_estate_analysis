{
 "metadata": {
  "language_info": {
   "codemirror_mode": {
    "name": "ipython",
    "version": 3
   },
   "file_extension": ".py",
   "mimetype": "text/x-python",
   "name": "python",
   "nbconvert_exporter": "python",
   "pygments_lexer": "ipython3",
   "version": "3.7.9"
  },
  "orig_nbformat": 2,
  "kernelspec": {
   "name": "mlenv",
   "display_name": "Python 3.7.9 64-bit ('mlenv': conda)"
  }
 },
 "nbformat": 4,
 "nbformat_minor": 2,
 "cells": [
  {
   "source": [
    "## Machine Learning Model for Predicting \"Sold Price\"\n",
    "#### We are creating a Multiple Linear Regression machine learning model to predict \"Sold Price\" of a house based on type, style, bedrooms, washrooms, list price, date, and some other parameters. This will help prespective buyers to bid for the house."
   ],
   "cell_type": "markdown",
   "metadata": {}
  },
  {
   "cell_type": "code",
   "execution_count": 1,
   "metadata": {},
   "outputs": [],
   "source": [
    "import pandas as pd\n",
    "from pathlib import Path\n",
    "import matplotlib.pyplot as plt\n",
    "from sklearn.linear_model import LinearRegression\n",
    "from sklearn.preprocessing import StandardScaler,OneHotEncoder\n",
    "from sklearn.model_selection import train_test_split\n",
    "import numpy as np\n",
    "from sklearn.metrics import mean_squared_error,r2_score,mean_absolute_error "
   ]
  },
  {
   "cell_type": "code",
   "execution_count": 2,
   "metadata": {},
   "outputs": [
    {
     "output_type": "execute_result",
     "data": {
      "text/plain": [
       "   #  LSC    EC  St# Street Name  Abbr   Dir Municipality   Community  \\\n",
       "0  1  Sld  None   38   Scarsdale   Crt  None     Brampton  Brampton W   \n",
       "1  2  Sld  None   55       Corby  Cres  None     Brampton  Brampton W   \n",
       "2  3  Sld  None    7      Manett  Cres  None     Brampton  Brampton W   \n",
       "3  4  Sld  None   76    Fairglen   Ave  None     Brampton  Brampton W   \n",
       "4  5  Sld  None  121    Richwood  Cres  None     Brampton  Brampton W   \n",
       "\n",
       "  List Price  ... Fam Kit Garage Type  A/C  Heat  Contract Date  Sold Date  \\\n",
       "0   $599,000  ...   N   1      Built-  Cen   Gas      3/16/2021  3/23/2021   \n",
       "1   $599,900  ...   N   1        None  Cen   Oil      2/23/2021  2/26/2021   \n",
       "2   $699,000  ...   N   1      Attach  Cen   Gas      1/21/2021  1/26/2021   \n",
       "3   $699,500  ...   N   1        None  Cen   Gas      3/16/2021  3/17/2021   \n",
       "4   $699,900  ...   N   1      Built-  Cen   Gas      2/21/2021  2/26/2021   \n",
       "\n",
       "   List Brokerage Co op Brokerage      MLS#  \n",
       "0     RE/MAX WEST   RE/MAX REALTY  W5153139  \n",
       "1     RE/MAX REAL   HOMELIFE/MIRA  W5125388  \n",
       "2     RE/MAX REAL   HOMELIFE/MIRA  W5091089  \n",
       "3     EXP REALTY,     ROYALSTARRE  W5153813  \n",
       "4     RE/MAX REAL    ROYAL LEPAGE  W5123258  \n",
       "\n",
       "[5 rows x 26 columns]"
      ],
      "text/html": "<div>\n<style scoped>\n    .dataframe tbody tr th:only-of-type {\n        vertical-align: middle;\n    }\n\n    .dataframe tbody tr th {\n        vertical-align: top;\n    }\n\n    .dataframe thead th {\n        text-align: right;\n    }\n</style>\n<table border=\"1\" class=\"dataframe\">\n  <thead>\n    <tr style=\"text-align: right;\">\n      <th></th>\n      <th>#</th>\n      <th>LSC</th>\n      <th>EC</th>\n      <th>St#</th>\n      <th>Street Name</th>\n      <th>Abbr</th>\n      <th>Dir</th>\n      <th>Municipality</th>\n      <th>Community</th>\n      <th>List Price</th>\n      <th>...</th>\n      <th>Fam</th>\n      <th>Kit</th>\n      <th>Garage Type</th>\n      <th>A/C</th>\n      <th>Heat</th>\n      <th>Contract Date</th>\n      <th>Sold Date</th>\n      <th>List Brokerage</th>\n      <th>Co op Brokerage</th>\n      <th>MLS#</th>\n    </tr>\n  </thead>\n  <tbody>\n    <tr>\n      <th>0</th>\n      <td>1</td>\n      <td>Sld</td>\n      <td>None</td>\n      <td>38</td>\n      <td>Scarsdale</td>\n      <td>Crt</td>\n      <td>None</td>\n      <td>Brampton</td>\n      <td>Brampton W</td>\n      <td>$599,000</td>\n      <td>...</td>\n      <td>N</td>\n      <td>1</td>\n      <td>Built-</td>\n      <td>Cen</td>\n      <td>Gas</td>\n      <td>3/16/2021</td>\n      <td>3/23/2021</td>\n      <td>RE/MAX WEST</td>\n      <td>RE/MAX REALTY</td>\n      <td>W5153139</td>\n    </tr>\n    <tr>\n      <th>1</th>\n      <td>2</td>\n      <td>Sld</td>\n      <td>None</td>\n      <td>55</td>\n      <td>Corby</td>\n      <td>Cres</td>\n      <td>None</td>\n      <td>Brampton</td>\n      <td>Brampton W</td>\n      <td>$599,900</td>\n      <td>...</td>\n      <td>N</td>\n      <td>1</td>\n      <td>None</td>\n      <td>Cen</td>\n      <td>Oil</td>\n      <td>2/23/2021</td>\n      <td>2/26/2021</td>\n      <td>RE/MAX REAL</td>\n      <td>HOMELIFE/MIRA</td>\n      <td>W5125388</td>\n    </tr>\n    <tr>\n      <th>2</th>\n      <td>3</td>\n      <td>Sld</td>\n      <td>None</td>\n      <td>7</td>\n      <td>Manett</td>\n      <td>Cres</td>\n      <td>None</td>\n      <td>Brampton</td>\n      <td>Brampton W</td>\n      <td>$699,000</td>\n      <td>...</td>\n      <td>N</td>\n      <td>1</td>\n      <td>Attach</td>\n      <td>Cen</td>\n      <td>Gas</td>\n      <td>1/21/2021</td>\n      <td>1/26/2021</td>\n      <td>RE/MAX REAL</td>\n      <td>HOMELIFE/MIRA</td>\n      <td>W5091089</td>\n    </tr>\n    <tr>\n      <th>3</th>\n      <td>4</td>\n      <td>Sld</td>\n      <td>None</td>\n      <td>76</td>\n      <td>Fairglen</td>\n      <td>Ave</td>\n      <td>None</td>\n      <td>Brampton</td>\n      <td>Brampton W</td>\n      <td>$699,500</td>\n      <td>...</td>\n      <td>N</td>\n      <td>1</td>\n      <td>None</td>\n      <td>Cen</td>\n      <td>Gas</td>\n      <td>3/16/2021</td>\n      <td>3/17/2021</td>\n      <td>EXP REALTY,</td>\n      <td>ROYALSTARRE</td>\n      <td>W5153813</td>\n    </tr>\n    <tr>\n      <th>4</th>\n      <td>5</td>\n      <td>Sld</td>\n      <td>None</td>\n      <td>121</td>\n      <td>Richwood</td>\n      <td>Cres</td>\n      <td>None</td>\n      <td>Brampton</td>\n      <td>Brampton W</td>\n      <td>$699,900</td>\n      <td>...</td>\n      <td>N</td>\n      <td>1</td>\n      <td>Built-</td>\n      <td>Cen</td>\n      <td>Gas</td>\n      <td>2/21/2021</td>\n      <td>2/26/2021</td>\n      <td>RE/MAX REAL</td>\n      <td>ROYAL LEPAGE</td>\n      <td>W5123258</td>\n    </tr>\n  </tbody>\n</table>\n<p>5 rows × 26 columns</p>\n</div>"
     },
     "metadata": {},
     "execution_count": 2
    }
   ],
   "source": [
    "# Importing the data from SQLite database into a DataFrame\n",
    "house_df = pd.read_sql_table('sold_homes', 'sqlite:///sold_homes.db').drop(columns=['index'])\n",
    "house_df.head()"
   ]
  },
  {
   "cell_type": "code",
   "execution_count": 3,
   "metadata": {},
   "outputs": [
    {
     "output_type": "execute_result",
     "data": {
      "text/plain": [
       "#                   int64\n",
       "LSC                object\n",
       "EC                 object\n",
       "St#                object\n",
       "Street Name        object\n",
       "Abbr               object\n",
       "Dir                object\n",
       "Municipality       object\n",
       "Community          object\n",
       "List Price         object\n",
       "Sold Price         object\n",
       "Type               object\n",
       "Style              object\n",
       "Br                  int64\n",
       "Additional          int64\n",
       "Wr                  int64\n",
       "Fam                object\n",
       "Kit                 int64\n",
       "Garage Type        object\n",
       "A/C                object\n",
       "Heat               object\n",
       "Contract Date      object\n",
       "Sold Date          object\n",
       "List Brokerage     object\n",
       "Co op Brokerage    object\n",
       "MLS#               object\n",
       "dtype: object"
      ]
     },
     "metadata": {},
     "execution_count": 3
    }
   ],
   "source": [
    "# Checking date types of columns\n",
    "house_df.dtypes"
   ]
  },
  {
   "source": [
    "### Data Preprocessing and Preliminary Features Selection\n",
    "\n",
    "* In this part, we have tested and dropped the columns are not beneficial to the machine learning model or which reduce the performance of machine learning model. For this, we used Exhaustive Feature Selection which is one of the Wrapper Methods.\n",
    "* Changed datatype of some of the columns (currency, dates) to intergers so that they can be used in machine learning model\n",
    "* Encoded the columns which can not be directly converted to numeric values. Also, checked if bucketing is required in such columns"
   ],
   "cell_type": "markdown",
   "metadata": {}
  },
  {
   "cell_type": "code",
   "execution_count": 4,
   "metadata": {},
   "outputs": [
    {
     "output_type": "execute_result",
     "data": {
      "text/plain": [
       "  List Price Sold Price        Type     Style  Br  Additional  Wr Fam  Kit  \\\n",
       "0   $599,000   $681,000  Att/Row/Tw  2-Storey   3           0   2   N    1   \n",
       "1   $599,900   $767,000  Semi-Detac  Bungalow   3           1   2   N    1   \n",
       "2   $699,000   $818,500  Att/Row/Tw  2-Storey   3           1   3   N    1   \n",
       "3   $699,500   $726,000  Semi-Detac  Bungalow   2           1   2   N    1   \n",
       "4   $699,900   $731,000  Att/Row/Tw  2-Storey   3           0   3   N    1   \n",
       "\n",
       "  Garage Type Contract Date  Sold Date  \n",
       "0      Built-     3/16/2021  3/23/2021  \n",
       "1        None     2/23/2021  2/26/2021  \n",
       "2      Attach     1/21/2021  1/26/2021  \n",
       "3        None     3/16/2021  3/17/2021  \n",
       "4      Built-     2/21/2021  2/26/2021  "
      ],
      "text/html": "<div>\n<style scoped>\n    .dataframe tbody tr th:only-of-type {\n        vertical-align: middle;\n    }\n\n    .dataframe tbody tr th {\n        vertical-align: top;\n    }\n\n    .dataframe thead th {\n        text-align: right;\n    }\n</style>\n<table border=\"1\" class=\"dataframe\">\n  <thead>\n    <tr style=\"text-align: right;\">\n      <th></th>\n      <th>List Price</th>\n      <th>Sold Price</th>\n      <th>Type</th>\n      <th>Style</th>\n      <th>Br</th>\n      <th>Additional</th>\n      <th>Wr</th>\n      <th>Fam</th>\n      <th>Kit</th>\n      <th>Garage Type</th>\n      <th>Contract Date</th>\n      <th>Sold Date</th>\n    </tr>\n  </thead>\n  <tbody>\n    <tr>\n      <th>0</th>\n      <td>$599,000</td>\n      <td>$681,000</td>\n      <td>Att/Row/Tw</td>\n      <td>2-Storey</td>\n      <td>3</td>\n      <td>0</td>\n      <td>2</td>\n      <td>N</td>\n      <td>1</td>\n      <td>Built-</td>\n      <td>3/16/2021</td>\n      <td>3/23/2021</td>\n    </tr>\n    <tr>\n      <th>1</th>\n      <td>$599,900</td>\n      <td>$767,000</td>\n      <td>Semi-Detac</td>\n      <td>Bungalow</td>\n      <td>3</td>\n      <td>1</td>\n      <td>2</td>\n      <td>N</td>\n      <td>1</td>\n      <td>None</td>\n      <td>2/23/2021</td>\n      <td>2/26/2021</td>\n    </tr>\n    <tr>\n      <th>2</th>\n      <td>$699,000</td>\n      <td>$818,500</td>\n      <td>Att/Row/Tw</td>\n      <td>2-Storey</td>\n      <td>3</td>\n      <td>1</td>\n      <td>3</td>\n      <td>N</td>\n      <td>1</td>\n      <td>Attach</td>\n      <td>1/21/2021</td>\n      <td>1/26/2021</td>\n    </tr>\n    <tr>\n      <th>3</th>\n      <td>$699,500</td>\n      <td>$726,000</td>\n      <td>Semi-Detac</td>\n      <td>Bungalow</td>\n      <td>2</td>\n      <td>1</td>\n      <td>2</td>\n      <td>N</td>\n      <td>1</td>\n      <td>None</td>\n      <td>3/16/2021</td>\n      <td>3/17/2021</td>\n    </tr>\n    <tr>\n      <th>4</th>\n      <td>$699,900</td>\n      <td>$731,000</td>\n      <td>Att/Row/Tw</td>\n      <td>2-Storey</td>\n      <td>3</td>\n      <td>0</td>\n      <td>3</td>\n      <td>N</td>\n      <td>1</td>\n      <td>Built-</td>\n      <td>2/21/2021</td>\n      <td>2/26/2021</td>\n    </tr>\n  </tbody>\n</table>\n</div>"
     },
     "metadata": {},
     "execution_count": 4
    }
   ],
   "source": [
    "# Drop the non-beneficial columns\n",
    "house_df = house_df.drop([\"#\",\"LSC\",\"EC\",\"St#\",\"Dir\",\"Municipality\",\"Community\",\"MLS#\",\"Abbr\",\"List Brokerage\",\"Co op Brokerage\",\"Street Name\",\"Heat\",\"A/C\"],1)\n",
    "house_df.head()"
   ]
  },
  {
   "source": [
    "#### At this point, 11 columns or features remain in the dataset: \"List Price\", \"Sold Price\", \"Type\", \"Style\", \"Br\"(bedrooms),\t\"Additional\"(additional rooms), \"Wr\"(washrooms), \"Fam\", \"Kit\"(kitchen), \"Garage Type\", \"Contract Date\", \"Sold Date\" "
   ],
   "cell_type": "markdown",
   "metadata": {}
  },
  {
   "cell_type": "code",
   "execution_count": 5,
   "metadata": {},
   "outputs": [
    {
     "output_type": "execute_result",
     "data": {
      "text/plain": [
       "   List Price  Sold Price        Type     Style  Br  Additional  Wr Fam  Kit  \\\n",
       "0      599000      681000  Att/Row/Tw  2-Storey   3           0   2   N    1   \n",
       "1      599900      767000  Semi-Detac  Bungalow   3           1   2   N    1   \n",
       "2      699000      818500  Att/Row/Tw  2-Storey   3           1   3   N    1   \n",
       "3      699500      726000  Semi-Detac  Bungalow   2           1   2   N    1   \n",
       "4      699900      731000  Att/Row/Tw  2-Storey   3           0   3   N    1   \n",
       "\n",
       "  Garage Type Contract Date  Sold Date  \n",
       "0      Built-     3/16/2021  3/23/2021  \n",
       "1        None     2/23/2021  2/26/2021  \n",
       "2      Attach     1/21/2021  1/26/2021  \n",
       "3        None     3/16/2021  3/17/2021  \n",
       "4      Built-     2/21/2021  2/26/2021  "
      ],
      "text/html": "<div>\n<style scoped>\n    .dataframe tbody tr th:only-of-type {\n        vertical-align: middle;\n    }\n\n    .dataframe tbody tr th {\n        vertical-align: top;\n    }\n\n    .dataframe thead th {\n        text-align: right;\n    }\n</style>\n<table border=\"1\" class=\"dataframe\">\n  <thead>\n    <tr style=\"text-align: right;\">\n      <th></th>\n      <th>List Price</th>\n      <th>Sold Price</th>\n      <th>Type</th>\n      <th>Style</th>\n      <th>Br</th>\n      <th>Additional</th>\n      <th>Wr</th>\n      <th>Fam</th>\n      <th>Kit</th>\n      <th>Garage Type</th>\n      <th>Contract Date</th>\n      <th>Sold Date</th>\n    </tr>\n  </thead>\n  <tbody>\n    <tr>\n      <th>0</th>\n      <td>599000</td>\n      <td>681000</td>\n      <td>Att/Row/Tw</td>\n      <td>2-Storey</td>\n      <td>3</td>\n      <td>0</td>\n      <td>2</td>\n      <td>N</td>\n      <td>1</td>\n      <td>Built-</td>\n      <td>3/16/2021</td>\n      <td>3/23/2021</td>\n    </tr>\n    <tr>\n      <th>1</th>\n      <td>599900</td>\n      <td>767000</td>\n      <td>Semi-Detac</td>\n      <td>Bungalow</td>\n      <td>3</td>\n      <td>1</td>\n      <td>2</td>\n      <td>N</td>\n      <td>1</td>\n      <td>None</td>\n      <td>2/23/2021</td>\n      <td>2/26/2021</td>\n    </tr>\n    <tr>\n      <th>2</th>\n      <td>699000</td>\n      <td>818500</td>\n      <td>Att/Row/Tw</td>\n      <td>2-Storey</td>\n      <td>3</td>\n      <td>1</td>\n      <td>3</td>\n      <td>N</td>\n      <td>1</td>\n      <td>Attach</td>\n      <td>1/21/2021</td>\n      <td>1/26/2021</td>\n    </tr>\n    <tr>\n      <th>3</th>\n      <td>699500</td>\n      <td>726000</td>\n      <td>Semi-Detac</td>\n      <td>Bungalow</td>\n      <td>2</td>\n      <td>1</td>\n      <td>2</td>\n      <td>N</td>\n      <td>1</td>\n      <td>None</td>\n      <td>3/16/2021</td>\n      <td>3/17/2021</td>\n    </tr>\n    <tr>\n      <th>4</th>\n      <td>699900</td>\n      <td>731000</td>\n      <td>Att/Row/Tw</td>\n      <td>2-Storey</td>\n      <td>3</td>\n      <td>0</td>\n      <td>3</td>\n      <td>N</td>\n      <td>1</td>\n      <td>Built-</td>\n      <td>2/21/2021</td>\n      <td>2/26/2021</td>\n    </tr>\n  </tbody>\n</table>\n</div>"
     },
     "metadata": {},
     "execution_count": 5
    }
   ],
   "source": [
    "# Converting \"List Price\" and \"Sold Price\" to integer type\n",
    "house_df[\"List Price\"] = house_df[\"List Price\"].replace('[\\$,]', '', regex=True).astype(int)\n",
    "house_df[\"Sold Price\"] = house_df[\"Sold Price\"].replace('[\\$,]', '', regex=True).astype(int)\n",
    "house_df.head()"
   ]
  },
  {
   "cell_type": "code",
   "execution_count": 6,
   "metadata": {},
   "outputs": [
    {
     "output_type": "execute_result",
     "data": {
      "text/plain": [
       "   List Price  Sold Price        Type     Style  Br  Additional  Wr Fam  Kit  \\\n",
       "0      599000      681000  Att/Row/Tw  2-Storey   3           0   2   N    1   \n",
       "1      599900      767000  Semi-Detac  Bungalow   3           1   2   N    1   \n",
       "2      699000      818500  Att/Row/Tw  2-Storey   3           1   3   N    1   \n",
       "3      699500      726000  Semi-Detac  Bungalow   2           1   2   N    1   \n",
       "4      699900      731000  Att/Row/Tw  2-Storey   3           0   3   N    1   \n",
       "\n",
       "  Garage Type  Contract Date  Sold Date  \n",
       "0      Built-        3162021    3232021  \n",
       "1        None        2232021    2262021  \n",
       "2      Attach        1212021    1262021  \n",
       "3        None        3162021    3172021  \n",
       "4      Built-        2212021    2262021  "
      ],
      "text/html": "<div>\n<style scoped>\n    .dataframe tbody tr th:only-of-type {\n        vertical-align: middle;\n    }\n\n    .dataframe tbody tr th {\n        vertical-align: top;\n    }\n\n    .dataframe thead th {\n        text-align: right;\n    }\n</style>\n<table border=\"1\" class=\"dataframe\">\n  <thead>\n    <tr style=\"text-align: right;\">\n      <th></th>\n      <th>List Price</th>\n      <th>Sold Price</th>\n      <th>Type</th>\n      <th>Style</th>\n      <th>Br</th>\n      <th>Additional</th>\n      <th>Wr</th>\n      <th>Fam</th>\n      <th>Kit</th>\n      <th>Garage Type</th>\n      <th>Contract Date</th>\n      <th>Sold Date</th>\n    </tr>\n  </thead>\n  <tbody>\n    <tr>\n      <th>0</th>\n      <td>599000</td>\n      <td>681000</td>\n      <td>Att/Row/Tw</td>\n      <td>2-Storey</td>\n      <td>3</td>\n      <td>0</td>\n      <td>2</td>\n      <td>N</td>\n      <td>1</td>\n      <td>Built-</td>\n      <td>3162021</td>\n      <td>3232021</td>\n    </tr>\n    <tr>\n      <th>1</th>\n      <td>599900</td>\n      <td>767000</td>\n      <td>Semi-Detac</td>\n      <td>Bungalow</td>\n      <td>3</td>\n      <td>1</td>\n      <td>2</td>\n      <td>N</td>\n      <td>1</td>\n      <td>None</td>\n      <td>2232021</td>\n      <td>2262021</td>\n    </tr>\n    <tr>\n      <th>2</th>\n      <td>699000</td>\n      <td>818500</td>\n      <td>Att/Row/Tw</td>\n      <td>2-Storey</td>\n      <td>3</td>\n      <td>1</td>\n      <td>3</td>\n      <td>N</td>\n      <td>1</td>\n      <td>Attach</td>\n      <td>1212021</td>\n      <td>1262021</td>\n    </tr>\n    <tr>\n      <th>3</th>\n      <td>699500</td>\n      <td>726000</td>\n      <td>Semi-Detac</td>\n      <td>Bungalow</td>\n      <td>2</td>\n      <td>1</td>\n      <td>2</td>\n      <td>N</td>\n      <td>1</td>\n      <td>None</td>\n      <td>3162021</td>\n      <td>3172021</td>\n    </tr>\n    <tr>\n      <th>4</th>\n      <td>699900</td>\n      <td>731000</td>\n      <td>Att/Row/Tw</td>\n      <td>2-Storey</td>\n      <td>3</td>\n      <td>0</td>\n      <td>3</td>\n      <td>N</td>\n      <td>1</td>\n      <td>Built-</td>\n      <td>2212021</td>\n      <td>2262021</td>\n    </tr>\n  </tbody>\n</table>\n</div>"
     },
     "metadata": {},
     "execution_count": 6
    }
   ],
   "source": [
    "# Converting the 'Contract Date' and 'Sold Date' to interger type\n",
    "house_df['Contract Date'] = house_df['Contract Date'].replace('[\\/]', '', regex=True).astype(int) \n",
    "house_df['Sold Date'] = house_df['Sold Date'].replace('[\\/]', '', regex=True).astype(int)\n",
    "house_df.head()"
   ]
  },
  {
   "cell_type": "code",
   "execution_count": 7,
   "metadata": {},
   "outputs": [
    {
     "output_type": "execute_result",
     "data": {
      "text/plain": [
       "List Price        int32\n",
       "Sold Price        int32\n",
       "Type             object\n",
       "Style            object\n",
       "Br                int64\n",
       "Additional        int64\n",
       "Wr                int64\n",
       "Fam              object\n",
       "Kit               int64\n",
       "Garage Type      object\n",
       "Contract Date     int32\n",
       "Sold Date         int32\n",
       "dtype: object"
      ]
     },
     "metadata": {},
     "execution_count": 7
    }
   ],
   "source": [
    "house_df.dtypes"
   ]
  },
  {
   "cell_type": "code",
   "execution_count": 8,
   "metadata": {},
   "outputs": [
    {
     "output_type": "execute_result",
     "data": {
      "text/plain": [
       "Type            5\n",
       "Style          10\n",
       "Fam             2\n",
       "Garage Type     6\n",
       "dtype: int64"
      ]
     },
     "metadata": {},
     "execution_count": 8
    }
   ],
   "source": [
    "# Determine the number of unique values in each column with object datatype\n",
    "house_cat = house_df.dtypes[house_df.dtypes == \"object\"].index.tolist()\n",
    "house_df[house_cat].nunique()"
   ]
  },
  {
   "cell_type": "code",
   "execution_count": 9,
   "metadata": {},
   "outputs": [
    {
     "output_type": "execute_result",
     "data": {
      "text/plain": [
       "2-Storey      847\n",
       "Bungalow      100\n",
       "Backsplit      88\n",
       "3-Storey       58\n",
       "Bungalow-R     52\n",
       "Sidesplit      34\n",
       "1 1/2 Stor      5\n",
       "2 1/2 Stor      3\n",
       "Other           3\n",
       "Bungaloft       3\n",
       "Name: Style, dtype: int64"
      ]
     },
     "metadata": {},
     "execution_count": 9
    }
   ],
   "source": [
    "# Look at \"Style\" value counts for binning\n",
    "style_counts = house_df[\"Style\"].value_counts()\n",
    "style_counts"
   ]
  },
  {
   "source": [
    "#### Binning the values with low counts"
   ],
   "cell_type": "markdown",
   "metadata": {}
  },
  {
   "cell_type": "code",
   "execution_count": 10,
   "metadata": {},
   "outputs": [
    {
     "output_type": "execute_result",
     "data": {
      "text/plain": [
       "2-Storey      847\n",
       "Bungalow      100\n",
       "Backsplit      88\n",
       "3-Storey       58\n",
       "Bungalow-R     52\n",
       "Sidesplit      34\n",
       "Other          14\n",
       "Name: Style, dtype: int64"
      ]
     },
     "metadata": {},
     "execution_count": 10
    }
   ],
   "source": [
    "# Replacing values with count of less than 30\n",
    "replace_style = list(style_counts[style_counts < 30].index)\n",
    "\n",
    "# Replace in dataframe\n",
    "for app in replace_style:\n",
    "    house_df.Style = house_df.Style.replace(app,\"Other\")\n",
    "    \n",
    "# Check to make sure binning was successful\n",
    "house_df.Style.value_counts()"
   ]
  },
  {
   "source": [
    "### Encoding Categorial Values\n",
    "We have encoded categorical values in columns \"Type\", \"Style\", \"Fam\", and \"Garage Type\" using `OneHotEncoder()` "
   ],
   "cell_type": "markdown",
   "metadata": {}
  },
  {
   "cell_type": "code",
   "execution_count": 11,
   "metadata": {},
   "outputs": [
    {
     "output_type": "execute_result",
     "data": {
      "text/plain": [
       "   Type_Att/Row/Tw  Type_Detached  Type_Link  Type_Semi-Detac  \\\n",
       "0              1.0            0.0        0.0              0.0   \n",
       "1              0.0            0.0        0.0              1.0   \n",
       "2              1.0            0.0        0.0              0.0   \n",
       "3              0.0            0.0        0.0              1.0   \n",
       "4              1.0            0.0        0.0              0.0   \n",
       "\n",
       "   Type_Vacant Lan  Style_2-Storey  Style_3-Storey  Style_Backsplit  \\\n",
       "0              0.0             1.0             0.0              0.0   \n",
       "1              0.0             0.0             0.0              0.0   \n",
       "2              0.0             1.0             0.0              0.0   \n",
       "3              0.0             0.0             0.0              0.0   \n",
       "4              0.0             1.0             0.0              0.0   \n",
       "\n",
       "   Style_Bungalow  Style_Bungalow-R  Style_Other  Style_Sidesplit  Fam_N  \\\n",
       "0             0.0               0.0          0.0              0.0    1.0   \n",
       "1             1.0               0.0          0.0              0.0    1.0   \n",
       "2             0.0               0.0          0.0              0.0    1.0   \n",
       "3             1.0               0.0          0.0              0.0    1.0   \n",
       "4             0.0               0.0          0.0              0.0    1.0   \n",
       "\n",
       "   Fam_Y  Garage Type_Attach  Garage Type_Built-  Garage Type_Carpor  \\\n",
       "0    0.0                 0.0                 1.0                 0.0   \n",
       "1    0.0                 0.0                 0.0                 0.0   \n",
       "2    0.0                 1.0                 0.0                 0.0   \n",
       "3    0.0                 0.0                 0.0                 0.0   \n",
       "4    0.0                 0.0                 1.0                 0.0   \n",
       "\n",
       "   Garage Type_Detach  Garage Type_None  Garage Type_Other  \n",
       "0                 0.0               0.0                0.0  \n",
       "1                 0.0               1.0                0.0  \n",
       "2                 0.0               0.0                0.0  \n",
       "3                 0.0               1.0                0.0  \n",
       "4                 0.0               0.0                0.0  "
      ],
      "text/html": "<div>\n<style scoped>\n    .dataframe tbody tr th:only-of-type {\n        vertical-align: middle;\n    }\n\n    .dataframe tbody tr th {\n        vertical-align: top;\n    }\n\n    .dataframe thead th {\n        text-align: right;\n    }\n</style>\n<table border=\"1\" class=\"dataframe\">\n  <thead>\n    <tr style=\"text-align: right;\">\n      <th></th>\n      <th>Type_Att/Row/Tw</th>\n      <th>Type_Detached</th>\n      <th>Type_Link</th>\n      <th>Type_Semi-Detac</th>\n      <th>Type_Vacant Lan</th>\n      <th>Style_2-Storey</th>\n      <th>Style_3-Storey</th>\n      <th>Style_Backsplit</th>\n      <th>Style_Bungalow</th>\n      <th>Style_Bungalow-R</th>\n      <th>Style_Other</th>\n      <th>Style_Sidesplit</th>\n      <th>Fam_N</th>\n      <th>Fam_Y</th>\n      <th>Garage Type_Attach</th>\n      <th>Garage Type_Built-</th>\n      <th>Garage Type_Carpor</th>\n      <th>Garage Type_Detach</th>\n      <th>Garage Type_None</th>\n      <th>Garage Type_Other</th>\n    </tr>\n  </thead>\n  <tbody>\n    <tr>\n      <th>0</th>\n      <td>1.0</td>\n      <td>0.0</td>\n      <td>0.0</td>\n      <td>0.0</td>\n      <td>0.0</td>\n      <td>1.0</td>\n      <td>0.0</td>\n      <td>0.0</td>\n      <td>0.0</td>\n      <td>0.0</td>\n      <td>0.0</td>\n      <td>0.0</td>\n      <td>1.0</td>\n      <td>0.0</td>\n      <td>0.0</td>\n      <td>1.0</td>\n      <td>0.0</td>\n      <td>0.0</td>\n      <td>0.0</td>\n      <td>0.0</td>\n    </tr>\n    <tr>\n      <th>1</th>\n      <td>0.0</td>\n      <td>0.0</td>\n      <td>0.0</td>\n      <td>1.0</td>\n      <td>0.0</td>\n      <td>0.0</td>\n      <td>0.0</td>\n      <td>0.0</td>\n      <td>1.0</td>\n      <td>0.0</td>\n      <td>0.0</td>\n      <td>0.0</td>\n      <td>1.0</td>\n      <td>0.0</td>\n      <td>0.0</td>\n      <td>0.0</td>\n      <td>0.0</td>\n      <td>0.0</td>\n      <td>1.0</td>\n      <td>0.0</td>\n    </tr>\n    <tr>\n      <th>2</th>\n      <td>1.0</td>\n      <td>0.0</td>\n      <td>0.0</td>\n      <td>0.0</td>\n      <td>0.0</td>\n      <td>1.0</td>\n      <td>0.0</td>\n      <td>0.0</td>\n      <td>0.0</td>\n      <td>0.0</td>\n      <td>0.0</td>\n      <td>0.0</td>\n      <td>1.0</td>\n      <td>0.0</td>\n      <td>1.0</td>\n      <td>0.0</td>\n      <td>0.0</td>\n      <td>0.0</td>\n      <td>0.0</td>\n      <td>0.0</td>\n    </tr>\n    <tr>\n      <th>3</th>\n      <td>0.0</td>\n      <td>0.0</td>\n      <td>0.0</td>\n      <td>1.0</td>\n      <td>0.0</td>\n      <td>0.0</td>\n      <td>0.0</td>\n      <td>0.0</td>\n      <td>1.0</td>\n      <td>0.0</td>\n      <td>0.0</td>\n      <td>0.0</td>\n      <td>1.0</td>\n      <td>0.0</td>\n      <td>0.0</td>\n      <td>0.0</td>\n      <td>0.0</td>\n      <td>0.0</td>\n      <td>1.0</td>\n      <td>0.0</td>\n    </tr>\n    <tr>\n      <th>4</th>\n      <td>1.0</td>\n      <td>0.0</td>\n      <td>0.0</td>\n      <td>0.0</td>\n      <td>0.0</td>\n      <td>1.0</td>\n      <td>0.0</td>\n      <td>0.0</td>\n      <td>0.0</td>\n      <td>0.0</td>\n      <td>0.0</td>\n      <td>0.0</td>\n      <td>1.0</td>\n      <td>0.0</td>\n      <td>0.0</td>\n      <td>1.0</td>\n      <td>0.0</td>\n      <td>0.0</td>\n      <td>0.0</td>\n      <td>0.0</td>\n    </tr>\n  </tbody>\n</table>\n</div>"
     },
     "metadata": {},
     "execution_count": 11
    }
   ],
   "source": [
    "# Create a OneHotEncoder instance\n",
    "enc = OneHotEncoder(sparse=False)\n",
    "\n",
    "# Fit and transform the OneHotEncoder using the categorical variable list\n",
    "encode_df = pd.DataFrame(enc.fit_transform(house_df[house_cat]))\n",
    "\n",
    "# Add the encoded variable names to the dataframe\n",
    "encode_df.columns = enc.get_feature_names(house_cat)\n",
    "encode_df.head()"
   ]
  },
  {
   "cell_type": "code",
   "execution_count": 12,
   "metadata": {},
   "outputs": [
    {
     "output_type": "execute_result",
     "data": {
      "text/plain": [
       "   List Price  Sold Price  Br  Additional  Wr  Kit  Contract Date  Sold Date  \\\n",
       "0      599000      681000   3           0   2    1        3162021    3232021   \n",
       "1      599900      767000   3           1   2    1        2232021    2262021   \n",
       "2      699000      818500   3           1   3    1        1212021    1262021   \n",
       "3      699500      726000   2           1   2    1        3162021    3172021   \n",
       "4      699900      731000   3           0   3    1        2212021    2262021   \n",
       "\n",
       "   Type_Att/Row/Tw  Type_Detached  ...  Style_Other  Style_Sidesplit  Fam_N  \\\n",
       "0              1.0            0.0  ...          0.0              0.0    1.0   \n",
       "1              0.0            0.0  ...          0.0              0.0    1.0   \n",
       "2              1.0            0.0  ...          0.0              0.0    1.0   \n",
       "3              0.0            0.0  ...          0.0              0.0    1.0   \n",
       "4              1.0            0.0  ...          0.0              0.0    1.0   \n",
       "\n",
       "   Fam_Y  Garage Type_Attach  Garage Type_Built-  Garage Type_Carpor  \\\n",
       "0    0.0                 0.0                 1.0                 0.0   \n",
       "1    0.0                 0.0                 0.0                 0.0   \n",
       "2    0.0                 1.0                 0.0                 0.0   \n",
       "3    0.0                 0.0                 0.0                 0.0   \n",
       "4    0.0                 0.0                 1.0                 0.0   \n",
       "\n",
       "   Garage Type_Detach  Garage Type_None  Garage Type_Other  \n",
       "0                 0.0               0.0                0.0  \n",
       "1                 0.0               1.0                0.0  \n",
       "2                 0.0               0.0                0.0  \n",
       "3                 0.0               1.0                0.0  \n",
       "4                 0.0               0.0                0.0  \n",
       "\n",
       "[5 rows x 28 columns]"
      ],
      "text/html": "<div>\n<style scoped>\n    .dataframe tbody tr th:only-of-type {\n        vertical-align: middle;\n    }\n\n    .dataframe tbody tr th {\n        vertical-align: top;\n    }\n\n    .dataframe thead th {\n        text-align: right;\n    }\n</style>\n<table border=\"1\" class=\"dataframe\">\n  <thead>\n    <tr style=\"text-align: right;\">\n      <th></th>\n      <th>List Price</th>\n      <th>Sold Price</th>\n      <th>Br</th>\n      <th>Additional</th>\n      <th>Wr</th>\n      <th>Kit</th>\n      <th>Contract Date</th>\n      <th>Sold Date</th>\n      <th>Type_Att/Row/Tw</th>\n      <th>Type_Detached</th>\n      <th>...</th>\n      <th>Style_Other</th>\n      <th>Style_Sidesplit</th>\n      <th>Fam_N</th>\n      <th>Fam_Y</th>\n      <th>Garage Type_Attach</th>\n      <th>Garage Type_Built-</th>\n      <th>Garage Type_Carpor</th>\n      <th>Garage Type_Detach</th>\n      <th>Garage Type_None</th>\n      <th>Garage Type_Other</th>\n    </tr>\n  </thead>\n  <tbody>\n    <tr>\n      <th>0</th>\n      <td>599000</td>\n      <td>681000</td>\n      <td>3</td>\n      <td>0</td>\n      <td>2</td>\n      <td>1</td>\n      <td>3162021</td>\n      <td>3232021</td>\n      <td>1.0</td>\n      <td>0.0</td>\n      <td>...</td>\n      <td>0.0</td>\n      <td>0.0</td>\n      <td>1.0</td>\n      <td>0.0</td>\n      <td>0.0</td>\n      <td>1.0</td>\n      <td>0.0</td>\n      <td>0.0</td>\n      <td>0.0</td>\n      <td>0.0</td>\n    </tr>\n    <tr>\n      <th>1</th>\n      <td>599900</td>\n      <td>767000</td>\n      <td>3</td>\n      <td>1</td>\n      <td>2</td>\n      <td>1</td>\n      <td>2232021</td>\n      <td>2262021</td>\n      <td>0.0</td>\n      <td>0.0</td>\n      <td>...</td>\n      <td>0.0</td>\n      <td>0.0</td>\n      <td>1.0</td>\n      <td>0.0</td>\n      <td>0.0</td>\n      <td>0.0</td>\n      <td>0.0</td>\n      <td>0.0</td>\n      <td>1.0</td>\n      <td>0.0</td>\n    </tr>\n    <tr>\n      <th>2</th>\n      <td>699000</td>\n      <td>818500</td>\n      <td>3</td>\n      <td>1</td>\n      <td>3</td>\n      <td>1</td>\n      <td>1212021</td>\n      <td>1262021</td>\n      <td>1.0</td>\n      <td>0.0</td>\n      <td>...</td>\n      <td>0.0</td>\n      <td>0.0</td>\n      <td>1.0</td>\n      <td>0.0</td>\n      <td>1.0</td>\n      <td>0.0</td>\n      <td>0.0</td>\n      <td>0.0</td>\n      <td>0.0</td>\n      <td>0.0</td>\n    </tr>\n    <tr>\n      <th>3</th>\n      <td>699500</td>\n      <td>726000</td>\n      <td>2</td>\n      <td>1</td>\n      <td>2</td>\n      <td>1</td>\n      <td>3162021</td>\n      <td>3172021</td>\n      <td>0.0</td>\n      <td>0.0</td>\n      <td>...</td>\n      <td>0.0</td>\n      <td>0.0</td>\n      <td>1.0</td>\n      <td>0.0</td>\n      <td>0.0</td>\n      <td>0.0</td>\n      <td>0.0</td>\n      <td>0.0</td>\n      <td>1.0</td>\n      <td>0.0</td>\n    </tr>\n    <tr>\n      <th>4</th>\n      <td>699900</td>\n      <td>731000</td>\n      <td>3</td>\n      <td>0</td>\n      <td>3</td>\n      <td>1</td>\n      <td>2212021</td>\n      <td>2262021</td>\n      <td>1.0</td>\n      <td>0.0</td>\n      <td>...</td>\n      <td>0.0</td>\n      <td>0.0</td>\n      <td>1.0</td>\n      <td>0.0</td>\n      <td>0.0</td>\n      <td>1.0</td>\n      <td>0.0</td>\n      <td>0.0</td>\n      <td>0.0</td>\n      <td>0.0</td>\n    </tr>\n  </tbody>\n</table>\n<p>5 rows × 28 columns</p>\n</div>"
     },
     "metadata": {},
     "execution_count": 12
    }
   ],
   "source": [
    "# Merge one-hot encoded features and drop the originals\n",
    "house_df = house_df.merge(encode_df,left_index=True, right_index=True)\n",
    "house_df = house_df.drop(house_cat,1)\n",
    "house_df.head()"
   ]
  },
  {
   "source": [
    "### Splitting into Training and Testing Datasets\n",
    "The dataset is split into training and testing datasets using `train_test_split()` "
   ],
   "cell_type": "markdown",
   "metadata": {}
  },
  {
   "cell_type": "code",
   "execution_count": 13,
   "metadata": {},
   "outputs": [],
   "source": [
    "# Split our preprocessed data into our features and target arrays\n",
    "y = house_df[\"Sold Price\"].values\n",
    "X = house_df.drop(columns=[\"Sold Price\"]).values\n",
    "\n",
    "# Split the preprocessed data into a training and testing dataset\n",
    "X_train, X_test, y_train, y_test = train_test_split(X, y, test_size=0.2,train_size=0.8, random_state=5)"
   ]
  },
  {
   "source": [
    "### Scaling the Data using `StandardScaler()`\n",
    " "
   ],
   "cell_type": "markdown",
   "metadata": {}
  },
  {
   "cell_type": "code",
   "execution_count": 14,
   "metadata": {},
   "outputs": [],
   "source": [
    "# Create a StandardScaler instances\n",
    "scaler = StandardScaler()\n",
    "\n",
    "# Fit the StandardScaler\n",
    "X_scaler = scaler.fit(X_train)\n",
    "\n",
    "# Scale the data\n",
    "X_train_scaled = X_scaler.transform(X_train)\n",
    "X_test_scaled = X_scaler.transform(X_test)"
   ]
  },
  {
   "source": [
    "### Creating the Model\n",
    "Here we creating Multiple Linear Regression machine learning model using `LinearRegression()` from `sklearn`. Multiple linear regression is used to estimates the relationship between several independent variables (features) and one dependent variable.  "
   ],
   "cell_type": "markdown",
   "metadata": {}
  },
  {
   "cell_type": "code",
   "execution_count": 15,
   "metadata": {},
   "outputs": [
    {
     "output_type": "execute_result",
     "data": {
      "text/plain": [
       "LinearRegression()"
      ]
     },
     "metadata": {},
     "execution_count": 15
    }
   ],
   "source": [
    "# Created the model and fitted the data in the model\n",
    "model = LinearRegression()\n",
    "model.fit(X_train_scaled, y_train)"
   ]
  },
  {
   "cell_type": "code",
   "execution_count": 16,
   "metadata": {},
   "outputs": [],
   "source": [
    "# The model creates predicted y values based on X values from test dataset\n",
    "y_pred = model.predict(X_test_scaled)"
   ]
  },
  {
   "source": [
    "### Checking Model Performance\n",
    "**Coefficient of Determination (R2)**: It explains to what extent the variance of one variable explains the variance of the second variable. It usually has a value of 0 to 1. The closer the value is to 1, better the fit. "
   ],
   "cell_type": "markdown",
   "metadata": {}
  },
  {
   "cell_type": "code",
   "execution_count": 17,
   "metadata": {},
   "outputs": [
    {
     "output_type": "stream",
     "name": "stdout",
     "text": [
      "Coefficient of Determination: 0.9536209250631626\n"
     ]
    }
   ],
   "source": [
    "# Calculating R2 value or Coefficient of Determination\n",
    "test_set_r2 = r2_score(y_test, y_pred)\n",
    "print(\"Coefficient of Determination:\",test_set_r2)"
   ]
  },
  {
   "source": [
    "**Mean Absolute Error (MAE)**: It is an arithmetic average of the absolute errors. It has same unit as original data. The lower the MAE value, more accurate the model is."
   ],
   "cell_type": "markdown",
   "metadata": {}
  },
  {
   "cell_type": "code",
   "execution_count": 18,
   "metadata": {},
   "outputs": [
    {
     "output_type": "stream",
     "name": "stdout",
     "text": [
      "Mean Absolute Error: 51510.07773405633\n"
     ]
    }
   ],
   "source": [
    "# Calculating MAE or Mean Absolute Error\n",
    "mae = mean_absolute_error(y_test, y_pred)\n",
    "print(\"Mean Absolute Error:\",mae)"
   ]
  },
  {
   "source": [
    "**Root Mean Squared Error (RMSE)**: It is the mean of the squared errors. The lower the RMSE value, more accurate the model is. It is one of the most commonly used evaluation methods for regression models."
   ],
   "cell_type": "markdown",
   "metadata": {}
  },
  {
   "cell_type": "code",
   "execution_count": 19,
   "metadata": {},
   "outputs": [
    {
     "output_type": "stream",
     "name": "stdout",
     "text": [
      "Root Mean Squared Error: 69723.40186718859\n"
     ]
    }
   ],
   "source": [
    "# Calculating RMSE or Root Mean Square Error\n",
    "rmse = (np.sqrt(mean_squared_error(y_test, y_pred)))\n",
    "print(\"Root Mean Squared Error:\",rmse)"
   ]
  },
  {
   "source": [
    "#### Comparing MAE and RMSE values with the average of `y_test` dataset  "
   ],
   "cell_type": "markdown",
   "metadata": {}
  },
  {
   "cell_type": "code",
   "execution_count": 20,
   "metadata": {},
   "outputs": [
    {
     "output_type": "stream",
     "name": "stdout",
     "text": [
      "The MAE is 5.06% of Average of y_test (1,018,588)\n"
     ]
    }
   ],
   "source": [
    "# Comparing the MAE with Mean of the actual values (y_test)\n",
    "print(f\"The MAE is {(mae/np.mean(y_test))*100:.2f}% of Average of y_test ({np.mean(y_test):,.0f})\")"
   ]
  },
  {
   "cell_type": "code",
   "execution_count": 21,
   "metadata": {},
   "outputs": [
    {
     "output_type": "stream",
     "name": "stdout",
     "text": [
      "The RMSE is 6.85% of Average of y_test (1,018,588)\n"
     ]
    }
   ],
   "source": [
    "# Comparing the RMSE with Mean of the actual values (y_test)\n",
    "print(f\"The RMSE is {(rmse/np.mean(y_test))*100:.2f}% of Average of y_test ({np.mean(y_test):,.0f})\")"
   ]
  },
  {
   "cell_type": "code",
   "execution_count": 22,
   "metadata": {},
   "outputs": [
    {
     "output_type": "display_data",
     "data": {
      "text/plain": "<Figure size 432x288 with 1 Axes>",
      "image/svg+xml": "<?xml version=\"1.0\" encoding=\"utf-8\" standalone=\"no\"?>\r\n<!DOCTYPE svg PUBLIC \"-//W3C//DTD SVG 1.1//EN\"\r\n  \"http://www.w3.org/Graphics/SVG/1.1/DTD/svg11.dtd\">\r\n<!-- Created with matplotlib (https://matplotlib.org/) -->\r\n<svg height=\"272.794688pt\" version=\"1.1\" viewBox=\"0 0 385.78125 272.794688\" width=\"385.78125pt\" xmlns=\"http://www.w3.org/2000/svg\" xmlns:xlink=\"http://www.w3.org/1999/xlink\">\r\n <metadata>\r\n  <rdf:RDF xmlns:cc=\"http://creativecommons.org/ns#\" xmlns:dc=\"http://purl.org/dc/elements/1.1/\" xmlns:rdf=\"http://www.w3.org/1999/02/22-rdf-syntax-ns#\">\r\n   <cc:Work>\r\n    <dc:type rdf:resource=\"http://purl.org/dc/dcmitype/StillImage\"/>\r\n    <dc:date>2021-05-30T15:11:48.660221</dc:date>\r\n    <dc:format>image/svg+xml</dc:format>\r\n    <dc:creator>\r\n     <cc:Agent>\r\n      <dc:title>Matplotlib v3.3.2, https://matplotlib.org/</dc:title>\r\n     </cc:Agent>\r\n    </dc:creator>\r\n   </cc:Work>\r\n  </rdf:RDF>\r\n </metadata>\r\n <defs>\r\n  <style type=\"text/css\">*{stroke-linecap:butt;stroke-linejoin:round;}</style>\r\n </defs>\r\n <g id=\"figure_1\">\r\n  <g id=\"patch_1\">\r\n   <path d=\"M 0 272.794688 \r\nL 385.78125 272.794688 \r\nL 385.78125 0 \r\nL 0 0 \r\nz\r\n\" style=\"fill:none;\"/>\r\n  </g>\r\n  <g id=\"axes_1\">\r\n   <g id=\"patch_2\">\r\n    <path d=\"M 43.78125 235.238438 \r\nL 378.58125 235.238438 \r\nL 378.58125 17.798438 \r\nL 43.78125 17.798438 \r\nz\r\n\" style=\"fill:#ffffff;\"/>\r\n   </g>\r\n   <g id=\"matplotlib.axis_1\">\r\n    <g id=\"xtick_1\">\r\n     <g id=\"line2d_1\">\r\n      <defs>\r\n       <path d=\"M 0 0 \r\nL 0 3.5 \r\n\" id=\"ma14d60c997\" style=\"stroke:#000000;stroke-width:0.8;\"/>\r\n      </defs>\r\n      <g>\r\n       <use style=\"stroke:#000000;stroke-width:0.8;\" x=\"70.705726\" xlink:href=\"#ma14d60c997\" y=\"235.238438\"/>\r\n      </g>\r\n     </g>\r\n     <g id=\"text_1\">\r\n      <!-- 0.5 -->\r\n      <g transform=\"translate(62.754163 249.836875)scale(0.1 -0.1)\">\r\n       <defs>\r\n        <path d=\"M 31.78125 66.40625 \r\nQ 24.171875 66.40625 20.328125 58.90625 \r\nQ 16.5 51.421875 16.5 36.375 \r\nQ 16.5 21.390625 20.328125 13.890625 \r\nQ 24.171875 6.390625 31.78125 6.390625 \r\nQ 39.453125 6.390625 43.28125 13.890625 \r\nQ 47.125 21.390625 47.125 36.375 \r\nQ 47.125 51.421875 43.28125 58.90625 \r\nQ 39.453125 66.40625 31.78125 66.40625 \r\nz\r\nM 31.78125 74.21875 \r\nQ 44.046875 74.21875 50.515625 64.515625 \r\nQ 56.984375 54.828125 56.984375 36.375 \r\nQ 56.984375 17.96875 50.515625 8.265625 \r\nQ 44.046875 -1.421875 31.78125 -1.421875 \r\nQ 19.53125 -1.421875 13.0625 8.265625 \r\nQ 6.59375 17.96875 6.59375 36.375 \r\nQ 6.59375 54.828125 13.0625 64.515625 \r\nQ 19.53125 74.21875 31.78125 74.21875 \r\nz\r\n\" id=\"DejaVuSans-48\"/>\r\n        <path d=\"M 10.6875 12.40625 \r\nL 21 12.40625 \r\nL 21 0 \r\nL 10.6875 0 \r\nz\r\n\" id=\"DejaVuSans-46\"/>\r\n        <path d=\"M 10.796875 72.90625 \r\nL 49.515625 72.90625 \r\nL 49.515625 64.59375 \r\nL 19.828125 64.59375 \r\nL 19.828125 46.734375 \r\nQ 21.96875 47.46875 24.109375 47.828125 \r\nQ 26.265625 48.1875 28.421875 48.1875 \r\nQ 40.625 48.1875 47.75 41.5 \r\nQ 54.890625 34.8125 54.890625 23.390625 \r\nQ 54.890625 11.625 47.5625 5.09375 \r\nQ 40.234375 -1.421875 26.90625 -1.421875 \r\nQ 22.3125 -1.421875 17.546875 -0.640625 \r\nQ 12.796875 0.140625 7.71875 1.703125 \r\nL 7.71875 11.625 \r\nQ 12.109375 9.234375 16.796875 8.0625 \r\nQ 21.484375 6.890625 26.703125 6.890625 \r\nQ 35.15625 6.890625 40.078125 11.328125 \r\nQ 45.015625 15.765625 45.015625 23.390625 \r\nQ 45.015625 31 40.078125 35.4375 \r\nQ 35.15625 39.890625 26.703125 39.890625 \r\nQ 22.75 39.890625 18.8125 39.015625 \r\nQ 14.890625 38.140625 10.796875 36.28125 \r\nz\r\n\" id=\"DejaVuSans-53\"/>\r\n       </defs>\r\n       <use xlink:href=\"#DejaVuSans-48\"/>\r\n       <use x=\"63.623047\" xlink:href=\"#DejaVuSans-46\"/>\r\n       <use x=\"95.410156\" xlink:href=\"#DejaVuSans-53\"/>\r\n      </g>\r\n     </g>\r\n    </g>\r\n    <g id=\"xtick_2\">\r\n     <g id=\"line2d_2\">\r\n      <g>\r\n       <use style=\"stroke:#000000;stroke-width:0.8;\" x=\"129.237194\" xlink:href=\"#ma14d60c997\" y=\"235.238438\"/>\r\n      </g>\r\n     </g>\r\n     <g id=\"text_2\">\r\n      <!-- 1.0 -->\r\n      <g transform=\"translate(121.285632 249.836875)scale(0.1 -0.1)\">\r\n       <defs>\r\n        <path d=\"M 12.40625 8.296875 \r\nL 28.515625 8.296875 \r\nL 28.515625 63.921875 \r\nL 10.984375 60.40625 \r\nL 10.984375 69.390625 \r\nL 28.421875 72.90625 \r\nL 38.28125 72.90625 \r\nL 38.28125 8.296875 \r\nL 54.390625 8.296875 \r\nL 54.390625 0 \r\nL 12.40625 0 \r\nz\r\n\" id=\"DejaVuSans-49\"/>\r\n       </defs>\r\n       <use xlink:href=\"#DejaVuSans-49\"/>\r\n       <use x=\"63.623047\" xlink:href=\"#DejaVuSans-46\"/>\r\n       <use x=\"95.410156\" xlink:href=\"#DejaVuSans-48\"/>\r\n      </g>\r\n     </g>\r\n    </g>\r\n    <g id=\"xtick_3\">\r\n     <g id=\"line2d_3\">\r\n      <g>\r\n       <use style=\"stroke:#000000;stroke-width:0.8;\" x=\"187.768663\" xlink:href=\"#ma14d60c997\" y=\"235.238438\"/>\r\n      </g>\r\n     </g>\r\n     <g id=\"text_3\">\r\n      <!-- 1.5 -->\r\n      <g transform=\"translate(179.8171 249.836875)scale(0.1 -0.1)\">\r\n       <use xlink:href=\"#DejaVuSans-49\"/>\r\n       <use x=\"63.623047\" xlink:href=\"#DejaVuSans-46\"/>\r\n       <use x=\"95.410156\" xlink:href=\"#DejaVuSans-53\"/>\r\n      </g>\r\n     </g>\r\n    </g>\r\n    <g id=\"xtick_4\">\r\n     <g id=\"line2d_4\">\r\n      <g>\r\n       <use style=\"stroke:#000000;stroke-width:0.8;\" x=\"246.300131\" xlink:href=\"#ma14d60c997\" y=\"235.238438\"/>\r\n      </g>\r\n     </g>\r\n     <g id=\"text_4\">\r\n      <!-- 2.0 -->\r\n      <g transform=\"translate(238.348569 249.836875)scale(0.1 -0.1)\">\r\n       <defs>\r\n        <path d=\"M 19.1875 8.296875 \r\nL 53.609375 8.296875 \r\nL 53.609375 0 \r\nL 7.328125 0 \r\nL 7.328125 8.296875 \r\nQ 12.9375 14.109375 22.625 23.890625 \r\nQ 32.328125 33.6875 34.8125 36.53125 \r\nQ 39.546875 41.84375 41.421875 45.53125 \r\nQ 43.3125 49.21875 43.3125 52.78125 \r\nQ 43.3125 58.59375 39.234375 62.25 \r\nQ 35.15625 65.921875 28.609375 65.921875 \r\nQ 23.96875 65.921875 18.8125 64.3125 \r\nQ 13.671875 62.703125 7.8125 59.421875 \r\nL 7.8125 69.390625 \r\nQ 13.765625 71.78125 18.9375 73 \r\nQ 24.125 74.21875 28.421875 74.21875 \r\nQ 39.75 74.21875 46.484375 68.546875 \r\nQ 53.21875 62.890625 53.21875 53.421875 \r\nQ 53.21875 48.921875 51.53125 44.890625 \r\nQ 49.859375 40.875 45.40625 35.40625 \r\nQ 44.1875 33.984375 37.640625 27.21875 \r\nQ 31.109375 20.453125 19.1875 8.296875 \r\nz\r\n\" id=\"DejaVuSans-50\"/>\r\n       </defs>\r\n       <use xlink:href=\"#DejaVuSans-50\"/>\r\n       <use x=\"63.623047\" xlink:href=\"#DejaVuSans-46\"/>\r\n       <use x=\"95.410156\" xlink:href=\"#DejaVuSans-48\"/>\r\n      </g>\r\n     </g>\r\n    </g>\r\n    <g id=\"xtick_5\">\r\n     <g id=\"line2d_5\">\r\n      <g>\r\n       <use style=\"stroke:#000000;stroke-width:0.8;\" x=\"304.8316\" xlink:href=\"#ma14d60c997\" y=\"235.238438\"/>\r\n      </g>\r\n     </g>\r\n     <g id=\"text_5\">\r\n      <!-- 2.5 -->\r\n      <g transform=\"translate(296.880037 249.836875)scale(0.1 -0.1)\">\r\n       <use xlink:href=\"#DejaVuSans-50\"/>\r\n       <use x=\"63.623047\" xlink:href=\"#DejaVuSans-46\"/>\r\n       <use x=\"95.410156\" xlink:href=\"#DejaVuSans-53\"/>\r\n      </g>\r\n     </g>\r\n    </g>\r\n    <g id=\"xtick_6\">\r\n     <g id=\"line2d_6\">\r\n      <g>\r\n       <use style=\"stroke:#000000;stroke-width:0.8;\" x=\"363.363068\" xlink:href=\"#ma14d60c997\" y=\"235.238438\"/>\r\n      </g>\r\n     </g>\r\n     <g id=\"text_6\">\r\n      <!-- 3.0 -->\r\n      <g transform=\"translate(355.411506 249.836875)scale(0.1 -0.1)\">\r\n       <defs>\r\n        <path d=\"M 40.578125 39.3125 \r\nQ 47.65625 37.796875 51.625 33 \r\nQ 55.609375 28.21875 55.609375 21.1875 \r\nQ 55.609375 10.40625 48.1875 4.484375 \r\nQ 40.765625 -1.421875 27.09375 -1.421875 \r\nQ 22.515625 -1.421875 17.65625 -0.515625 \r\nQ 12.796875 0.390625 7.625 2.203125 \r\nL 7.625 11.71875 \r\nQ 11.71875 9.328125 16.59375 8.109375 \r\nQ 21.484375 6.890625 26.8125 6.890625 \r\nQ 36.078125 6.890625 40.9375 10.546875 \r\nQ 45.796875 14.203125 45.796875 21.1875 \r\nQ 45.796875 27.640625 41.28125 31.265625 \r\nQ 36.765625 34.90625 28.71875 34.90625 \r\nL 20.21875 34.90625 \r\nL 20.21875 43.015625 \r\nL 29.109375 43.015625 \r\nQ 36.375 43.015625 40.234375 45.921875 \r\nQ 44.09375 48.828125 44.09375 54.296875 \r\nQ 44.09375 59.90625 40.109375 62.90625 \r\nQ 36.140625 65.921875 28.71875 65.921875 \r\nQ 24.65625 65.921875 20.015625 65.03125 \r\nQ 15.375 64.15625 9.8125 62.3125 \r\nL 9.8125 71.09375 \r\nQ 15.4375 72.65625 20.34375 73.4375 \r\nQ 25.25 74.21875 29.59375 74.21875 \r\nQ 40.828125 74.21875 47.359375 69.109375 \r\nQ 53.90625 64.015625 53.90625 55.328125 \r\nQ 53.90625 49.265625 50.4375 45.09375 \r\nQ 46.96875 40.921875 40.578125 39.3125 \r\nz\r\n\" id=\"DejaVuSans-51\"/>\r\n       </defs>\r\n       <use xlink:href=\"#DejaVuSans-51\"/>\r\n       <use x=\"63.623047\" xlink:href=\"#DejaVuSans-46\"/>\r\n       <use x=\"95.410156\" xlink:href=\"#DejaVuSans-48\"/>\r\n      </g>\r\n     </g>\r\n    </g>\r\n    <g id=\"text_7\">\r\n     <!-- Predicted -->\r\n     <g transform=\"translate(187.710938 263.515)scale(0.1 -0.1)\">\r\n      <defs>\r\n       <path d=\"M 19.671875 64.796875 \r\nL 19.671875 37.40625 \r\nL 32.078125 37.40625 \r\nQ 38.96875 37.40625 42.71875 40.96875 \r\nQ 46.484375 44.53125 46.484375 51.125 \r\nQ 46.484375 57.671875 42.71875 61.234375 \r\nQ 38.96875 64.796875 32.078125 64.796875 \r\nz\r\nM 9.8125 72.90625 \r\nL 32.078125 72.90625 \r\nQ 44.34375 72.90625 50.609375 67.359375 \r\nQ 56.890625 61.8125 56.890625 51.125 \r\nQ 56.890625 40.328125 50.609375 34.8125 \r\nQ 44.34375 29.296875 32.078125 29.296875 \r\nL 19.671875 29.296875 \r\nL 19.671875 0 \r\nL 9.8125 0 \r\nz\r\n\" id=\"DejaVuSans-80\"/>\r\n       <path d=\"M 41.109375 46.296875 \r\nQ 39.59375 47.171875 37.8125 47.578125 \r\nQ 36.03125 48 33.890625 48 \r\nQ 26.265625 48 22.1875 43.046875 \r\nQ 18.109375 38.09375 18.109375 28.8125 \r\nL 18.109375 0 \r\nL 9.078125 0 \r\nL 9.078125 54.6875 \r\nL 18.109375 54.6875 \r\nL 18.109375 46.1875 \r\nQ 20.953125 51.171875 25.484375 53.578125 \r\nQ 30.03125 56 36.53125 56 \r\nQ 37.453125 56 38.578125 55.875 \r\nQ 39.703125 55.765625 41.0625 55.515625 \r\nz\r\n\" id=\"DejaVuSans-114\"/>\r\n       <path d=\"M 56.203125 29.59375 \r\nL 56.203125 25.203125 \r\nL 14.890625 25.203125 \r\nQ 15.484375 15.921875 20.484375 11.0625 \r\nQ 25.484375 6.203125 34.421875 6.203125 \r\nQ 39.59375 6.203125 44.453125 7.46875 \r\nQ 49.3125 8.734375 54.109375 11.28125 \r\nL 54.109375 2.78125 \r\nQ 49.265625 0.734375 44.1875 -0.34375 \r\nQ 39.109375 -1.421875 33.890625 -1.421875 \r\nQ 20.796875 -1.421875 13.15625 6.1875 \r\nQ 5.515625 13.8125 5.515625 26.8125 \r\nQ 5.515625 40.234375 12.765625 48.109375 \r\nQ 20.015625 56 32.328125 56 \r\nQ 43.359375 56 49.78125 48.890625 \r\nQ 56.203125 41.796875 56.203125 29.59375 \r\nz\r\nM 47.21875 32.234375 \r\nQ 47.125 39.59375 43.09375 43.984375 \r\nQ 39.0625 48.390625 32.421875 48.390625 \r\nQ 24.90625 48.390625 20.390625 44.140625 \r\nQ 15.875 39.890625 15.1875 32.171875 \r\nz\r\n\" id=\"DejaVuSans-101\"/>\r\n       <path d=\"M 45.40625 46.390625 \r\nL 45.40625 75.984375 \r\nL 54.390625 75.984375 \r\nL 54.390625 0 \r\nL 45.40625 0 \r\nL 45.40625 8.203125 \r\nQ 42.578125 3.328125 38.25 0.953125 \r\nQ 33.9375 -1.421875 27.875 -1.421875 \r\nQ 17.96875 -1.421875 11.734375 6.484375 \r\nQ 5.515625 14.40625 5.515625 27.296875 \r\nQ 5.515625 40.1875 11.734375 48.09375 \r\nQ 17.96875 56 27.875 56 \r\nQ 33.9375 56 38.25 53.625 \r\nQ 42.578125 51.265625 45.40625 46.390625 \r\nz\r\nM 14.796875 27.296875 \r\nQ 14.796875 17.390625 18.875 11.75 \r\nQ 22.953125 6.109375 30.078125 6.109375 \r\nQ 37.203125 6.109375 41.296875 11.75 \r\nQ 45.40625 17.390625 45.40625 27.296875 \r\nQ 45.40625 37.203125 41.296875 42.84375 \r\nQ 37.203125 48.484375 30.078125 48.484375 \r\nQ 22.953125 48.484375 18.875 42.84375 \r\nQ 14.796875 37.203125 14.796875 27.296875 \r\nz\r\n\" id=\"DejaVuSans-100\"/>\r\n       <path d=\"M 9.421875 54.6875 \r\nL 18.40625 54.6875 \r\nL 18.40625 0 \r\nL 9.421875 0 \r\nz\r\nM 9.421875 75.984375 \r\nL 18.40625 75.984375 \r\nL 18.40625 64.59375 \r\nL 9.421875 64.59375 \r\nz\r\n\" id=\"DejaVuSans-105\"/>\r\n       <path d=\"M 48.78125 52.59375 \r\nL 48.78125 44.1875 \r\nQ 44.96875 46.296875 41.140625 47.34375 \r\nQ 37.3125 48.390625 33.40625 48.390625 \r\nQ 24.65625 48.390625 19.8125 42.84375 \r\nQ 14.984375 37.3125 14.984375 27.296875 \r\nQ 14.984375 17.28125 19.8125 11.734375 \r\nQ 24.65625 6.203125 33.40625 6.203125 \r\nQ 37.3125 6.203125 41.140625 7.25 \r\nQ 44.96875 8.296875 48.78125 10.40625 \r\nL 48.78125 2.09375 \r\nQ 45.015625 0.34375 40.984375 -0.53125 \r\nQ 36.96875 -1.421875 32.421875 -1.421875 \r\nQ 20.0625 -1.421875 12.78125 6.34375 \r\nQ 5.515625 14.109375 5.515625 27.296875 \r\nQ 5.515625 40.671875 12.859375 48.328125 \r\nQ 20.21875 56 33.015625 56 \r\nQ 37.15625 56 41.109375 55.140625 \r\nQ 45.0625 54.296875 48.78125 52.59375 \r\nz\r\n\" id=\"DejaVuSans-99\"/>\r\n       <path d=\"M 18.3125 70.21875 \r\nL 18.3125 54.6875 \r\nL 36.8125 54.6875 \r\nL 36.8125 47.703125 \r\nL 18.3125 47.703125 \r\nL 18.3125 18.015625 \r\nQ 18.3125 11.328125 20.140625 9.421875 \r\nQ 21.96875 7.515625 27.59375 7.515625 \r\nL 36.8125 7.515625 \r\nL 36.8125 0 \r\nL 27.59375 0 \r\nQ 17.1875 0 13.234375 3.875 \r\nQ 9.28125 7.765625 9.28125 18.015625 \r\nL 9.28125 47.703125 \r\nL 2.6875 47.703125 \r\nL 2.6875 54.6875 \r\nL 9.28125 54.6875 \r\nL 9.28125 70.21875 \r\nz\r\n\" id=\"DejaVuSans-116\"/>\r\n      </defs>\r\n      <use xlink:href=\"#DejaVuSans-80\"/>\r\n      <use x=\"58.552734\" xlink:href=\"#DejaVuSans-114\"/>\r\n      <use x=\"97.416016\" xlink:href=\"#DejaVuSans-101\"/>\r\n      <use x=\"158.939453\" xlink:href=\"#DejaVuSans-100\"/>\r\n      <use x=\"222.416016\" xlink:href=\"#DejaVuSans-105\"/>\r\n      <use x=\"250.199219\" xlink:href=\"#DejaVuSans-99\"/>\r\n      <use x=\"305.179688\" xlink:href=\"#DejaVuSans-116\"/>\r\n      <use x=\"344.388672\" xlink:href=\"#DejaVuSans-101\"/>\r\n      <use x=\"405.912109\" xlink:href=\"#DejaVuSans-100\"/>\r\n     </g>\r\n    </g>\r\n    <g id=\"text_8\">\r\n     <!-- 1e6 -->\r\n     <g transform=\"translate(359.703125 262.515)scale(0.1 -0.1)\">\r\n      <defs>\r\n       <path d=\"M 33.015625 40.375 \r\nQ 26.375 40.375 22.484375 35.828125 \r\nQ 18.609375 31.296875 18.609375 23.390625 \r\nQ 18.609375 15.53125 22.484375 10.953125 \r\nQ 26.375 6.390625 33.015625 6.390625 \r\nQ 39.65625 6.390625 43.53125 10.953125 \r\nQ 47.40625 15.53125 47.40625 23.390625 \r\nQ 47.40625 31.296875 43.53125 35.828125 \r\nQ 39.65625 40.375 33.015625 40.375 \r\nz\r\nM 52.59375 71.296875 \r\nL 52.59375 62.3125 \r\nQ 48.875 64.0625 45.09375 64.984375 \r\nQ 41.3125 65.921875 37.59375 65.921875 \r\nQ 27.828125 65.921875 22.671875 59.328125 \r\nQ 17.53125 52.734375 16.796875 39.40625 \r\nQ 19.671875 43.65625 24.015625 45.921875 \r\nQ 28.375 48.1875 33.59375 48.1875 \r\nQ 44.578125 48.1875 50.953125 41.515625 \r\nQ 57.328125 34.859375 57.328125 23.390625 \r\nQ 57.328125 12.15625 50.6875 5.359375 \r\nQ 44.046875 -1.421875 33.015625 -1.421875 \r\nQ 20.359375 -1.421875 13.671875 8.265625 \r\nQ 6.984375 17.96875 6.984375 36.375 \r\nQ 6.984375 53.65625 15.1875 63.9375 \r\nQ 23.390625 74.21875 37.203125 74.21875 \r\nQ 40.921875 74.21875 44.703125 73.484375 \r\nQ 48.484375 72.75 52.59375 71.296875 \r\nz\r\n\" id=\"DejaVuSans-54\"/>\r\n      </defs>\r\n      <use xlink:href=\"#DejaVuSans-49\"/>\r\n      <use x=\"63.623047\" xlink:href=\"#DejaVuSans-101\"/>\r\n      <use x=\"125.146484\" xlink:href=\"#DejaVuSans-54\"/>\r\n     </g>\r\n    </g>\r\n   </g>\r\n   <g id=\"matplotlib.axis_2\">\r\n    <g id=\"ytick_1\">\r\n     <g id=\"line2d_7\">\r\n      <defs>\r\n       <path d=\"M 0 0 \r\nL -3.5 0 \r\n\" id=\"m2f0a7cf8e5\" style=\"stroke:#000000;stroke-width:0.8;\"/>\r\n      </defs>\r\n      <g>\r\n       <use style=\"stroke:#000000;stroke-width:0.8;\" x=\"43.78125\" xlink:href=\"#m2f0a7cf8e5\" y=\"218.68793\"/>\r\n      </g>\r\n     </g>\r\n     <g id=\"text_9\">\r\n      <!-- 0.5 -->\r\n      <g transform=\"translate(20.878125 222.487149)scale(0.1 -0.1)\">\r\n       <use xlink:href=\"#DejaVuSans-48\"/>\r\n       <use x=\"63.623047\" xlink:href=\"#DejaVuSans-46\"/>\r\n       <use x=\"95.410156\" xlink:href=\"#DejaVuSans-53\"/>\r\n      </g>\r\n     </g>\r\n    </g>\r\n    <g id=\"ytick_2\">\r\n     <g id=\"line2d_8\">\r\n      <g>\r\n       <use style=\"stroke:#000000;stroke-width:0.8;\" x=\"43.78125\" xlink:href=\"#m2f0a7cf8e5\" y=\"185.353575\"/>\r\n      </g>\r\n     </g>\r\n     <g id=\"text_10\">\r\n      <!-- 1.0 -->\r\n      <g transform=\"translate(20.878125 189.152793)scale(0.1 -0.1)\">\r\n       <use xlink:href=\"#DejaVuSans-49\"/>\r\n       <use x=\"63.623047\" xlink:href=\"#DejaVuSans-46\"/>\r\n       <use x=\"95.410156\" xlink:href=\"#DejaVuSans-48\"/>\r\n      </g>\r\n     </g>\r\n    </g>\r\n    <g id=\"ytick_3\">\r\n     <g id=\"line2d_9\">\r\n      <g>\r\n       <use style=\"stroke:#000000;stroke-width:0.8;\" x=\"43.78125\" xlink:href=\"#m2f0a7cf8e5\" y=\"152.019219\"/>\r\n      </g>\r\n     </g>\r\n     <g id=\"text_11\">\r\n      <!-- 1.5 -->\r\n      <g transform=\"translate(20.878125 155.818438)scale(0.1 -0.1)\">\r\n       <use xlink:href=\"#DejaVuSans-49\"/>\r\n       <use x=\"63.623047\" xlink:href=\"#DejaVuSans-46\"/>\r\n       <use x=\"95.410156\" xlink:href=\"#DejaVuSans-53\"/>\r\n      </g>\r\n     </g>\r\n    </g>\r\n    <g id=\"ytick_4\">\r\n     <g id=\"line2d_10\">\r\n      <g>\r\n       <use style=\"stroke:#000000;stroke-width:0.8;\" x=\"43.78125\" xlink:href=\"#m2f0a7cf8e5\" y=\"118.684864\"/>\r\n      </g>\r\n     </g>\r\n     <g id=\"text_12\">\r\n      <!-- 2.0 -->\r\n      <g transform=\"translate(20.878125 122.484083)scale(0.1 -0.1)\">\r\n       <use xlink:href=\"#DejaVuSans-50\"/>\r\n       <use x=\"63.623047\" xlink:href=\"#DejaVuSans-46\"/>\r\n       <use x=\"95.410156\" xlink:href=\"#DejaVuSans-48\"/>\r\n      </g>\r\n     </g>\r\n    </g>\r\n    <g id=\"ytick_5\">\r\n     <g id=\"line2d_11\">\r\n      <g>\r\n       <use style=\"stroke:#000000;stroke-width:0.8;\" x=\"43.78125\" xlink:href=\"#m2f0a7cf8e5\" y=\"85.350509\"/>\r\n      </g>\r\n     </g>\r\n     <g id=\"text_13\">\r\n      <!-- 2.5 -->\r\n      <g transform=\"translate(20.878125 89.149727)scale(0.1 -0.1)\">\r\n       <use xlink:href=\"#DejaVuSans-50\"/>\r\n       <use x=\"63.623047\" xlink:href=\"#DejaVuSans-46\"/>\r\n       <use x=\"95.410156\" xlink:href=\"#DejaVuSans-53\"/>\r\n      </g>\r\n     </g>\r\n    </g>\r\n    <g id=\"ytick_6\">\r\n     <g id=\"line2d_12\">\r\n      <g>\r\n       <use style=\"stroke:#000000;stroke-width:0.8;\" x=\"43.78125\" xlink:href=\"#m2f0a7cf8e5\" y=\"52.016153\"/>\r\n      </g>\r\n     </g>\r\n     <g id=\"text_14\">\r\n      <!-- 3.0 -->\r\n      <g transform=\"translate(20.878125 55.815372)scale(0.1 -0.1)\">\r\n       <use xlink:href=\"#DejaVuSans-51\"/>\r\n       <use x=\"63.623047\" xlink:href=\"#DejaVuSans-46\"/>\r\n       <use x=\"95.410156\" xlink:href=\"#DejaVuSans-48\"/>\r\n      </g>\r\n     </g>\r\n    </g>\r\n    <g id=\"ytick_7\">\r\n     <g id=\"line2d_13\">\r\n      <g>\r\n       <use style=\"stroke:#000000;stroke-width:0.8;\" x=\"43.78125\" xlink:href=\"#m2f0a7cf8e5\" y=\"18.681798\"/>\r\n      </g>\r\n     </g>\r\n     <g id=\"text_15\">\r\n      <!-- 3.5 -->\r\n      <g transform=\"translate(20.878125 22.481017)scale(0.1 -0.1)\">\r\n       <use xlink:href=\"#DejaVuSans-51\"/>\r\n       <use x=\"63.623047\" xlink:href=\"#DejaVuSans-46\"/>\r\n       <use x=\"95.410156\" xlink:href=\"#DejaVuSans-53\"/>\r\n      </g>\r\n     </g>\r\n    </g>\r\n    <g id=\"text_16\">\r\n     <!-- Real -->\r\n     <g transform=\"translate(14.798438 137.297344)rotate(-90)scale(0.1 -0.1)\">\r\n      <defs>\r\n       <path d=\"M 44.390625 34.1875 \r\nQ 47.5625 33.109375 50.5625 29.59375 \r\nQ 53.5625 26.078125 56.59375 19.921875 \r\nL 66.609375 0 \r\nL 56 0 \r\nL 46.6875 18.703125 \r\nQ 43.0625 26.03125 39.671875 28.421875 \r\nQ 36.28125 30.8125 30.421875 30.8125 \r\nL 19.671875 30.8125 \r\nL 19.671875 0 \r\nL 9.8125 0 \r\nL 9.8125 72.90625 \r\nL 32.078125 72.90625 \r\nQ 44.578125 72.90625 50.734375 67.671875 \r\nQ 56.890625 62.453125 56.890625 51.90625 \r\nQ 56.890625 45.015625 53.6875 40.46875 \r\nQ 50.484375 35.9375 44.390625 34.1875 \r\nz\r\nM 19.671875 64.796875 \r\nL 19.671875 38.921875 \r\nL 32.078125 38.921875 \r\nQ 39.203125 38.921875 42.84375 42.21875 \r\nQ 46.484375 45.515625 46.484375 51.90625 \r\nQ 46.484375 58.296875 42.84375 61.546875 \r\nQ 39.203125 64.796875 32.078125 64.796875 \r\nz\r\n\" id=\"DejaVuSans-82\"/>\r\n       <path d=\"M 34.28125 27.484375 \r\nQ 23.390625 27.484375 19.1875 25 \r\nQ 14.984375 22.515625 14.984375 16.5 \r\nQ 14.984375 11.71875 18.140625 8.90625 \r\nQ 21.296875 6.109375 26.703125 6.109375 \r\nQ 34.1875 6.109375 38.703125 11.40625 \r\nQ 43.21875 16.703125 43.21875 25.484375 \r\nL 43.21875 27.484375 \r\nz\r\nM 52.203125 31.203125 \r\nL 52.203125 0 \r\nL 43.21875 0 \r\nL 43.21875 8.296875 \r\nQ 40.140625 3.328125 35.546875 0.953125 \r\nQ 30.953125 -1.421875 24.3125 -1.421875 \r\nQ 15.921875 -1.421875 10.953125 3.296875 \r\nQ 6 8.015625 6 15.921875 \r\nQ 6 25.140625 12.171875 29.828125 \r\nQ 18.359375 34.515625 30.609375 34.515625 \r\nL 43.21875 34.515625 \r\nL 43.21875 35.40625 \r\nQ 43.21875 41.609375 39.140625 45 \r\nQ 35.0625 48.390625 27.6875 48.390625 \r\nQ 23 48.390625 18.546875 47.265625 \r\nQ 14.109375 46.140625 10.015625 43.890625 \r\nL 10.015625 52.203125 \r\nQ 14.9375 54.109375 19.578125 55.046875 \r\nQ 24.21875 56 28.609375 56 \r\nQ 40.484375 56 46.34375 49.84375 \r\nQ 52.203125 43.703125 52.203125 31.203125 \r\nz\r\n\" id=\"DejaVuSans-97\"/>\r\n       <path d=\"M 9.421875 75.984375 \r\nL 18.40625 75.984375 \r\nL 18.40625 0 \r\nL 9.421875 0 \r\nz\r\n\" id=\"DejaVuSans-108\"/>\r\n      </defs>\r\n      <use xlink:href=\"#DejaVuSans-82\"/>\r\n      <use x=\"64.982422\" xlink:href=\"#DejaVuSans-101\"/>\r\n      <use x=\"126.505859\" xlink:href=\"#DejaVuSans-97\"/>\r\n      <use x=\"187.785156\" xlink:href=\"#DejaVuSans-108\"/>\r\n     </g>\r\n    </g>\r\n    <g id=\"text_17\">\r\n     <!-- 1e6 -->\r\n     <g transform=\"translate(43.78125 14.798437)scale(0.1 -0.1)\">\r\n      <use xlink:href=\"#DejaVuSans-49\"/>\r\n      <use x=\"63.623047\" xlink:href=\"#DejaVuSans-101\"/>\r\n      <use x=\"125.146484\" xlink:href=\"#DejaVuSans-54\"/>\r\n     </g>\r\n    </g>\r\n   </g>\r\n   <g id=\"line2d_14\">\r\n    <defs>\r\n     <path d=\"M 0 3 \r\nC 0.795609 3 1.55874 2.683901 2.12132 2.12132 \r\nC 2.683901 1.55874 3 0.795609 3 0 \r\nC 3 -0.795609 2.683901 -1.55874 2.12132 -2.12132 \r\nC 1.55874 -2.683901 0.795609 -3 0 -3 \r\nC -0.795609 -3 -1.55874 -2.683901 -2.12132 -2.12132 \r\nC -2.683901 -1.55874 -3 -0.795609 -3 0 \r\nC -3 0.795609 -2.683901 1.55874 -2.12132 2.12132 \r\nC -1.55874 2.683901 -0.795609 3 0 3 \r\nz\r\n\" id=\"m387d8f98b3\" style=\"stroke:#ff0000;\"/>\r\n    </defs>\r\n    <g clip-path=\"url(#pfa7fe0cee8)\">\r\n     <use style=\"fill:#ff0000;stroke:#ff0000;\" x=\"121.631436\" xlink:href=\"#m387d8f98b3\" y=\"190.687072\"/>\r\n     <use style=\"fill:#ff0000;stroke:#ff0000;\" x=\"99.607683\" xlink:href=\"#m387d8f98b3\" y=\"200.754047\"/>\r\n     <use style=\"fill:#ff0000;stroke:#ff0000;\" x=\"111.819689\" xlink:href=\"#m387d8f98b3\" y=\"193.35382\"/>\r\n     <use style=\"fill:#ff0000;stroke:#ff0000;\" x=\"103.638394\" xlink:href=\"#m387d8f98b3\" y=\"199.940689\"/>\r\n     <use style=\"fill:#ff0000;stroke:#ff0000;\" x=\"196.48897\" xlink:href=\"#m387d8f98b3\" y=\"152.019219\"/>\r\n     <use style=\"fill:#ff0000;stroke:#ff0000;\" x=\"124.320137\" xlink:href=\"#m387d8f98b3\" y=\"186.538811\"/>\r\n     <use style=\"fill:#ff0000;stroke:#ff0000;\" x=\"115.258529\" xlink:href=\"#m387d8f98b3\" y=\"193.020476\"/>\r\n     <use style=\"fill:#ff0000;stroke:#ff0000;\" x=\"88.216054\" xlink:href=\"#m387d8f98b3\" y=\"205.354188\"/>\r\n     <use style=\"fill:#ff0000;stroke:#ff0000;\" x=\"100.709011\" xlink:href=\"#m387d8f98b3\" y=\"198.687317\"/>\r\n     <use style=\"fill:#ff0000;stroke:#ff0000;\" x=\"95.603194\" xlink:href=\"#m387d8f98b3\" y=\"206.354219\"/>\r\n     <use style=\"fill:#ff0000;stroke:#ff0000;\" x=\"111.632388\" xlink:href=\"#m387d8f98b3\" y=\"191.020415\"/>\r\n     <use style=\"fill:#ff0000;stroke:#ff0000;\" x=\"116.49846\" xlink:href=\"#m387d8f98b3\" y=\"193.487157\"/>\r\n     <use style=\"fill:#ff0000;stroke:#ff0000;\" x=\"101.252183\" xlink:href=\"#m387d8f98b3\" y=\"203.020783\"/>\r\n     <use style=\"fill:#ff0000;stroke:#ff0000;\" x=\"94.55431\" xlink:href=\"#m387d8f98b3\" y=\"204.020814\"/>\r\n     <use style=\"fill:#ff0000;stroke:#ff0000;\" x=\"147.346885\" xlink:href=\"#m387d8f98b3\" y=\"181.686796\"/>\r\n     <use style=\"fill:#ff0000;stroke:#ff0000;\" x=\"117.285123\" xlink:href=\"#m387d8f98b3\" y=\"193.753832\"/>\r\n     <use style=\"fill:#ff0000;stroke:#ff0000;\" x=\"108.330277\" xlink:href=\"#m387d8f98b3\" y=\"201.954084\"/>\r\n     <use style=\"fill:#ff0000;stroke:#ff0000;\" x=\"94.23028\" xlink:href=\"#m387d8f98b3\" y=\"207.487587\"/>\r\n     <use style=\"fill:#ff0000;stroke:#ff0000;\" x=\"201.499263\" xlink:href=\"#m387d8f98b3\" y=\"142.018913\"/>\r\n     <use style=\"fill:#ff0000;stroke:#ff0000;\" x=\"163.08389\" xlink:href=\"#m387d8f98b3\" y=\"171.019802\"/>\r\n     <use style=\"fill:#ff0000;stroke:#ff0000;\" x=\"122.229861\" xlink:href=\"#m387d8f98b3\" y=\"192.687133\"/>\r\n     <use style=\"fill:#ff0000;stroke:#ff0000;\" x=\"122.683129\" xlink:href=\"#m387d8f98b3\" y=\"187.486973\"/>\r\n     <use style=\"fill:#ff0000;stroke:#ff0000;\" x=\"125.867241\" xlink:href=\"#m387d8f98b3\" y=\"192.953808\"/>\r\n     <use style=\"fill:#ff0000;stroke:#ff0000;\" x=\"118.155135\" xlink:href=\"#m387d8f98b3\" y=\"193.553826\"/>\r\n     <use style=\"fill:#ff0000;stroke:#ff0000;\" x=\"125.601274\" xlink:href=\"#m387d8f98b3\" y=\"192.353789\"/>\r\n     <use style=\"fill:#ff0000;stroke:#ff0000;\" x=\"168.22904\" xlink:href=\"#m387d8f98b3\" y=\"164.019587\"/>\r\n     <use style=\"fill:#ff0000;stroke:#ff0000;\" x=\"117.057553\" xlink:href=\"#m387d8f98b3\" y=\"190.687072\"/>\r\n     <use style=\"fill:#ff0000;stroke:#ff0000;\" x=\"171.265185\" xlink:href=\"#m387d8f98b3\" y=\"151.348865\"/>\r\n     <use style=\"fill:#ff0000;stroke:#ff0000;\" x=\"141.918911\" xlink:href=\"#m387d8f98b3\" y=\"184.0202\"/>\r\n     <use style=\"fill:#ff0000;stroke:#ff0000;\" x=\"88.216054\" xlink:href=\"#m387d8f98b3\" y=\"205.354188\"/>\r\n     <use style=\"fill:#ff0000;stroke:#ff0000;\" x=\"103.112079\" xlink:href=\"#m387d8f98b3\" y=\"198.02063\"/>\r\n     <use style=\"fill:#ff0000;stroke:#ff0000;\" x=\"120.583488\" xlink:href=\"#m387d8f98b3\" y=\"188.353667\"/>\r\n     <use style=\"fill:#ff0000;stroke:#ff0000;\" x=\"108.957734\" xlink:href=\"#m387d8f98b3\" y=\"196.687256\"/>\r\n     <use style=\"fill:#ff0000;stroke:#ff0000;\" x=\"97.23271\" xlink:href=\"#m387d8f98b3\" y=\"203.620801\"/>\r\n     <use style=\"fill:#ff0000;stroke:#ff0000;\" x=\"102.576399\" xlink:href=\"#m387d8f98b3\" y=\"196.620587\"/>\r\n     <use style=\"fill:#ff0000;stroke:#ff0000;\" x=\"111.7148\" xlink:href=\"#m387d8f98b3\" y=\"196.687256\"/>\r\n     <use style=\"fill:#ff0000;stroke:#ff0000;\" x=\"129.575795\" xlink:href=\"#m387d8f98b3\" y=\"187.520308\"/>\r\n     <use style=\"fill:#ff0000;stroke:#ff0000;\" x=\"198.760927\" xlink:href=\"#m387d8f98b3\" y=\"146.552385\"/>\r\n     <use style=\"fill:#ff0000;stroke:#ff0000;\" x=\"157.789836\" xlink:href=\"#m387d8f98b3\" y=\"170.686458\"/>\r\n     <use style=\"fill:#ff0000;stroke:#ff0000;\" x=\"161.917007\" xlink:href=\"#m387d8f98b3\" y=\"169.753096\"/>\r\n     <use style=\"fill:#ff0000;stroke:#ff0000;\" x=\"109.807143\" xlink:href=\"#m387d8f98b3\" y=\"193.88717\"/>\r\n     <use style=\"fill:#ff0000;stroke:#ff0000;\" x=\"90.690297\" xlink:href=\"#m387d8f98b3\" y=\"207.687593\"/>\r\n     <use style=\"fill:#ff0000;stroke:#ff0000;\" x=\"196.653794\" xlink:href=\"#m387d8f98b3\" y=\"130.685232\"/>\r\n     <use style=\"fill:#ff0000;stroke:#ff0000;\" x=\"102.211163\" xlink:href=\"#m387d8f98b3\" y=\"201.554071\"/>\r\n     <use style=\"fill:#ff0000;stroke:#ff0000;\" x=\"106.446032\" xlink:href=\"#m387d8f98b3\" y=\"198.687317\"/>\r\n     <use style=\"fill:#ff0000;stroke:#ff0000;\" x=\"129.427827\" xlink:href=\"#m387d8f98b3\" y=\"188.68701\"/>\r\n     <use style=\"fill:#ff0000;stroke:#ff0000;\" x=\"142.435861\" xlink:href=\"#m387d8f98b3\" y=\"179.353391\"/>\r\n     <use style=\"fill:#ff0000;stroke:#ff0000;\" x=\"200.233111\" xlink:href=\"#m387d8f98b3\" y=\"145.685692\"/>\r\n     <use style=\"fill:#ff0000;stroke:#ff0000;\" x=\"106.841236\" xlink:href=\"#m387d8f98b3\" y=\"200.687378\"/>\r\n     <use style=\"fill:#ff0000;stroke:#ff0000;\" x=\"138.624292\" xlink:href=\"#m387d8f98b3\" y=\"174.686581\"/>\r\n     <use style=\"fill:#ff0000;stroke:#ff0000;\" x=\"118.787275\" xlink:href=\"#m387d8f98b3\" y=\"189.353697\"/>\r\n     <use style=\"fill:#ff0000;stroke:#ff0000;\" x=\"207.560314\" xlink:href=\"#m387d8f98b3\" y=\"148.685784\"/>\r\n     <use style=\"fill:#ff0000;stroke:#ff0000;\" x=\"114.925134\" xlink:href=\"#m387d8f98b3\" y=\"191.653768\"/>\r\n     <use style=\"fill:#ff0000;stroke:#ff0000;\" x=\"145.185435\" xlink:href=\"#m387d8f98b3\" y=\"175.353268\"/>\r\n     <use style=\"fill:#ff0000;stroke:#ff0000;\" x=\"216.363447\" xlink:href=\"#m387d8f98b3\" y=\"131.28525\"/>\r\n     <use style=\"fill:#ff0000;stroke:#ff0000;\" x=\"101.772879\" xlink:href=\"#m387d8f98b3\" y=\"199.153998\"/>\r\n     <use style=\"fill:#ff0000;stroke:#ff0000;\" x=\"163.557761\" xlink:href=\"#m387d8f98b3\" y=\"166.019649\"/>\r\n     <use style=\"fill:#ff0000;stroke:#ff0000;\" x=\"119.659159\" xlink:href=\"#m387d8f98b3\" y=\"195.353881\"/>\r\n     <use style=\"fill:#ff0000;stroke:#ff0000;\" x=\"98.899686\" xlink:href=\"#m387d8f98b3\" y=\"199.687348\"/>\r\n     <use style=\"fill:#ff0000;stroke:#ff0000;\" x=\"102.274845\" xlink:href=\"#m387d8f98b3\" y=\"202.147423\"/>\r\n     <use style=\"fill:#ff0000;stroke:#ff0000;\" x=\"121.478786\" xlink:href=\"#m387d8f98b3\" y=\"192.353789\"/>\r\n     <use style=\"fill:#ff0000;stroke:#ff0000;\" x=\"114.652612\" xlink:href=\"#m387d8f98b3\" y=\"192.687133\"/>\r\n     <use style=\"fill:#ff0000;stroke:#ff0000;\" x=\"94.715389\" xlink:href=\"#m387d8f98b3\" y=\"199.354004\"/>\r\n     <use style=\"fill:#ff0000;stroke:#ff0000;\" x=\"94.839007\" xlink:href=\"#m387d8f98b3\" y=\"201.354065\"/>\r\n     <use style=\"fill:#ff0000;stroke:#ff0000;\" x=\"161.722214\" xlink:href=\"#m387d8f98b3\" y=\"172.68652\"/>\r\n     <use style=\"fill:#ff0000;stroke:#ff0000;\" x=\"123.408919\" xlink:href=\"#m387d8f98b3\" y=\"188.650009\"/>\r\n     <use style=\"fill:#ff0000;stroke:#ff0000;\" x=\"115.041261\" xlink:href=\"#m387d8f98b3\" y=\"194.353851\"/>\r\n     <use style=\"fill:#ff0000;stroke:#ff0000;\" x=\"115.779225\" xlink:href=\"#m387d8f98b3\" y=\"193.553826\"/>\r\n     <use style=\"fill:#ff0000;stroke:#ff0000;\" x=\"109.437224\" xlink:href=\"#m387d8f98b3\" y=\"192.020446\"/>\r\n     <use style=\"fill:#ff0000;stroke:#ff0000;\" x=\"100.150855\" xlink:href=\"#m387d8f98b3\" y=\"200.220697\"/>\r\n     <use style=\"fill:#ff0000;stroke:#ff0000;\" x=\"127.073458\" xlink:href=\"#m387d8f98b3\" y=\"189.22036\"/>\r\n     <use style=\"fill:#ff0000;stroke:#ff0000;\" x=\"111.244675\" xlink:href=\"#m387d8f98b3\" y=\"196.353912\"/>\r\n     <use style=\"fill:#ff0000;stroke:#ff0000;\" x=\"96.712014\" xlink:href=\"#m387d8f98b3\" y=\"203.354127\"/>\r\n     <use style=\"fill:#ff0000;stroke:#ff0000;\" x=\"133.025874\" xlink:href=\"#m387d8f98b3\" y=\"184.686888\"/>\r\n     <use style=\"fill:#ff0000;stroke:#ff0000;\" x=\"178.545563\" xlink:href=\"#m387d8f98b3\" y=\"160.352808\"/>\r\n     <use style=\"fill:#ff0000;stroke:#ff0000;\" x=\"223.465889\" xlink:href=\"#m387d8f98b3\" y=\"132.35195\"/>\r\n     <use style=\"fill:#ff0000;stroke:#ff0000;\" x=\"105.706194\" xlink:href=\"#m387d8f98b3\" y=\"198.687317\"/>\r\n     <use style=\"fill:#ff0000;stroke:#ff0000;\" x=\"132.040672\" xlink:href=\"#m387d8f98b3\" y=\"190.353728\"/>\r\n     <use style=\"fill:#ff0000;stroke:#ff0000;\" x=\"128.601831\" xlink:href=\"#m387d8f98b3\" y=\"183.686857\"/>\r\n     <use style=\"fill:#ff0000;stroke:#ff0000;\" x=\"109.720984\" xlink:href=\"#m387d8f98b3\" y=\"195.353881\"/>\r\n     <use style=\"fill:#ff0000;stroke:#ff0000;\" x=\"160.019651\" xlink:href=\"#m387d8f98b3\" y=\"173.68655\"/>\r\n     <use style=\"fill:#ff0000;stroke:#ff0000;\" x=\"120.1733\" xlink:href=\"#m387d8f98b3\" y=\"194.020507\"/>\r\n     <use style=\"fill:#ff0000;stroke:#ff0000;\" x=\"145.106769\" xlink:href=\"#m387d8f98b3\" y=\"178.020017\"/>\r\n     <use style=\"fill:#ff0000;stroke:#ff0000;\" x=\"99.477509\" xlink:href=\"#m387d8f98b3\" y=\"200.787381\"/>\r\n     <use style=\"fill:#ff0000;stroke:#ff0000;\" x=\"214.983041\" xlink:href=\"#m387d8f98b3\" y=\"144.885667\"/>\r\n     <use style=\"fill:#ff0000;stroke:#ff0000;\" x=\"140.855043\" xlink:href=\"#m387d8f98b3\" y=\"179.686734\"/>\r\n     <use style=\"fill:#ff0000;stroke:#ff0000;\" x=\"141.37012\" xlink:href=\"#m387d8f98b3\" y=\"176.019955\"/>\r\n     <use style=\"fill:#ff0000;stroke:#ff0000;\" x=\"139.631033\" xlink:href=\"#m387d8f98b3\" y=\"171.353145\"/>\r\n     <use style=\"fill:#ff0000;stroke:#ff0000;\" x=\"109.214336\" xlink:href=\"#m387d8f98b3\" y=\"194.247181\"/>\r\n     <use style=\"fill:#ff0000;stroke:#ff0000;\" x=\"135.850368\" xlink:href=\"#m387d8f98b3\" y=\"188.020323\"/>\r\n     <use style=\"fill:#ff0000;stroke:#ff0000;\" x=\"127.448059\" xlink:href=\"#m387d8f98b3\" y=\"191.28709\"/>\r\n     <use style=\"fill:#ff0000;stroke:#ff0000;\" x=\"202.767289\" xlink:href=\"#m387d8f98b3\" y=\"140.352195\"/>\r\n     <use style=\"fill:#ff0000;stroke:#ff0000;\" x=\"114.149709\" xlink:href=\"#m387d8f98b3\" y=\"190.020384\"/>\r\n     <use style=\"fill:#ff0000;stroke:#ff0000;\" x=\"136.676364\" xlink:href=\"#m387d8f98b3\" y=\"174.686581\"/>\r\n     <use style=\"fill:#ff0000;stroke:#ff0000;\" x=\"96.723252\" xlink:href=\"#m387d8f98b3\" y=\"204.687501\"/>\r\n     <use style=\"fill:#ff0000;stroke:#ff0000;\" x=\"150.396141\" xlink:href=\"#m387d8f98b3\" y=\"180.686765\"/>\r\n     <use style=\"fill:#ff0000;stroke:#ff0000;\" x=\"106.232509\" xlink:href=\"#m387d8f98b3\" y=\"200.354035\"/>\r\n     <use style=\"fill:#ff0000;stroke:#ff0000;\" x=\"167.526663\" xlink:href=\"#m387d8f98b3\" y=\"157.019306\"/>\r\n     <use style=\"fill:#ff0000;stroke:#ff0000;\" x=\"108.920274\" xlink:href=\"#m387d8f98b3\" y=\"191.353759\"/>\r\n     <use style=\"fill:#ff0000;stroke:#ff0000;\" x=\"123.909949\" xlink:href=\"#m387d8f98b3\" y=\"191.353759\"/>\r\n     <use style=\"fill:#ff0000;stroke:#ff0000;\" x=\"119.307971\" xlink:href=\"#m387d8f98b3\" y=\"179.020047\"/>\r\n     <use style=\"fill:#ff0000;stroke:#ff0000;\" x=\"163.226239\" xlink:href=\"#m387d8f98b3\" y=\"177.595003\"/>\r\n     <use style=\"fill:#ff0000;stroke:#ff0000;\" x=\"108.635577\" xlink:href=\"#m387d8f98b3\" y=\"193.020476\"/>\r\n     <use style=\"fill:#ff0000;stroke:#ff0000;\" x=\"130.472965\" xlink:href=\"#m387d8f98b3\" y=\"189.153691\"/>\r\n     <use style=\"fill:#ff0000;stroke:#ff0000;\" x=\"99.388541\" xlink:href=\"#m387d8f98b3\" y=\"199.954022\"/>\r\n     <use style=\"fill:#ff0000;stroke:#ff0000;\" x=\"126.792506\" xlink:href=\"#m387d8f98b3\" y=\"183.620188\"/>\r\n     <use style=\"fill:#ff0000;stroke:#ff0000;\" x=\"129.302336\" xlink:href=\"#m387d8f98b3\" y=\"186.220268\"/>\r\n     <use style=\"fill:#ff0000;stroke:#ff0000;\" x=\"203.37227\" xlink:href=\"#m387d8f98b3\" y=\"138.352134\"/>\r\n     <use style=\"fill:#ff0000;stroke:#ff0000;\" x=\"138.42388\" xlink:href=\"#m387d8f98b3\" y=\"168.686397\"/>\r\n     <use style=\"fill:#ff0000;stroke:#ff0000;\" x=\"105.930955\" xlink:href=\"#m387d8f98b3\" y=\"198.687317\"/>\r\n     <use style=\"fill:#ff0000;stroke:#ff0000;\" x=\"125.571306\" xlink:href=\"#m387d8f98b3\" y=\"187.353636\"/>\r\n     <use style=\"fill:#ff0000;stroke:#ff0000;\" x=\"123.458554\" xlink:href=\"#m387d8f98b3\" y=\"195.634823\"/>\r\n     <use style=\"fill:#ff0000;stroke:#ff0000;\" x=\"112.336639\" xlink:href=\"#m387d8f98b3\" y=\"197.687286\"/>\r\n     <use style=\"fill:#ff0000;stroke:#ff0000;\" x=\"98.22915\" xlink:href=\"#m387d8f98b3\" y=\"204.687501\"/>\r\n     <use style=\"fill:#ff0000;stroke:#ff0000;\" x=\"140.165776\" xlink:href=\"#m387d8f98b3\" y=\"183.686857\"/>\r\n     <use style=\"fill:#ff0000;stroke:#ff0000;\" x=\"153.359238\" xlink:href=\"#m387d8f98b3\" y=\"158.352747\"/>\r\n     <use style=\"fill:#ff0000;stroke:#ff0000;\" x=\"122.728081\" xlink:href=\"#m387d8f98b3\" y=\"191.553765\"/>\r\n     <use style=\"fill:#ff0000;stroke:#ff0000;\" x=\"124.845516\" xlink:href=\"#m387d8f98b3\" y=\"192.353789\"/>\r\n     <use style=\"fill:#ff0000;stroke:#ff0000;\" x=\"180.117016\" xlink:href=\"#m387d8f98b3\" y=\"159.686121\"/>\r\n     <use style=\"fill:#ff0000;stroke:#ff0000;\" x=\"182.707384\" xlink:href=\"#m387d8f98b3\" y=\"156.686029\"/>\r\n     <use style=\"fill:#ff0000;stroke:#ff0000;\" x=\"203.263636\" xlink:href=\"#m387d8f98b3\" y=\"135.352042\"/>\r\n     <use style=\"fill:#ff0000;stroke:#ff0000;\" x=\"134.380058\" xlink:href=\"#m387d8f98b3\" y=\"175.146595\"/>\r\n     <use style=\"fill:#ff0000;stroke:#ff0000;\" x=\"101.888069\" xlink:href=\"#m387d8f98b3\" y=\"198.620648\"/>\r\n     <use style=\"fill:#ff0000;stroke:#ff0000;\" x=\"127.464916\" xlink:href=\"#m387d8f98b3\" y=\"189.353697\"/>\r\n     <use style=\"fill:#ff0000;stroke:#ff0000;\" x=\"107.545487\" xlink:href=\"#m387d8f98b3\" y=\"200.354035\"/>\r\n     <use style=\"fill:#ff0000;stroke:#ff0000;\" x=\"111.347691\" xlink:href=\"#m387d8f98b3\" y=\"201.020722\"/>\r\n     <use style=\"fill:#ff0000;stroke:#ff0000;\" x=\"190.854965\" xlink:href=\"#m387d8f98b3\" y=\"154.352624\"/>\r\n     <use style=\"fill:#ff0000;stroke:#ff0000;\" x=\"99.742539\" xlink:href=\"#m387d8f98b3\" y=\"203.68747\"/>\r\n     <use style=\"fill:#ff0000;stroke:#ff0000;\" x=\"120.918757\" xlink:href=\"#m387d8f98b3\" y=\"191.553765\"/>\r\n     <use style=\"fill:#ff0000;stroke:#ff0000;\" x=\"102.553923\" xlink:href=\"#m387d8f98b3\" y=\"200.354035\"/>\r\n     <use style=\"fill:#ff0000;stroke:#ff0000;\" x=\"75.296052\" xlink:href=\"#m387d8f98b3\" y=\"209.599251\"/>\r\n     <use style=\"fill:#ff0000;stroke:#ff0000;\" x=\"226.274463\" xlink:href=\"#m387d8f98b3\" y=\"134.852026\"/>\r\n     <use style=\"fill:#ff0000;stroke:#ff0000;\" x=\"136.711952\" xlink:href=\"#m387d8f98b3\" y=\"185.553581\"/>\r\n     <use style=\"fill:#ff0000;stroke:#ff0000;\" x=\"129.08694\" xlink:href=\"#m387d8f98b3\" y=\"189.020354\"/>\r\n     <use style=\"fill:#ff0000;stroke:#ff0000;\" x=\"102.409701\" xlink:href=\"#m387d8f98b3\" y=\"198.987259\"/>\r\n     <use style=\"fill:#ff0000;stroke:#ff0000;\" x=\"111.195977\" xlink:href=\"#m387d8f98b3\" y=\"198.687317\"/>\r\n     <use style=\"fill:#ff0000;stroke:#ff0000;\" x=\"137.790804\" xlink:href=\"#m387d8f98b3\" y=\"175.019925\"/>\r\n     <use style=\"fill:#ff0000;stroke:#ff0000;\" x=\"126.479714\" xlink:href=\"#m387d8f98b3\" y=\"185.953593\"/>\r\n     <use style=\"fill:#ff0000;stroke:#ff0000;\" x=\"109.670413\" xlink:href=\"#m387d8f98b3\" y=\"196.687256\"/>\r\n     <use style=\"fill:#ff0000;stroke:#ff0000;\" x=\"99.656381\" xlink:href=\"#m387d8f98b3\" y=\"199.687348\"/>\r\n     <use style=\"fill:#ff0000;stroke:#ff0000;\" x=\"184.340646\" xlink:href=\"#m387d8f98b3\" y=\"156.019342\"/>\r\n     <use style=\"fill:#ff0000;stroke:#ff0000;\" x=\"108.375229\" xlink:href=\"#m387d8f98b3\" y=\"192.753802\"/>\r\n     <use style=\"fill:#ff0000;stroke:#ff0000;\" x=\"107.569836\" xlink:href=\"#m387d8f98b3\" y=\"193.687164\"/>\r\n     <use style=\"fill:#ff0000;stroke:#ff0000;\" x=\"141.283962\" xlink:href=\"#m387d8f98b3\" y=\"186.120265\"/>\r\n     <use style=\"fill:#ff0000;stroke:#ff0000;\" x=\"215.48688\" xlink:href=\"#m387d8f98b3\" y=\"137.352103\"/>\r\n     <use style=\"fill:#ff0000;stroke:#ff0000;\" x=\"102.836747\" xlink:href=\"#m387d8f98b3\" y=\"198.687317\"/>\r\n     <use style=\"fill:#ff0000;stroke:#ff0000;\" x=\"117.333821\" xlink:href=\"#m387d8f98b3\" y=\"198.753986\"/>\r\n     <use style=\"fill:#ff0000;stroke:#ff0000;\" x=\"100.54044\" xlink:href=\"#m387d8f98b3\" y=\"202.220759\"/>\r\n     <use style=\"fill:#ff0000;stroke:#ff0000;\" x=\"128.193516\" xlink:href=\"#m387d8f98b3\" y=\"187.013559\"/>\r\n     <use style=\"fill:#ff0000;stroke:#ff0000;\" x=\"99.701333\" xlink:href=\"#m387d8f98b3\" y=\"203.68747\"/>\r\n     <use style=\"fill:#ff0000;stroke:#ff0000;\" x=\"183.647634\" xlink:href=\"#m387d8f98b3\" y=\"152.352563\"/>\r\n     <use style=\"fill:#ff0000;stroke:#ff0000;\" x=\"121.446945\" xlink:href=\"#m387d8f98b3\" y=\"188.68701\"/>\r\n     <use style=\"fill:#ff0000;stroke:#ff0000;\" x=\"180.285586\" xlink:href=\"#m387d8f98b3\" y=\"165.352961\"/>\r\n     <use style=\"fill:#ff0000;stroke:#ff0000;\" x=\"141.647325\" xlink:href=\"#m387d8f98b3\" y=\"166.686336\"/>\r\n     <use style=\"fill:#ff0000;stroke:#ff0000;\" x=\"120.941233\" xlink:href=\"#m387d8f98b3\" y=\"191.553765\"/>\r\n     <use style=\"fill:#ff0000;stroke:#ff0000;\" x=\"119.753746\" xlink:href=\"#m387d8f98b3\" y=\"195.353881\"/>\r\n     <use style=\"fill:#ff0000;stroke:#ff0000;\" x=\"96.75322\" xlink:href=\"#m387d8f98b3\" y=\"208.287611\"/>\r\n     <use style=\"fill:#ff0000;stroke:#ff0000;\" x=\"104.843674\" xlink:href=\"#m387d8f98b3\" y=\"197.687286\"/>\r\n     <use style=\"fill:#ff0000;stroke:#ff0000;\" x=\"95.601321\" xlink:href=\"#m387d8f98b3\" y=\"201.920749\"/>\r\n     <use style=\"fill:#ff0000;stroke:#ff0000;\" x=\"123.640236\" xlink:href=\"#m387d8f98b3\" y=\"190.353728\"/>\r\n     <use style=\"fill:#ff0000;stroke:#ff0000;\" x=\"107.27952\" xlink:href=\"#m387d8f98b3\" y=\"191.353759\"/>\r\n     <use style=\"fill:#ff0000;stroke:#ff0000;\" x=\"124.05417\" xlink:href=\"#m387d8f98b3\" y=\"184.686888\"/>\r\n     <use style=\"fill:#ff0000;stroke:#ff0000;\" x=\"169.609446\" xlink:href=\"#m387d8f98b3\" y=\"175.353268\"/>\r\n     <use style=\"fill:#ff0000;stroke:#ff0000;\" x=\"129.636668\" xlink:href=\"#m387d8f98b3\" y=\"185.786855\"/>\r\n     <use style=\"fill:#ff0000;stroke:#ff0000;\" x=\"137.281346\" xlink:href=\"#m387d8f98b3\" y=\"186.026929\"/>\r\n     <use style=\"fill:#ff0000;stroke:#ff0000;\" x=\"170.502871\" xlink:href=\"#m387d8f98b3\" y=\"162.619544\"/>\r\n     <use style=\"fill:#ff0000;stroke:#ff0000;\" x=\"104.573961\" xlink:href=\"#m387d8f98b3\" y=\"202.020752\"/>\r\n     <use style=\"fill:#ff0000;stroke:#ff0000;\" x=\"101.136057\" xlink:href=\"#m387d8f98b3\" y=\"196.701523\"/>\r\n     <use style=\"fill:#ff0000;stroke:#ff0000;\" x=\"115.857892\" xlink:href=\"#m387d8f98b3\" y=\"193.35382\"/>\r\n     <use style=\"fill:#ff0000;stroke:#ff0000;\" x=\"96.828141\" xlink:href=\"#m387d8f98b3\" y=\"201.354065\"/>\r\n     <use style=\"fill:#ff0000;stroke:#ff0000;\" x=\"89.163796\" xlink:href=\"#m387d8f98b3\" y=\"209.420979\"/>\r\n     <use style=\"fill:#ff0000;stroke:#ff0000;\" x=\"136.565857\" xlink:href=\"#m387d8f98b3\" y=\"175.553274\"/>\r\n     <use style=\"fill:#ff0000;stroke:#ff0000;\" x=\"125.807305\" xlink:href=\"#m387d8f98b3\" y=\"182.020139\"/>\r\n     <use style=\"fill:#ff0000;stroke:#ff0000;\" x=\"93.100857\" xlink:href=\"#m387d8f98b3\" y=\"208.687623\"/>\r\n     <use style=\"fill:#ff0000;stroke:#ff0000;\" x=\"114.093519\" xlink:href=\"#m387d8f98b3\" y=\"190.020384\"/>\r\n     <use style=\"fill:#ff0000;stroke:#ff0000;\" x=\"126.728824\" xlink:href=\"#m387d8f98b3\" y=\"188.353667\"/>\r\n     <use style=\"fill:#ff0000;stroke:#ff0000;\" x=\"202.608084\" xlink:href=\"#m387d8f98b3\" y=\"155.019311\"/>\r\n     <use style=\"fill:#ff0000;stroke:#ff0000;\" x=\"111.646435\" xlink:href=\"#m387d8f98b3\" y=\"198.687317\"/>\r\n     <use style=\"fill:#ff0000;stroke:#ff0000;\" x=\"99.79873\" xlink:href=\"#m387d8f98b3\" y=\"200.687378\"/>\r\n     <use style=\"fill:#ff0000;stroke:#ff0000;\" x=\"103.951186\" xlink:href=\"#m387d8f98b3\" y=\"202.354096\"/>\r\n     <use style=\"fill:#ff0000;stroke:#ff0000;\" x=\"114.880182\" xlink:href=\"#m387d8f98b3\" y=\"193.146414\"/>\r\n     <use style=\"fill:#ff0000;stroke:#ff0000;\" x=\"125.67994\" xlink:href=\"#m387d8f98b3\" y=\"191.353759\"/>\r\n     <use style=\"fill:#ff0000;stroke:#ff0000;\" x=\"101.177263\" xlink:href=\"#m387d8f98b3\" y=\"202.020752\"/>\r\n     <use style=\"fill:#ff0000;stroke:#ff0000;\" x=\"119.431589\" xlink:href=\"#m387d8f98b3\" y=\"190.620403\"/>\r\n     <use style=\"fill:#ff0000;stroke:#ff0000;\" x=\"131.941403\" xlink:href=\"#m387d8f98b3\" y=\"177.953348\"/>\r\n     <use style=\"fill:#ff0000;stroke:#ff0000;\" x=\"157.8582\" xlink:href=\"#m387d8f98b3\" y=\"165.552968\"/>\r\n     <use style=\"fill:#ff0000;stroke:#ff0000;\" x=\"98.384609\" xlink:href=\"#m387d8f98b3\" y=\"204.687501\"/>\r\n     <use style=\"fill:#ff0000;stroke:#ff0000;\" x=\"155.443894\" xlink:href=\"#m387d8f98b3\" y=\"179.020047\"/>\r\n     <use style=\"fill:#ff0000;stroke:#ff0000;\" x=\"127.489265\" xlink:href=\"#m387d8f98b3\" y=\"191.687102\"/>\r\n     <use style=\"fill:#ff0000;stroke:#ff0000;\" x=\"181.694087\" xlink:href=\"#m387d8f98b3\" y=\"154.019281\"/>\r\n     <use style=\"fill:#ff0000;stroke:#ff0000;\" x=\"180.763203\" xlink:href=\"#m387d8f98b3\" y=\"149.352471\"/>\r\n     <use style=\"fill:#ff0000;stroke:#ff0000;\" x=\"124.553327\" xlink:href=\"#m387d8f98b3\" y=\"184.55355\"/>\r\n     <use style=\"fill:#ff0000;stroke:#ff0000;\" x=\"206.127464\" xlink:href=\"#m387d8f98b3\" y=\"139.952183\"/>\r\n     <use style=\"fill:#ff0000;stroke:#ff0000;\" x=\"139.720937\" xlink:href=\"#m387d8f98b3\" y=\"175.353268\"/>\r\n     <use style=\"fill:#ff0000;stroke:#ff0000;\" x=\"112.891049\" xlink:href=\"#m387d8f98b3\" y=\"197.020599\"/>\r\n     <use style=\"fill:#ff0000;stroke:#ff0000;\" x=\"161.6885\" xlink:href=\"#m387d8f98b3\" y=\"170.019771\"/>\r\n     <use style=\"fill:#ff0000;stroke:#ff0000;\" x=\"103.923091\" xlink:href=\"#m387d8f98b3\" y=\"201.487403\"/>\r\n     <use style=\"fill:#ff0000;stroke:#ff0000;\" x=\"137.700899\" xlink:href=\"#m387d8f98b3\" y=\"191.353759\"/>\r\n     <use style=\"fill:#ff0000;stroke:#ff0000;\" x=\"112.235496\" xlink:href=\"#m387d8f98b3\" y=\"191.420427\"/>\r\n     <use style=\"fill:#ff0000;stroke:#ff0000;\" x=\"123.432332\" xlink:href=\"#m387d8f98b3\" y=\"189.687041\"/>\r\n     <use style=\"fill:#ff0000;stroke:#ff0000;\" x=\"124.096313\" xlink:href=\"#m387d8f98b3\" y=\"186.086931\"/>\r\n     <use style=\"fill:#ff0000;stroke:#ff0000;\" x=\"110.590996\" xlink:href=\"#m387d8f98b3\" y=\"191.687102\"/>\r\n     <use style=\"fill:#ff0000;stroke:#ff0000;\" x=\"104.648881\" xlink:href=\"#m387d8f98b3\" y=\"191.880441\"/>\r\n     <use style=\"fill:#ff0000;stroke:#ff0000;\" x=\"105.176133\" xlink:href=\"#m387d8f98b3\" y=\"195.174609\"/>\r\n     <use style=\"fill:#ff0000;stroke:#ff0000;\" x=\"107.343202\" xlink:href=\"#m387d8f98b3\" y=\"195.353881\"/>\r\n     <use style=\"fill:#ff0000;stroke:#ff0000;\" x=\"119.184352\" xlink:href=\"#m387d8f98b3\" y=\"188.353667\"/>\r\n     <use style=\"fill:#ff0000;stroke:#ff0000;\" x=\"360.202892\" xlink:href=\"#m387d8f98b3\" y=\"27.682074\"/>\r\n     <use style=\"fill:#ff0000;stroke:#ff0000;\" x=\"120.993677\" xlink:href=\"#m387d8f98b3\" y=\"190.353728\"/>\r\n     <use style=\"fill:#ff0000;stroke:#ff0000;\" x=\"161.17155\" xlink:href=\"#m387d8f98b3\" y=\"168.686397\"/>\r\n     <use style=\"fill:#ff0000;stroke:#ff0000;\" x=\"117.378773\" xlink:href=\"#m387d8f98b3\" y=\"195.353881\"/>\r\n     <use style=\"fill:#ff0000;stroke:#ff0000;\" x=\"120.368093\" xlink:href=\"#m387d8f98b3\" y=\"192.82047\"/>\r\n     <use style=\"fill:#ff0000;stroke:#ff0000;\" x=\"96.723252\" xlink:href=\"#m387d8f98b3\" y=\"204.687501\"/>\r\n     <use style=\"fill:#ff0000;stroke:#ff0000;\" x=\"121.536849\" xlink:href=\"#m387d8f98b3\" y=\"191.687102\"/>\r\n     <use style=\"fill:#ff0000;stroke:#ff0000;\" x=\"186.226764\" xlink:href=\"#m387d8f98b3\" y=\"155.685998\"/>\r\n     <use style=\"fill:#ff0000;stroke:#ff0000;\" x=\"184.025981\" xlink:href=\"#m387d8f98b3\" y=\"158.68609\"/>\r\n     <use style=\"fill:#ff0000;stroke:#ff0000;\" x=\"103.951186\" xlink:href=\"#m387d8f98b3\" y=\"202.354096\"/>\r\n     <use style=\"fill:#ff0000;stroke:#ff0000;\" x=\"102.293575\" xlink:href=\"#m387d8f98b3\" y=\"200.887384\"/>\r\n     <use style=\"fill:#ff0000;stroke:#ff0000;\" x=\"145.929019\" xlink:href=\"#m387d8f98b3\" y=\"168.353053\"/>\r\n     <use style=\"fill:#ff0000;stroke:#ff0000;\" x=\"190.206904\" xlink:href=\"#m387d8f98b3\" y=\"157.886066\"/>\r\n     <use style=\"fill:#ff0000;stroke:#ff0000;\" x=\"282.274563\" xlink:href=\"#m387d8f98b3\" y=\"95.350815\"/>\r\n     <use style=\"fill:#ff0000;stroke:#ff0000;\" x=\"123.702045\" xlink:href=\"#m387d8f98b3\" y=\"184.820225\"/>\r\n     <use style=\"fill:#ff0000;stroke:#ff0000;\" x=\"102.449035\" xlink:href=\"#m387d8f98b3\" y=\"199.354004\"/>\r\n     <use style=\"fill:#ff0000;stroke:#ff0000;\" x=\"114.54585\" xlink:href=\"#m387d8f98b3\" y=\"192.020446\"/>\r\n     <use style=\"fill:#ff0000;stroke:#ff0000;\" x=\"119.311717\" xlink:href=\"#m387d8f98b3\" y=\"193.687164\"/>\r\n     <use style=\"fill:#ff0000;stroke:#ff0000;\" x=\"117.273885\" xlink:href=\"#m387d8f98b3\" y=\"198.687317\"/>\r\n     <use style=\"fill:#ff0000;stroke:#ff0000;\" x=\"203.199954\" xlink:href=\"#m387d8f98b3\" y=\"145.685692\"/>\r\n     <use style=\"fill:#ff0000;stroke:#ff0000;\" x=\"121.902085\" xlink:href=\"#m387d8f98b3\" y=\"191.187087\"/>\r\n     <use style=\"fill:#ff0000;stroke:#ff0000;\" x=\"201.69312\" xlink:href=\"#m387d8f98b3\" y=\"144.018974\"/>\r\n     <use style=\"fill:#ff0000;stroke:#ff0000;\" x=\"128.291849\" xlink:href=\"#m387d8f98b3\" y=\"191.353759\"/>\r\n     <use style=\"fill:#ff0000;stroke:#ff0000;\" x=\"127.133394\" xlink:href=\"#m387d8f98b3\" y=\"191.020415\"/>\r\n     <use style=\"fill:#ff0000;stroke:#ff0000;\" x=\"123.177603\" xlink:href=\"#m387d8f98b3\" y=\"189.820378\"/>\r\n     <use style=\"fill:#ff0000;stroke:#ff0000;\" x=\"120.218252\" xlink:href=\"#m387d8f98b3\" y=\"193.020476\"/>\r\n     <use style=\"fill:#ff0000;stroke:#ff0000;\" x=\"109.380097\" xlink:href=\"#m387d8f98b3\" y=\"192.353789\"/>\r\n     <use style=\"fill:#ff0000;stroke:#ff0000;\" x=\"99.990713\" xlink:href=\"#m387d8f98b3\" y=\"204.354157\"/>\r\n     <use style=\"fill:#ff0000;stroke:#ff0000;\" x=\"120.112427\" xlink:href=\"#m387d8f98b3\" y=\"192.287121\"/>\r\n     <use style=\"fill:#ff0000;stroke:#ff0000;\" x=\"91.866545\" xlink:href=\"#m387d8f98b3\" y=\"204.687501\"/>\r\n     <use style=\"fill:#ff0000;stroke:#ff0000;\" x=\"189.202973\" xlink:href=\"#m387d8f98b3\" y=\"147.685753\"/>\r\n     <use style=\"fill:#ff0000;stroke:#ff0000;\" x=\"178.408833\" xlink:href=\"#m387d8f98b3\" y=\"157.352716\"/>\r\n     <use style=\"fill:#ff0000;stroke:#ff0000;\" x=\"116.599602\" xlink:href=\"#m387d8f98b3\" y=\"190.613736\"/>\r\n    </g>\r\n   </g>\r\n   <g id=\"line2d_15\">\r\n    <path clip-path=\"url(#pfa7fe0cee8)\" d=\"M 58.999432 225.354801 \r\nL 363.363068 52.016153 \r\n\" style=\"fill:none;stroke:#008000;stroke-linecap:square;stroke-width:1.5;\"/>\r\n   </g>\r\n   <g id=\"patch_3\">\r\n    <path d=\"M 43.78125 235.238438 \r\nL 43.78125 17.798438 \r\n\" style=\"fill:none;stroke:#000000;stroke-linecap:square;stroke-linejoin:miter;stroke-width:0.8;\"/>\r\n   </g>\r\n   <g id=\"patch_4\">\r\n    <path d=\"M 378.58125 235.238438 \r\nL 378.58125 17.798438 \r\n\" style=\"fill:none;stroke:#000000;stroke-linecap:square;stroke-linejoin:miter;stroke-width:0.8;\"/>\r\n   </g>\r\n   <g id=\"patch_5\">\r\n    <path d=\"M 43.78125 235.238438 \r\nL 378.58125 235.238438 \r\n\" style=\"fill:none;stroke:#000000;stroke-linecap:square;stroke-linejoin:miter;stroke-width:0.8;\"/>\r\n   </g>\r\n   <g id=\"patch_6\">\r\n    <path d=\"M 43.78125 17.798438 \r\nL 378.58125 17.798438 \r\n\" style=\"fill:none;stroke:#000000;stroke-linecap:square;stroke-linejoin:miter;stroke-width:0.8;\"/>\r\n   </g>\r\n  </g>\r\n </g>\r\n <defs>\r\n  <clipPath id=\"pfa7fe0cee8\">\r\n   <rect height=\"217.44\" width=\"334.8\" x=\"43.78125\" y=\"17.798438\"/>\r\n  </clipPath>\r\n </defs>\r\n</svg>\r\n",
      "image/png": "[encoded data removed]"
     },
     "metadata": {
      "needs_background": "light"
     }
    }
   ],
   "source": [
    "# Plotting graph between real and predicted values\n",
    "plt.plot(y_pred,y_test,'ro')\n",
    "plt.plot([400000,3000000],[400000,3000000], 'g-')\n",
    "plt.xlabel('Predicted')\n",
    "plt.ylabel('Real')\n",
    "plt.show()"
   ]
  },
  {
   "source": [
    "#### Comparing some of the individual `y_test` and the corresponding `y_pred` values "
   ],
   "cell_type": "markdown",
   "metadata": {}
  },
  {
   "cell_type": "code",
   "execution_count": 23,
   "metadata": {},
   "outputs": [
    {
     "output_type": "stream",
     "name": "stdout",
     "text": [
      "y_test[0]:    920,000    y_pred[0]:    935,028   Difference (% of y_test):   1.63%\ny_test[1]:    769,000    y_pred[1]:    746,892   Difference (% of y_test):  -2.87%\ny_test[2]:    880,000    y_pred[2]:    851,212   Difference (% of y_test):  -3.27%\ny_test[3]:    781,200    y_pred[3]:    781,324   Difference (% of y_test):   0.02%\ny_test[4]:  1,500,000    y_pred[4]:  1,574,492   Difference (% of y_test):   4.97%\ny_test[5]:    982,222    y_pred[5]:    957,996   Difference (% of y_test):  -2.47%\ny_test[6]:    885,000    y_pred[6]:    880,588   Difference (% of y_test):  -0.50%\ny_test[7]:    700,000    y_pred[7]:    649,580   Difference (% of y_test):  -7.20%\ny_test[8]:    800,000    y_pred[8]:    756,300   Difference (% of y_test):  -5.46%\ny_test[9]:    685,000    y_pred[9]:    712,684   Difference (% of y_test):   4.04%\ny_test[10]:    915,000    y_pred[10]:    849,612   Difference (% of y_test):  -7.15%\ny_test[11]:    878,000    y_pred[11]:    891,180   Difference (% of y_test):   1.50%\ny_test[12]:    735,000    y_pred[12]:    760,940   Difference (% of y_test):   3.53%\ny_test[13]:    720,000    y_pred[13]:    703,724   Difference (% of y_test):  -2.26%\ny_test[14]:  1,055,000    y_pred[14]:  1,154,700   Difference (% of y_test):   9.45%\ny_test[15]:    874,000    y_pred[15]:    897,900   Difference (% of y_test):   2.73%\ny_test[16]:    751,000    y_pred[16]:    821,404   Difference (% of y_test):   9.37%\ny_test[17]:    668,000    y_pred[17]:    700,956   Difference (% of y_test):   4.93%\ny_test[18]:  1,650,000    y_pred[18]:  1,617,292   Difference (% of y_test):  -1.98%\ny_test[19]:  1,215,000    y_pred[19]:  1,289,132   Difference (% of y_test):   6.10%\ny_test[20]:    890,000    y_pred[20]:    940,140   Difference (% of y_test):   5.63%\ny_test[21]:    968,000    y_pred[21]:    944,012   Difference (% of y_test):  -2.48%\ny_test[22]:    886,000    y_pred[22]:    971,212   Difference (% of y_test):   9.62%\ny_test[23]:    877,000    y_pred[23]:    905,332   Difference (% of y_test):   3.23%\ny_test[24]:    895,000    y_pred[24]:    968,940   Difference (% of y_test):   8.26%\ny_test[25]:  1,320,000    y_pred[25]:  1,333,084   Difference (% of y_test):   0.99%\ny_test[26]:    920,000    y_pred[26]:    895,956   Difference (% of y_test):  -2.61%\ny_test[27]:  1,510,055    y_pred[27]:  1,359,020   Difference (% of y_test): -10.00%\ny_test[28]:  1,020,000    y_pred[28]:  1,108,332   Difference (% of y_test):   8.66%\ny_test[29]:    700,000    y_pred[29]:    649,580   Difference (% of y_test):  -7.20%\ny_test[30]:    810,000    y_pred[30]:    776,828   Difference (% of y_test):  -4.10%\ny_test[31]:    955,000    y_pred[31]:    926,076   Difference (% of y_test):  -3.03%\ny_test[32]:    830,000    y_pred[32]:    826,764   Difference (% of y_test):  -0.39%\ny_test[33]:    726,000    y_pred[33]:    726,604   Difference (% of y_test):   0.08%\ny_test[34]:    831,000    y_pred[34]:    772,252   Difference (% of y_test):  -7.07%\ny_test[35]:    830,000    y_pred[35]:    850,316   Difference (% of y_test):   2.45%\ny_test[36]:    967,500    y_pred[36]:  1,002,892   Difference (% of y_test):   3.66%\ny_test[37]:  1,582,000    y_pred[37]:  1,593,900   Difference (% of y_test):   0.75%\ny_test[38]:  1,220,000    y_pred[38]:  1,243,908   Difference (% of y_test):   1.96%\ny_test[39]:  1,234,000    y_pred[39]:  1,279,164   Difference (% of y_test):   3.66%\ny_test[40]:    872,000    y_pred[40]:    834,020   Difference (% of y_test):  -4.36%\ny_test[41]:    665,000    y_pred[41]:    670,716   Difference (% of y_test):   0.86%\ny_test[42]:  1,820,000    y_pred[42]:  1,575,900   Difference (% of y_test): -13.41%\ny_test[43]:    757,000    y_pred[43]:    769,132   Difference (% of y_test):   1.60%\ny_test[44]:    800,000    y_pred[44]:    805,308   Difference (% of y_test):   0.66%\ny_test[45]:    950,000    y_pred[45]:  1,001,628   Difference (% of y_test):   5.43%\ny_test[46]:  1,090,000    y_pred[46]:  1,112,748   Difference (% of y_test):   2.09%\ny_test[47]:  1,595,000    y_pred[47]:  1,606,476   Difference (% of y_test):   0.72%\ny_test[48]:    770,000    y_pred[48]:    808,684   Difference (% of y_test):   5.02%\ny_test[49]:  1,160,000    y_pred[49]:  1,080,188   Difference (% of y_test):  -6.88%\n"
     ]
    }
   ],
   "source": [
    "# Comparing some of the individual actual values (y_test) with their respective predicted values (y_pred)\n",
    "for i in range(50):\n",
    "    print(f\"y_test[{i}]: {y_test[i]:10,.0f}    y_pred[{i}]: {y_pred[i]:10,.0f}   Difference (% of y_test): {((y_pred[i]-y_test[i])/y_test[i])*100:6.2f}%\")"
   ]
  },
  {
   "cell_type": "code",
   "execution_count": null,
   "metadata": {},
   "outputs": [],
   "source": []
  }
 ]
}